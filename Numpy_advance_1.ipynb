{
  "nbformat": 4,
  "nbformat_minor": 0,
  "metadata": {
    "colab": {
      "provenance": [],
      "authorship_tag": "ABX9TyP4yuZOZyr1bQXIB/qNW5Rk",
      "include_colab_link": true
    },
    "kernelspec": {
      "name": "python3",
      "display_name": "Python 3"
    },
    "language_info": {
      "name": "python"
    }
  },
  "cells": [
    {
      "cell_type": "markdown",
      "metadata": {
        "id": "view-in-github",
        "colab_type": "text"
      },
      "source": [
        "<a href=\"https://colab.research.google.com/github/CodesbyHim/Numpy/blob/main/Numpy_advance_1.ipynb\" target=\"_parent\"><img src=\"https://colab.research.google.com/assets/colab-badge.svg\" alt=\"Open In Colab\"/></a>"
      ]
    },
    {
      "cell_type": "code",
      "source": [
        "import numpy as np"
      ],
      "metadata": {
        "id": "KBhs4vn38x1a"
      },
      "execution_count": 1,
      "outputs": []
    },
    {
      "cell_type": "code",
      "source": [
        "a = np.zeros(5) #Return a new array of given shape and type, filled with zeros."
      ],
      "metadata": {
        "id": "kffD8ej6xnPk"
      },
      "execution_count": 2,
      "outputs": []
    },
    {
      "cell_type": "code",
      "source": [
        "a"
      ],
      "metadata": {
        "colab": {
          "base_uri": "https://localhost:8080/"
        },
        "id": "moGRsfx8xp9v",
        "outputId": "5a1e5cff-7369-480c-b292-47bf042b10b8"
      },
      "execution_count": 3,
      "outputs": [
        {
          "output_type": "execute_result",
          "data": {
            "text/plain": [
              "array([0., 0., 0., 0., 0.])"
            ]
          },
          "metadata": {},
          "execution_count": 3
        }
      ]
    },
    {
      "cell_type": "code",
      "source": [
        "a.ndim"
      ],
      "metadata": {
        "colab": {
          "base_uri": "https://localhost:8080/"
        },
        "id": "1whrVWixxt-G",
        "outputId": "20e19bd1-2d49-42ab-aabe-c8c53839018d"
      },
      "execution_count": 4,
      "outputs": [
        {
          "output_type": "execute_result",
          "data": {
            "text/plain": [
              "1"
            ]
          },
          "metadata": {},
          "execution_count": 4
        }
      ]
    },
    {
      "cell_type": "code",
      "source": [
        "b = np.zeros((3,4))"
      ],
      "metadata": {
        "id": "HklT81iDyfzk"
      },
      "execution_count": 5,
      "outputs": []
    },
    {
      "cell_type": "code",
      "source": [
        "b"
      ],
      "metadata": {
        "colab": {
          "base_uri": "https://localhost:8080/"
        },
        "id": "njp0EbUHykUW",
        "outputId": "86fdf461-ff5c-4aa9-821c-dee06140af9d"
      },
      "execution_count": 6,
      "outputs": [
        {
          "output_type": "execute_result",
          "data": {
            "text/plain": [
              "array([[0., 0., 0., 0.],\n",
              "       [0., 0., 0., 0.],\n",
              "       [0., 0., 0., 0.]])"
            ]
          },
          "metadata": {},
          "execution_count": 6
        }
      ]
    },
    {
      "cell_type": "code",
      "source": [
        "b.ndim"
      ],
      "metadata": {
        "colab": {
          "base_uri": "https://localhost:8080/"
        },
        "id": "adwUNXmnyk6E",
        "outputId": "5ca20e00-7099-4a84-a370-e7f0a8f64cf9"
      },
      "execution_count": 7,
      "outputs": [
        {
          "output_type": "execute_result",
          "data": {
            "text/plain": [
              "2"
            ]
          },
          "metadata": {},
          "execution_count": 7
        }
      ]
    },
    {
      "cell_type": "code",
      "source": [
        "np.ones((3,4))"
      ],
      "metadata": {
        "colab": {
          "base_uri": "https://localhost:8080/"
        },
        "id": "JhZyg_zCyypU",
        "outputId": "7ca18f8b-38dd-41d1-8bab-63b9f6987b48"
      },
      "execution_count": 8,
      "outputs": [
        {
          "output_type": "execute_result",
          "data": {
            "text/plain": [
              "array([[1., 1., 1., 1.],\n",
              "       [1., 1., 1., 1.],\n",
              "       [1., 1., 1., 1.]])"
            ]
          },
          "metadata": {},
          "execution_count": 8
        }
      ]
    },
    {
      "cell_type": "code",
      "source": [
        "np.two(5) #doesn't exists in numpy"
      ],
      "metadata": {
        "colab": {
          "base_uri": "https://localhost:8080/",
          "height": 263
        },
        "id": "_pvWqgTjy2GO",
        "outputId": "f1f84b65-870b-4234-963e-815f56e8aa16"
      },
      "execution_count": 9,
      "outputs": [
        {
          "output_type": "error",
          "ename": "AttributeError",
          "evalue": "module 'numpy' has no attribute 'two'",
          "traceback": [
            "\u001b[0;31m---------------------------------------------------------------------------\u001b[0m",
            "\u001b[0;31mAttributeError\u001b[0m                            Traceback (most recent call last)",
            "\u001b[0;32m<ipython-input-9-7f3b73e0f14b>\u001b[0m in \u001b[0;36m<cell line: 1>\u001b[0;34m()\u001b[0m\n\u001b[0;32m----> 1\u001b[0;31m \u001b[0mnp\u001b[0m\u001b[0;34m.\u001b[0m\u001b[0mtwo\u001b[0m\u001b[0;34m(\u001b[0m\u001b[0;36m5\u001b[0m\u001b[0;34m)\u001b[0m \u001b[0;31m#doesn't exists in numpy\u001b[0m\u001b[0;34m\u001b[0m\u001b[0;34m\u001b[0m\u001b[0m\n\u001b[0m",
            "\u001b[0;32m/usr/local/lib/python3.10/dist-packages/numpy/__init__.py\u001b[0m in \u001b[0;36m__getattr__\u001b[0;34m(attr)\u001b[0m\n\u001b[1;32m    326\u001b[0m             \u001b[0;32mraise\u001b[0m \u001b[0mRuntimeError\u001b[0m\u001b[0;34m(\u001b[0m\u001b[0;34m\"Tester was removed in NumPy 1.25.\"\u001b[0m\u001b[0;34m)\u001b[0m\u001b[0;34m\u001b[0m\u001b[0;34m\u001b[0m\u001b[0m\n\u001b[1;32m    327\u001b[0m \u001b[0;34m\u001b[0m\u001b[0m\n\u001b[0;32m--> 328\u001b[0;31m         raise AttributeError(\"module {!r} has no attribute \"\n\u001b[0m\u001b[1;32m    329\u001b[0m                              \"{!r}\".format(__name__, attr))\n\u001b[1;32m    330\u001b[0m \u001b[0;34m\u001b[0m\u001b[0m\n",
            "\u001b[0;31mAttributeError\u001b[0m: module 'numpy' has no attribute 'two'"
          ]
        }
      ]
    },
    {
      "cell_type": "code",
      "source": [
        "np.array([[2,2,2],[2,2,2]])"
      ],
      "metadata": {
        "id": "48smNVN1y9uG",
        "colab": {
          "base_uri": "https://localhost:8080/"
        },
        "outputId": "c51753d3-55e6-4c8d-8b99-6eeb1008370a"
      },
      "execution_count": 64,
      "outputs": [
        {
          "output_type": "execute_result",
          "data": {
            "text/plain": [
              "array([[2, 2, 2],\n",
              "       [2, 2, 2]])"
            ]
          },
          "metadata": {},
          "execution_count": 64
        }
      ]
    },
    {
      "cell_type": "code",
      "source": [
        "arr = np.zeros((3,4))"
      ],
      "metadata": {
        "id": "4bOvqId4zJdd"
      },
      "execution_count": 65,
      "outputs": []
    },
    {
      "cell_type": "code",
      "source": [
        "arr"
      ],
      "metadata": {
        "id": "6p-3ahzlzEFu",
        "colab": {
          "base_uri": "https://localhost:8080/"
        },
        "outputId": "5ea76da9-2fae-4d0c-9e33-ea7870630ff1"
      },
      "execution_count": 66,
      "outputs": [
        {
          "output_type": "execute_result",
          "data": {
            "text/plain": [
              "array([[0., 0., 0., 0.],\n",
              "       [0., 0., 0., 0.],\n",
              "       [0., 0., 0., 0.]])"
            ]
          },
          "metadata": {},
          "execution_count": 66
        }
      ]
    },
    {
      "cell_type": "code",
      "source": [
        "arr.ndim"
      ],
      "metadata": {
        "id": "bjszXegszWCK",
        "colab": {
          "base_uri": "https://localhost:8080/"
        },
        "outputId": "6185b787-fc01-40e8-e844-0a25c80e9c3b"
      },
      "execution_count": 67,
      "outputs": [
        {
          "output_type": "execute_result",
          "data": {
            "text/plain": [
              "2"
            ]
          },
          "metadata": {},
          "execution_count": 67
        }
      ]
    },
    {
      "cell_type": "code",
      "source": [
        "#3 dimensional array"
      ],
      "metadata": {
        "id": "GeTJQVGizctl"
      },
      "execution_count": 68,
      "outputs": []
    },
    {
      "cell_type": "code",
      "source": [
        "np.zeros(1)"
      ],
      "metadata": {
        "id": "ISHX229dzil_",
        "colab": {
          "base_uri": "https://localhost:8080/"
        },
        "outputId": "0f576136-04c6-411f-fc46-e75cc047cb11"
      },
      "execution_count": 10,
      "outputs": [
        {
          "output_type": "execute_result",
          "data": {
            "text/plain": [
              "array([0.])"
            ]
          },
          "metadata": {},
          "execution_count": 10
        }
      ]
    },
    {
      "cell_type": "code",
      "source": [
        "np.zeros((2,3))"
      ],
      "metadata": {
        "id": "L6SrkFd0zmWa",
        "colab": {
          "base_uri": "https://localhost:8080/"
        },
        "outputId": "dc4e526d-c130-46cb-97a9-67ae35993afe"
      },
      "execution_count": 11,
      "outputs": [
        {
          "output_type": "execute_result",
          "data": {
            "text/plain": [
              "array([[0., 0., 0.],\n",
              "       [0., 0., 0.]])"
            ]
          },
          "metadata": {},
          "execution_count": 11
        }
      ]
    },
    {
      "cell_type": "code",
      "source": [
        "arr = np.zeros((3,4))\n",
        "arr.ndim"
      ],
      "metadata": {
        "id": "J-uDcFMSzqHz",
        "colab": {
          "base_uri": "https://localhost:8080/"
        },
        "outputId": "13175fa3-b6ee-4258-e826-0b47be5848f6"
      },
      "execution_count": 12,
      "outputs": [
        {
          "output_type": "execute_result",
          "data": {
            "text/plain": [
              "2"
            ]
          },
          "metadata": {},
          "execution_count": 12
        }
      ]
    },
    {
      "cell_type": "code",
      "source": [
        "arr = np.zeros((1,3,4))\n",
        "arr"
      ],
      "metadata": {
        "id": "3wSKNRIDzwwG",
        "colab": {
          "base_uri": "https://localhost:8080/"
        },
        "outputId": "b482eeec-54d0-41aa-caa7-7d6971fa17b7"
      },
      "execution_count": 13,
      "outputs": [
        {
          "output_type": "execute_result",
          "data": {
            "text/plain": [
              "array([[[0., 0., 0., 0.],\n",
              "        [0., 0., 0., 0.],\n",
              "        [0., 0., 0., 0.]]])"
            ]
          },
          "metadata": {},
          "execution_count": 13
        }
      ]
    },
    {
      "cell_type": "code",
      "source": [
        "# 4 dimensional array\n",
        "arr = np.zeros((1,1,3,4))\n",
        "arr"
      ],
      "metadata": {
        "id": "2vhg7wd20DOI",
        "colab": {
          "base_uri": "https://localhost:8080/"
        },
        "outputId": "0788a147-d025-443f-bdf1-17644cb3f34c"
      },
      "execution_count": 14,
      "outputs": [
        {
          "output_type": "execute_result",
          "data": {
            "text/plain": [
              "array([[[[0., 0., 0., 0.],\n",
              "         [0., 0., 0., 0.],\n",
              "         [0., 0., 0., 0.]]]])"
            ]
          },
          "metadata": {},
          "execution_count": 14
        }
      ]
    },
    {
      "cell_type": "code",
      "source": [
        "arr.ndim"
      ],
      "metadata": {
        "id": "EWMwkLCV1rKQ",
        "colab": {
          "base_uri": "https://localhost:8080/"
        },
        "outputId": "ced01012-c686-4ffa-de10-7f3ae79633b6"
      },
      "execution_count": 15,
      "outputs": [
        {
          "output_type": "execute_result",
          "data": {
            "text/plain": [
              "4"
            ]
          },
          "metadata": {},
          "execution_count": 15
        }
      ]
    },
    {
      "cell_type": "code",
      "source": [
        "# 5 dimensional array\n",
        "arr = np.zeros((1,1,1,3,4))\n",
        "arr"
      ],
      "metadata": {
        "id": "E-jT3ugz1vPE",
        "colab": {
          "base_uri": "https://localhost:8080/"
        },
        "outputId": "1645009e-4701-4357-afa0-9056319f6748"
      },
      "execution_count": 16,
      "outputs": [
        {
          "output_type": "execute_result",
          "data": {
            "text/plain": [
              "array([[[[[0., 0., 0., 0.],\n",
              "          [0., 0., 0., 0.],\n",
              "          [0., 0., 0., 0.]]]]])"
            ]
          },
          "metadata": {},
          "execution_count": 16
        }
      ]
    },
    {
      "cell_type": "code",
      "source": [
        "arr.ndim"
      ],
      "metadata": {
        "id": "E9Hk_uu95FEw",
        "colab": {
          "base_uri": "https://localhost:8080/"
        },
        "outputId": "cae0e101-b766-43e8-d805-582ed6536bd1"
      },
      "execution_count": 17,
      "outputs": [
        {
          "output_type": "execute_result",
          "data": {
            "text/plain": [
              "5"
            ]
          },
          "metadata": {},
          "execution_count": 17
        }
      ]
    },
    {
      "cell_type": "code",
      "source": [
        "arr = np.zeros((3,4))"
      ],
      "metadata": {
        "id": "DDIRVwv95F8t"
      },
      "execution_count": 18,
      "outputs": []
    },
    {
      "cell_type": "code",
      "source": [
        "arr"
      ],
      "metadata": {
        "id": "V664rMSr5NQL",
        "colab": {
          "base_uri": "https://localhost:8080/"
        },
        "outputId": "17206985-b0b5-41b8-d950-6feb248f267c"
      },
      "execution_count": 19,
      "outputs": [
        {
          "output_type": "execute_result",
          "data": {
            "text/plain": [
              "array([[0., 0., 0., 0.],\n",
              "       [0., 0., 0., 0.],\n",
              "       [0., 0., 0., 0.]])"
            ]
          },
          "metadata": {},
          "execution_count": 19
        }
      ]
    },
    {
      "cell_type": "code",
      "source": [
        "arr.shape"
      ],
      "metadata": {
        "id": "ThmUpM1z5YzX",
        "colab": {
          "base_uri": "https://localhost:8080/"
        },
        "outputId": "6941f192-ecde-43f2-b657-cf612ef5a71b"
      },
      "execution_count": 20,
      "outputs": [
        {
          "output_type": "execute_result",
          "data": {
            "text/plain": [
              "(3, 4)"
            ]
          },
          "metadata": {},
          "execution_count": 20
        }
      ]
    },
    {
      "cell_type": "code",
      "source": [
        "arr.size"
      ],
      "metadata": {
        "id": "dIuV-vFH5a05",
        "colab": {
          "base_uri": "https://localhost:8080/"
        },
        "outputId": "5a3575d1-6806-4fb9-88d7-bccc85799339"
      },
      "execution_count": 21,
      "outputs": [
        {
          "output_type": "execute_result",
          "data": {
            "text/plain": [
              "12"
            ]
          },
          "metadata": {},
          "execution_count": 21
        }
      ]
    },
    {
      "cell_type": "code",
      "source": [
        "arr.ndim"
      ],
      "metadata": {
        "id": "KDhiiEEh5cF_",
        "colab": {
          "base_uri": "https://localhost:8080/"
        },
        "outputId": "87f683b4-9e03-4f17-c6bb-7adc5804ddb0"
      },
      "execution_count": 22,
      "outputs": [
        {
          "output_type": "execute_result",
          "data": {
            "text/plain": [
              "2"
            ]
          },
          "metadata": {},
          "execution_count": 22
        }
      ]
    },
    {
      "cell_type": "code",
      "source": [
        "arr + 5"
      ],
      "metadata": {
        "id": "wowJpPc25iWu",
        "colab": {
          "base_uri": "https://localhost:8080/"
        },
        "outputId": "89397136-afe8-4c65-fb3f-cf2bb8afed97"
      },
      "execution_count": 23,
      "outputs": [
        {
          "output_type": "execute_result",
          "data": {
            "text/plain": [
              "array([[5., 5., 5., 5.],\n",
              "       [5., 5., 5., 5.],\n",
              "       [5., 5., 5., 5.]])"
            ]
          },
          "metadata": {},
          "execution_count": 23
        }
      ]
    },
    {
      "cell_type": "code",
      "source": [
        "arr"
      ],
      "metadata": {
        "id": "Wf_3JaIr5pMR",
        "colab": {
          "base_uri": "https://localhost:8080/"
        },
        "outputId": "258d6f66-e875-4a91-ac7d-fd25fa0b37fd"
      },
      "execution_count": 24,
      "outputs": [
        {
          "output_type": "execute_result",
          "data": {
            "text/plain": [
              "array([[0., 0., 0., 0.],\n",
              "       [0., 0., 0., 0.],\n",
              "       [0., 0., 0., 0.]])"
            ]
          },
          "metadata": {},
          "execution_count": 24
        }
      ]
    },
    {
      "cell_type": "code",
      "source": [
        "arr -5"
      ],
      "metadata": {
        "id": "2eSeCwd85sHa",
        "colab": {
          "base_uri": "https://localhost:8080/"
        },
        "outputId": "d5db06a4-872b-430c-f135-ea9512ce50e1"
      },
      "execution_count": 25,
      "outputs": [
        {
          "output_type": "execute_result",
          "data": {
            "text/plain": [
              "array([[-5., -5., -5., -5.],\n",
              "       [-5., -5., -5., -5.],\n",
              "       [-5., -5., -5., -5.]])"
            ]
          },
          "metadata": {},
          "execution_count": 25
        }
      ]
    },
    {
      "cell_type": "code",
      "source": [
        "arr * 5"
      ],
      "metadata": {
        "id": "1Q6wC3-e5vlH",
        "colab": {
          "base_uri": "https://localhost:8080/"
        },
        "outputId": "a71a3164-45af-49b9-b0a7-aef2a925dcf3"
      },
      "execution_count": 26,
      "outputs": [
        {
          "output_type": "execute_result",
          "data": {
            "text/plain": [
              "array([[0., 0., 0., 0.],\n",
              "       [0., 0., 0., 0.],\n",
              "       [0., 0., 0., 0.]])"
            ]
          },
          "metadata": {},
          "execution_count": 26
        }
      ]
    },
    {
      "cell_type": "code",
      "source": [
        "arr1 = np.ones((3,4))"
      ],
      "metadata": {
        "id": "iFmG8k2_5x1Z"
      },
      "execution_count": 27,
      "outputs": []
    },
    {
      "cell_type": "code",
      "source": [
        "arr1"
      ],
      "metadata": {
        "id": "iDyaO2qE56NI",
        "colab": {
          "base_uri": "https://localhost:8080/"
        },
        "outputId": "51361dd4-6e92-4d89-e8d7-0da5daa6e0ea"
      },
      "execution_count": 28,
      "outputs": [
        {
          "output_type": "execute_result",
          "data": {
            "text/plain": [
              "array([[1., 1., 1., 1.],\n",
              "       [1., 1., 1., 1.],\n",
              "       [1., 1., 1., 1.]])"
            ]
          },
          "metadata": {},
          "execution_count": 28
        }
      ]
    },
    {
      "cell_type": "code",
      "source": [
        "arr1 - 4"
      ],
      "metadata": {
        "id": "Ul5TgI3p58WW",
        "colab": {
          "base_uri": "https://localhost:8080/"
        },
        "outputId": "988c35b2-c573-4812-ef44-be9fd999141a"
      },
      "execution_count": 29,
      "outputs": [
        {
          "output_type": "execute_result",
          "data": {
            "text/plain": [
              "array([[-3., -3., -3., -3.],\n",
              "       [-3., -3., -3., -3.],\n",
              "       [-3., -3., -3., -3.]])"
            ]
          },
          "metadata": {},
          "execution_count": 29
        }
      ]
    },
    {
      "cell_type": "code",
      "source": [
        "np.eye(3) #Return a 2-D array with ones on the diagonal and zeros elsewhere."
      ],
      "metadata": {
        "id": "Sq3uTRyP6DJK",
        "colab": {
          "base_uri": "https://localhost:8080/"
        },
        "outputId": "2f1a5384-efcd-4630-9ae4-bb9027e00dc5"
      },
      "execution_count": 30,
      "outputs": [
        {
          "output_type": "execute_result",
          "data": {
            "text/plain": [
              "array([[1., 0., 0.],\n",
              "       [0., 1., 0.],\n",
              "       [0., 0., 1.]])"
            ]
          },
          "metadata": {},
          "execution_count": 30
        }
      ]
    },
    {
      "cell_type": "code",
      "source": [
        "np.eye(3,4)"
      ],
      "metadata": {
        "id": "vW5P3EqY6s97",
        "colab": {
          "base_uri": "https://localhost:8080/"
        },
        "outputId": "6c6cb194-5370-4903-803f-e1d80ea69cac"
      },
      "execution_count": 31,
      "outputs": [
        {
          "output_type": "execute_result",
          "data": {
            "text/plain": [
              "array([[1., 0., 0., 0.],\n",
              "       [0., 1., 0., 0.],\n",
              "       [0., 0., 1., 0.]])"
            ]
          },
          "metadata": {},
          "execution_count": 31
        }
      ]
    },
    {
      "cell_type": "code",
      "source": [
        "# useful in calculating the inverse of matrix"
      ],
      "metadata": {
        "id": "aWrjLzH569BC"
      },
      "execution_count": 32,
      "outputs": []
    },
    {
      "cell_type": "code",
      "source": [
        "np.empty((3,4)) #Return a new array of given shape and type, without initializing entries."
      ],
      "metadata": {
        "id": "5q2o6m5z7BQm",
        "colab": {
          "base_uri": "https://localhost:8080/"
        },
        "outputId": "18c9fa0e-aefe-431e-9ca1-afa015c46812"
      },
      "execution_count": 33,
      "outputs": [
        {
          "output_type": "execute_result",
          "data": {
            "text/plain": [
              "array([[1., 0., 0., 0.],\n",
              "       [0., 1., 0., 0.],\n",
              "       [0., 0., 1., 0.]])"
            ]
          },
          "metadata": {},
          "execution_count": 33
        }
      ]
    },
    {
      "cell_type": "code",
      "source": [
        "np.eye(3, dtype = int)"
      ],
      "metadata": {
        "id": "QLh8hjv_7Szu",
        "colab": {
          "base_uri": "https://localhost:8080/"
        },
        "outputId": "496fa98e-247a-41a4-947a-d38809077029"
      },
      "execution_count": 34,
      "outputs": [
        {
          "output_type": "execute_result",
          "data": {
            "text/plain": [
              "array([[1, 0, 0],\n",
              "       [0, 1, 0],\n",
              "       [0, 0, 1]])"
            ]
          },
          "metadata": {},
          "execution_count": 34
        }
      ]
    },
    {
      "cell_type": "code",
      "source": [
        "np.empty((3,4))"
      ],
      "metadata": {
        "id": "Zfpdlvy87l-p",
        "colab": {
          "base_uri": "https://localhost:8080/"
        },
        "outputId": "a6193722-3fd5-46d4-8f33-a1fcc0bc159d"
      },
      "execution_count": 35,
      "outputs": [
        {
          "output_type": "execute_result",
          "data": {
            "text/plain": [
              "array([[1., 0., 0., 0.],\n",
              "       [0., 1., 0., 0.],\n",
              "       [0., 0., 1., 0.]])"
            ]
          },
          "metadata": {},
          "execution_count": 35
        }
      ]
    },
    {
      "cell_type": "code",
      "source": [
        "# Optional\n",
        "# This random module helps us to generate a random number.\n",
        "\n",
        "import random\n",
        "random.choice((1,2,3,4,5))"
      ],
      "metadata": {
        "id": "co-DVuiU7wkl",
        "colab": {
          "base_uri": "https://localhost:8080/"
        },
        "outputId": "5ad8e948-4009-46db-edc2-6627a28b338a"
      },
      "execution_count": 36,
      "outputs": [
        {
          "output_type": "execute_result",
          "data": {
            "text/plain": [
              "3"
            ]
          },
          "metadata": {},
          "execution_count": 36
        }
      ]
    },
    {
      "cell_type": "code",
      "source": [
        "random.choice('Himanshu')"
      ],
      "metadata": {
        "id": "XgEkEYj_79sq",
        "colab": {
          "base_uri": "https://localhost:8080/",
          "height": 35
        },
        "outputId": "2a4a3f81-63d7-4fcc-e985-18a6e44f1565"
      },
      "execution_count": 37,
      "outputs": [
        {
          "output_type": "execute_result",
          "data": {
            "text/plain": [
              "'a'"
            ],
            "application/vnd.google.colaboratory.intrinsic+json": {
              "type": "string"
            }
          },
          "metadata": {},
          "execution_count": 37
        }
      ]
    },
    {
      "cell_type": "code",
      "source": [
        "random.randrange(1,100)"
      ],
      "metadata": {
        "id": "vCrVMSt58P37",
        "colab": {
          "base_uri": "https://localhost:8080/"
        },
        "outputId": "36fea104-56f8-44c9-d215-338740f92565"
      },
      "execution_count": 38,
      "outputs": [
        {
          "output_type": "execute_result",
          "data": {
            "text/plain": [
              "5"
            ]
          },
          "metadata": {},
          "execution_count": 38
        }
      ]
    },
    {
      "cell_type": "code",
      "source": [
        "random.random() # a random no. is generated between o(included) and 1(excluded)"
      ],
      "metadata": {
        "id": "ykYmK6SH8UuR",
        "colab": {
          "base_uri": "https://localhost:8080/"
        },
        "outputId": "118a00be-fb5f-40a5-b9e9-aed583378ce9"
      },
      "execution_count": 39,
      "outputs": [
        {
          "output_type": "execute_result",
          "data": {
            "text/plain": [
              "0.037769115828694244"
            ]
          },
          "metadata": {},
          "execution_count": 39
        }
      ]
    },
    {
      "cell_type": "code",
      "source": [
        "lis = [1, 2, 3, 4, 5]\n",
        "lis"
      ],
      "metadata": {
        "id": "zr-ChVY48gy_",
        "colab": {
          "base_uri": "https://localhost:8080/"
        },
        "outputId": "33522f40-0687-4353-b61e-2df1b2a4bcee"
      },
      "execution_count": 40,
      "outputs": [
        {
          "output_type": "execute_result",
          "data": {
            "text/plain": [
              "[1, 2, 3, 4, 5]"
            ]
          },
          "metadata": {},
          "execution_count": 40
        }
      ]
    },
    {
      "cell_type": "code",
      "source": [
        "random.shuffle(lis)"
      ],
      "metadata": {
        "id": "WYK0F5K98smi"
      },
      "execution_count": 41,
      "outputs": []
    },
    {
      "cell_type": "code",
      "source": [
        "lis"
      ],
      "metadata": {
        "id": "_v2okEeu8uJo",
        "colab": {
          "base_uri": "https://localhost:8080/"
        },
        "outputId": "dbbed488-59b5-4316-ed51-b051744bad50"
      },
      "execution_count": 42,
      "outputs": [
        {
          "output_type": "execute_result",
          "data": {
            "text/plain": [
              "[4, 2, 3, 1, 5]"
            ]
          },
          "metadata": {},
          "execution_count": 42
        }
      ]
    },
    {
      "cell_type": "code",
      "source": [
        "random.uniform(7,14)"
      ],
      "metadata": {
        "id": "YxJOkUl58wYM",
        "colab": {
          "base_uri": "https://localhost:8080/"
        },
        "outputId": "44cb9607-dc9b-471c-d3e2-0d72942e5695"
      },
      "execution_count": 43,
      "outputs": [
        {
          "output_type": "execute_result",
          "data": {
            "text/plain": [
              "11.451572839846747"
            ]
          },
          "metadata": {},
          "execution_count": 43
        }
      ]
    },
    {
      "cell_type": "code",
      "source": [
        "# to have random no.s related concepts in numpy\n",
        "np.array([])"
      ],
      "metadata": {
        "id": "KVkTBzI_84hn",
        "colab": {
          "base_uri": "https://localhost:8080/"
        },
        "outputId": "628afca7-7f3e-44c3-81b9-e6de15f0b781"
      },
      "execution_count": 44,
      "outputs": [
        {
          "output_type": "execute_result",
          "data": {
            "text/plain": [
              "array([], dtype=float64)"
            ]
          },
          "metadata": {},
          "execution_count": 44
        }
      ]
    },
    {
      "cell_type": "code",
      "source": [
        "np.random.random_sample()"
      ],
      "metadata": {
        "id": "jeWrxzGB9DKJ",
        "colab": {
          "base_uri": "https://localhost:8080/"
        },
        "outputId": "86d6c396-c9d2-4c83-af74-8a76f62f70ff"
      },
      "execution_count": 45,
      "outputs": [
        {
          "output_type": "execute_result",
          "data": {
            "text/plain": [
              "0.49075976764722684"
            ]
          },
          "metadata": {},
          "execution_count": 45
        }
      ]
    },
    {
      "cell_type": "markdown",
      "source": [],
      "metadata": {
        "id": "X5yCPnUE9rZb"
      }
    },
    {
      "cell_type": "code",
      "source": [
        "np.random.random_sample((5, ))"
      ],
      "metadata": {
        "id": "W6rSix8u9Rkw",
        "colab": {
          "base_uri": "https://localhost:8080/"
        },
        "outputId": "1e0875a5-906e-451a-fb48-6686ac3abea5"
      },
      "execution_count": 46,
      "outputs": [
        {
          "output_type": "execute_result",
          "data": {
            "text/plain": [
              "array([0.83115584, 0.69120982, 0.04316899, 0.1605445 , 0.40789928])"
            ]
          },
          "metadata": {},
          "execution_count": 46
        }
      ]
    },
    {
      "cell_type": "code",
      "source": [
        "np.random.rand(1)"
      ],
      "metadata": {
        "id": "Bzyg-WOj9XUz",
        "colab": {
          "base_uri": "https://localhost:8080/"
        },
        "outputId": "8eb4faf8-5a74-4f19-c4ff-9136ca68929a"
      },
      "execution_count": 47,
      "outputs": [
        {
          "output_type": "execute_result",
          "data": {
            "text/plain": [
              "array([0.97074337])"
            ]
          },
          "metadata": {},
          "execution_count": 47
        }
      ]
    },
    {
      "cell_type": "code",
      "source": [
        "np.random.rand(2,3)"
      ],
      "metadata": {
        "id": "fp6f1Wns9cMA",
        "colab": {
          "base_uri": "https://localhost:8080/"
        },
        "outputId": "de32da2c-4f46-4df2-9c33-ac8119878fbf"
      },
      "execution_count": 48,
      "outputs": [
        {
          "output_type": "execute_result",
          "data": {
            "text/plain": [
              "array([[0.51353877, 0.58614681, 0.69922724],\n",
              "       [0.61463668, 0.10187863, 0.9609998 ]])"
            ]
          },
          "metadata": {},
          "execution_count": 48
        }
      ]
    },
    {
      "cell_type": "code",
      "source": [
        "aw = np.random.random_sample((3,4 ))"
      ],
      "metadata": {
        "id": "IDWA2ibl9gvi"
      },
      "execution_count": 49,
      "outputs": []
    },
    {
      "cell_type": "code",
      "source": [
        "aw"
      ],
      "metadata": {
        "id": "Hf6T1OQz9ym6",
        "colab": {
          "base_uri": "https://localhost:8080/"
        },
        "outputId": "3d105007-18ef-4db4-a05a-6f6e4e7c9ae1"
      },
      "execution_count": 50,
      "outputs": [
        {
          "output_type": "execute_result",
          "data": {
            "text/plain": [
              "array([[0.94225889, 0.27925562, 0.54017756, 0.0111054 ],\n",
              "       [0.76500026, 0.17820264, 0.41313089, 0.21416826],\n",
              "       [0.61445752, 0.13437591, 0.92861704, 0.65311015]])"
            ]
          },
          "metadata": {},
          "execution_count": 50
        }
      ]
    },
    {
      "cell_type": "code",
      "source": [
        "aw.ndim"
      ],
      "metadata": {
        "id": "9XY3bFxV96Gy",
        "colab": {
          "base_uri": "https://localhost:8080/"
        },
        "outputId": "4ac913b1-c7f0-4b5b-e17a-6bb22e5f0e85"
      },
      "execution_count": 51,
      "outputs": [
        {
          "output_type": "execute_result",
          "data": {
            "text/plain": [
              "2"
            ]
          },
          "metadata": {},
          "execution_count": 51
        }
      ]
    },
    {
      "cell_type": "code",
      "source": [
        "np.random.randn(2,3)"
      ],
      "metadata": {
        "id": "5Np37Fki-AlO",
        "colab": {
          "base_uri": "https://localhost:8080/"
        },
        "outputId": "c523efb5-922c-4eaa-c1d3-fdc746101bd0"
      },
      "execution_count": 52,
      "outputs": [
        {
          "output_type": "execute_result",
          "data": {
            "text/plain": [
              "array([[ 0.54193518, -0.7667203 ,  1.54614408],\n",
              "       [-1.27510939, -0.50148923,  1.78768813]])"
            ]
          },
          "metadata": {},
          "execution_count": 52
        }
      ]
    },
    {
      "cell_type": "code",
      "source": [
        "arr = np.random.randint(1,4, size = (3,4))"
      ],
      "metadata": {
        "id": "4awNtM56-fVy"
      },
      "execution_count": 53,
      "outputs": []
    },
    {
      "cell_type": "code",
      "source": [
        "arr.ndim"
      ],
      "metadata": {
        "id": "prwgytM3-pQQ",
        "colab": {
          "base_uri": "https://localhost:8080/"
        },
        "outputId": "ce603730-0296-4861-d25c-dc73e448e540"
      },
      "execution_count": 54,
      "outputs": [
        {
          "output_type": "execute_result",
          "data": {
            "text/plain": [
              "2"
            ]
          },
          "metadata": {},
          "execution_count": 54
        }
      ]
    },
    {
      "cell_type": "code",
      "source": [
        "arr.shape"
      ],
      "metadata": {
        "id": "qdUtbpuL-wm2",
        "colab": {
          "base_uri": "https://localhost:8080/"
        },
        "outputId": "074acf11-14ce-48b1-bfe3-fca921baffa0"
      },
      "execution_count": 55,
      "outputs": [
        {
          "output_type": "execute_result",
          "data": {
            "text/plain": [
              "(3, 4)"
            ]
          },
          "metadata": {},
          "execution_count": 55
        }
      ]
    },
    {
      "cell_type": "code",
      "source": [
        "arr.size"
      ],
      "metadata": {
        "id": "_4mAv9XQ-xud",
        "colab": {
          "base_uri": "https://localhost:8080/"
        },
        "outputId": "de5e2515-18b3-4a3c-931c-9e4b8e9e54a4"
      },
      "execution_count": 56,
      "outputs": [
        {
          "output_type": "execute_result",
          "data": {
            "text/plain": [
              "12"
            ]
          },
          "metadata": {},
          "execution_count": 56
        }
      ]
    },
    {
      "cell_type": "code",
      "source": [
        "arr"
      ],
      "metadata": {
        "id": "y7Lzz835-y13",
        "colab": {
          "base_uri": "https://localhost:8080/"
        },
        "outputId": "fa19b95f-9cb5-41dd-b0d7-5703ba94dbb1"
      },
      "execution_count": 57,
      "outputs": [
        {
          "output_type": "execute_result",
          "data": {
            "text/plain": [
              "array([[1, 2, 2, 1],\n",
              "       [2, 3, 2, 3],\n",
              "       [1, 1, 2, 2]])"
            ]
          },
          "metadata": {},
          "execution_count": 57
        }
      ]
    },
    {
      "cell_type": "code",
      "source": [
        "# reshaping the array\n",
        "arr1 = arr.reshape(2,6)"
      ],
      "metadata": {
        "id": "c2hAiCZyExEZ"
      },
      "execution_count": 58,
      "outputs": []
    },
    {
      "cell_type": "code",
      "source": [
        "arr1.shape"
      ],
      "metadata": {
        "id": "Q4ii-y_4E3u3",
        "colab": {
          "base_uri": "https://localhost:8080/"
        },
        "outputId": "f85c277a-8f31-4dbc-b819-811785a13f9f"
      },
      "execution_count": 59,
      "outputs": [
        {
          "output_type": "execute_result",
          "data": {
            "text/plain": [
              "(2, 6)"
            ]
          },
          "metadata": {},
          "execution_count": 59
        }
      ]
    },
    {
      "cell_type": "code",
      "source": [
        "arr1.size"
      ],
      "metadata": {
        "id": "5fV4HP8aFDFQ",
        "colab": {
          "base_uri": "https://localhost:8080/"
        },
        "outputId": "4e3b7c3d-5c34-46a4-fd6c-eceaf98739d5"
      },
      "execution_count": 60,
      "outputs": [
        {
          "output_type": "execute_result",
          "data": {
            "text/plain": [
              "12"
            ]
          },
          "metadata": {},
          "execution_count": 60
        }
      ]
    },
    {
      "cell_type": "code",
      "source": [
        "#array size will not change,always reshape parameter\n",
        "# should be multiplication of original array size."
      ],
      "metadata": {
        "id": "-muu3IjAFOFX"
      },
      "execution_count": 61,
      "outputs": []
    },
    {
      "cell_type": "code",
      "source": [
        "arr.reshape(1,12)"
      ],
      "metadata": {
        "id": "jx9EfHlDFfJ1",
        "colab": {
          "base_uri": "https://localhost:8080/"
        },
        "outputId": "3b52944a-3a35-4af5-f89a-e7ee5fde94cc"
      },
      "execution_count": 62,
      "outputs": [
        {
          "output_type": "execute_result",
          "data": {
            "text/plain": [
              "array([[1, 2, 2, 1, 2, 3, 2, 3, 1, 1, 2, 2]])"
            ]
          },
          "metadata": {},
          "execution_count": 62
        }
      ]
    },
    {
      "cell_type": "code",
      "source": [
        "arr.reshape(3,3)"
      ],
      "metadata": {
        "id": "tEc3pIy-Fn1v",
        "colab": {
          "base_uri": "https://localhost:8080/",
          "height": 141
        },
        "outputId": "2f4676f3-b3cc-4bcf-86a8-476d10973486"
      },
      "execution_count": 63,
      "outputs": [
        {
          "output_type": "error",
          "ename": "ValueError",
          "evalue": "cannot reshape array of size 12 into shape (3,3)",
          "traceback": [
            "\u001b[0;31m---------------------------------------------------------------------------\u001b[0m",
            "\u001b[0;31mValueError\u001b[0m                                Traceback (most recent call last)",
            "\u001b[0;32m<ipython-input-63-48853dd1e553>\u001b[0m in \u001b[0;36m<cell line: 1>\u001b[0;34m()\u001b[0m\n\u001b[0;32m----> 1\u001b[0;31m \u001b[0marr\u001b[0m\u001b[0;34m.\u001b[0m\u001b[0mreshape\u001b[0m\u001b[0;34m(\u001b[0m\u001b[0;36m3\u001b[0m\u001b[0;34m,\u001b[0m\u001b[0;36m3\u001b[0m\u001b[0;34m)\u001b[0m\u001b[0;34m\u001b[0m\u001b[0;34m\u001b[0m\u001b[0m\n\u001b[0m",
            "\u001b[0;31mValueError\u001b[0m: cannot reshape array of size 12 into shape (3,3)"
          ]
        }
      ]
    },
    {
      "cell_type": "code",
      "source": [
        "arr.reshape(4,3)"
      ],
      "metadata": {
        "id": "cCLeVeHmFt_q",
        "colab": {
          "base_uri": "https://localhost:8080/"
        },
        "outputId": "2481ed12-7fc6-4c52-b042-2d787a1156fa"
      },
      "execution_count": 69,
      "outputs": [
        {
          "output_type": "execute_result",
          "data": {
            "text/plain": [
              "array([[0., 0., 0.],\n",
              "       [0., 0., 0.],\n",
              "       [0., 0., 0.],\n",
              "       [0., 0., 0.]])"
            ]
          },
          "metadata": {},
          "execution_count": 69
        }
      ]
    },
    {
      "cell_type": "code",
      "source": [
        "# Case when you don't know in reshape what should be the column count\n",
        "arr.reshape(4, -1)"
      ],
      "metadata": {
        "id": "-JioGRO6FwDB",
        "colab": {
          "base_uri": "https://localhost:8080/"
        },
        "outputId": "4d18515d-b46a-4633-ada4-6290cf5c37b0"
      },
      "execution_count": 70,
      "outputs": [
        {
          "output_type": "execute_result",
          "data": {
            "text/plain": [
              "array([[0., 0., 0.],\n",
              "       [0., 0., 0.],\n",
              "       [0., 0., 0.],\n",
              "       [0., 0., 0.]])"
            ]
          },
          "metadata": {},
          "execution_count": 70
        }
      ]
    },
    {
      "cell_type": "code",
      "source": [
        "arr.reshape(2,-1)"
      ],
      "metadata": {
        "id": "JWzeJNVdF9k_",
        "colab": {
          "base_uri": "https://localhost:8080/"
        },
        "outputId": "1d39f005-d08f-48db-a1da-7f519c6b8796"
      },
      "execution_count": 71,
      "outputs": [
        {
          "output_type": "execute_result",
          "data": {
            "text/plain": [
              "array([[0., 0., 0., 0., 0., 0.],\n",
              "       [0., 0., 0., 0., 0., 0.]])"
            ]
          },
          "metadata": {},
          "execution_count": 71
        }
      ]
    },
    {
      "cell_type": "code",
      "source": [
        "arr.reshape(2,-100)"
      ],
      "metadata": {
        "id": "94L_MaOoGC0S",
        "colab": {
          "base_uri": "https://localhost:8080/"
        },
        "outputId": "71bd905a-414c-4a00-ecb9-1099313e8991"
      },
      "execution_count": 72,
      "outputs": [
        {
          "output_type": "execute_result",
          "data": {
            "text/plain": [
              "array([[0., 0., 0., 0., 0., 0.],\n",
              "       [0., 0., 0., 0., 0., 0.]])"
            ]
          },
          "metadata": {},
          "execution_count": 72
        }
      ]
    },
    {
      "cell_type": "code",
      "source": [
        "# you know column count but no row count\n",
        "arr1 = arr.reshape(-1, 3)"
      ],
      "metadata": {
        "id": "u-jH7TdhG7kJ"
      },
      "execution_count": 73,
      "outputs": []
    },
    {
      "cell_type": "code",
      "source": [
        "arr1.size"
      ],
      "metadata": {
        "id": "txtKpghTHLCy",
        "colab": {
          "base_uri": "https://localhost:8080/"
        },
        "outputId": "e1608772-55c0-4a8c-c39b-0da9d07f90aa"
      },
      "execution_count": 74,
      "outputs": [
        {
          "output_type": "execute_result",
          "data": {
            "text/plain": [
              "12"
            ]
          },
          "metadata": {},
          "execution_count": 74
        }
      ]
    },
    {
      "cell_type": "code",
      "source": [
        "arr.reshape(12,1)"
      ],
      "metadata": {
        "id": "fhW5CcA_HNYu",
        "colab": {
          "base_uri": "https://localhost:8080/"
        },
        "outputId": "c4d11018-ffd6-4d6e-91be-8e2151a5c5ff"
      },
      "execution_count": 75,
      "outputs": [
        {
          "output_type": "execute_result",
          "data": {
            "text/plain": [
              "array([[0.],\n",
              "       [0.],\n",
              "       [0.],\n",
              "       [0.],\n",
              "       [0.],\n",
              "       [0.],\n",
              "       [0.],\n",
              "       [0.],\n",
              "       [0.],\n",
              "       [0.],\n",
              "       [0.],\n",
              "       [0.]])"
            ]
          },
          "metadata": {},
          "execution_count": 75
        }
      ]
    },
    {
      "cell_type": "code",
      "source": [
        "arr.reshape(12,1).base # to see the original array"
      ],
      "metadata": {
        "id": "N51NwLZJHRDu",
        "colab": {
          "base_uri": "https://localhost:8080/"
        },
        "outputId": "5836580a-da65-4886-ec97-ec2253d1ab8c"
      },
      "execution_count": 76,
      "outputs": [
        {
          "output_type": "execute_result",
          "data": {
            "text/plain": [
              "array([[0., 0., 0., 0.],\n",
              "       [0., 0., 0., 0.],\n",
              "       [0., 0., 0., 0.]])"
            ]
          },
          "metadata": {},
          "execution_count": 76
        }
      ]
    },
    {
      "cell_type": "code",
      "source": [
        "arr.reshape(2,2,3)"
      ],
      "metadata": {
        "id": "6MSdLp9HHgrK",
        "colab": {
          "base_uri": "https://localhost:8080/"
        },
        "outputId": "c29d74d6-c394-4137-d68b-207b80a476d2"
      },
      "execution_count": 79,
      "outputs": [
        {
          "output_type": "execute_result",
          "data": {
            "text/plain": [
              "array([[[0., 0., 0.],\n",
              "        [0., 0., 0.]],\n",
              "\n",
              "       [[0., 0., 0.],\n",
              "        [0., 0., 0.]]])"
            ]
          },
          "metadata": {},
          "execution_count": 79
        }
      ]
    },
    {
      "cell_type": "code",
      "source": [
        "arr.reshape(1,2,2,3)"
      ],
      "metadata": {
        "id": "WWwqvdRGHaO9",
        "colab": {
          "base_uri": "https://localhost:8080/"
        },
        "outputId": "2d0076bc-21cb-4f17-e968-a987150907aa"
      },
      "execution_count": 80,
      "outputs": [
        {
          "output_type": "execute_result",
          "data": {
            "text/plain": [
              "array([[[[0., 0., 0.],\n",
              "         [0., 0., 0.]],\n",
              "\n",
              "        [[0., 0., 0.],\n",
              "         [0., 0., 0.]]]])"
            ]
          },
          "metadata": {},
          "execution_count": 80
        }
      ]
    },
    {
      "cell_type": "code",
      "source": [
        "arr.reshape(4,3,1) #3 rows 1 column repeated 4 times in the third dimension."
      ],
      "metadata": {
        "id": "Kl5jj109Iaay",
        "colab": {
          "base_uri": "https://localhost:8080/"
        },
        "outputId": "c478c1b9-b3d5-4227-8b0e-81ee06af6617"
      },
      "execution_count": 81,
      "outputs": [
        {
          "output_type": "execute_result",
          "data": {
            "text/plain": [
              "array([[[0.],\n",
              "        [0.],\n",
              "        [0.]],\n",
              "\n",
              "       [[0.],\n",
              "        [0.],\n",
              "        [0.]],\n",
              "\n",
              "       [[0.],\n",
              "        [0.],\n",
              "        [0.]],\n",
              "\n",
              "       [[0.],\n",
              "        [0.],\n",
              "        [0.]]])"
            ]
          },
          "metadata": {},
          "execution_count": 81
        }
      ]
    },
    {
      "cell_type": "code",
      "source": [
        "# Conditions on array\n",
        "\n",
        "arr1 = np.random.randint(1,10,(5,6))"
      ],
      "metadata": {
        "id": "I42VC4oEI31b"
      },
      "execution_count": 82,
      "outputs": []
    },
    {
      "cell_type": "code",
      "source": [
        "arr1"
      ],
      "metadata": {
        "id": "PJITYOi_JFnG",
        "colab": {
          "base_uri": "https://localhost:8080/"
        },
        "outputId": "b6f0cabf-d629-483b-b3d0-606a8169dd29"
      },
      "execution_count": 83,
      "outputs": [
        {
          "output_type": "execute_result",
          "data": {
            "text/plain": [
              "array([[8, 3, 2, 9, 2, 6],\n",
              "       [6, 9, 7, 7, 9, 7],\n",
              "       [2, 9, 5, 1, 5, 9],\n",
              "       [3, 4, 4, 5, 5, 4],\n",
              "       [5, 9, 8, 7, 8, 6]])"
            ]
          },
          "metadata": {},
          "execution_count": 83
        }
      ]
    },
    {
      "cell_type": "code",
      "source": [
        "arr1.shape"
      ],
      "metadata": {
        "id": "MDpQX9klJHnz",
        "colab": {
          "base_uri": "https://localhost:8080/"
        },
        "outputId": "22d0f2ae-294c-4075-cb16-6a3f7f7e2803"
      },
      "execution_count": 84,
      "outputs": [
        {
          "output_type": "execute_result",
          "data": {
            "text/plain": [
              "(5, 6)"
            ]
          },
          "metadata": {},
          "execution_count": 84
        }
      ]
    },
    {
      "cell_type": "code",
      "source": [
        "arr1.ndim"
      ],
      "metadata": {
        "id": "Sg8dfChtJK71",
        "colab": {
          "base_uri": "https://localhost:8080/"
        },
        "outputId": "c78b6eb3-c29e-4bf4-fc18-c2a821b959fd"
      },
      "execution_count": 85,
      "outputs": [
        {
          "output_type": "execute_result",
          "data": {
            "text/plain": [
              "2"
            ]
          },
          "metadata": {},
          "execution_count": 85
        }
      ]
    },
    {
      "cell_type": "code",
      "source": [
        "arr1.size"
      ],
      "metadata": {
        "id": "OjzTcc8_JOJh",
        "colab": {
          "base_uri": "https://localhost:8080/"
        },
        "outputId": "26970cff-7fda-44ce-b40e-fbfa95a4ccd8"
      },
      "execution_count": 86,
      "outputs": [
        {
          "output_type": "execute_result",
          "data": {
            "text/plain": [
              "30"
            ]
          },
          "metadata": {},
          "execution_count": 86
        }
      ]
    },
    {
      "cell_type": "code",
      "source": [
        "arr1 > 3"
      ],
      "metadata": {
        "id": "-RIB8OLHJP0z",
        "colab": {
          "base_uri": "https://localhost:8080/"
        },
        "outputId": "41b7f356-d07a-42be-d740-5bfcb602ae43"
      },
      "execution_count": 87,
      "outputs": [
        {
          "output_type": "execute_result",
          "data": {
            "text/plain": [
              "array([[ True, False, False,  True, False,  True],\n",
              "       [ True,  True,  True,  True,  True,  True],\n",
              "       [False,  True,  True, False,  True,  True],\n",
              "       [False,  True,  True,  True,  True,  True],\n",
              "       [ True,  True,  True,  True,  True,  True]])"
            ]
          },
          "metadata": {},
          "execution_count": 87
        }
      ]
    },
    {
      "cell_type": "code",
      "source": [
        "arr1[arr1>3]"
      ],
      "metadata": {
        "id": "oqsy331sKpNT",
        "colab": {
          "base_uri": "https://localhost:8080/"
        },
        "outputId": "e33d9ef2-8688-432c-e9c0-45c29a774792"
      },
      "execution_count": 88,
      "outputs": [
        {
          "output_type": "execute_result",
          "data": {
            "text/plain": [
              "array([8, 9, 6, 6, 9, 7, 7, 9, 7, 9, 5, 5, 9, 4, 4, 5, 5, 4, 5, 9, 8, 7,\n",
              "       8, 6])"
            ]
          },
          "metadata": {},
          "execution_count": 88
        }
      ]
    },
    {
      "cell_type": "code",
      "source": [
        "arr1[arr1<3]"
      ],
      "metadata": {
        "id": "2OcaUEjFKsY7",
        "colab": {
          "base_uri": "https://localhost:8080/"
        },
        "outputId": "5b92d265-e01c-4906-de6d-a49cbf9a9046"
      },
      "execution_count": 89,
      "outputs": [
        {
          "output_type": "execute_result",
          "data": {
            "text/plain": [
              "array([2, 2, 2, 1])"
            ]
          },
          "metadata": {},
          "execution_count": 89
        }
      ]
    },
    {
      "cell_type": "code",
      "source": [
        "arr1"
      ],
      "metadata": {
        "id": "y0w_nJcFKxA6",
        "colab": {
          "base_uri": "https://localhost:8080/"
        },
        "outputId": "c9b49646-7001-4a4e-ca38-4b3cdab21299"
      },
      "execution_count": 90,
      "outputs": [
        {
          "output_type": "execute_result",
          "data": {
            "text/plain": [
              "array([[8, 3, 2, 9, 2, 6],\n",
              "       [6, 9, 7, 7, 9, 7],\n",
              "       [2, 9, 5, 1, 5, 9],\n",
              "       [3, 4, 4, 5, 5, 4],\n",
              "       [5, 9, 8, 7, 8, 6]])"
            ]
          },
          "metadata": {},
          "execution_count": 90
        }
      ]
    },
    {
      "cell_type": "code",
      "source": [
        "# Accessing elements in the array.\n",
        "arr1[0]"
      ],
      "metadata": {
        "id": "0h05_p98KzRa",
        "colab": {
          "base_uri": "https://localhost:8080/"
        },
        "outputId": "2362edab-09e3-4cf9-df63-0cd674b5475d"
      },
      "execution_count": 91,
      "outputs": [
        {
          "output_type": "execute_result",
          "data": {
            "text/plain": [
              "array([8, 3, 2, 9, 2, 6])"
            ]
          },
          "metadata": {},
          "execution_count": 91
        }
      ]
    },
    {
      "cell_type": "code",
      "source": [
        "arr1[1]"
      ],
      "metadata": {
        "id": "jXrmULWRK1Tg",
        "colab": {
          "base_uri": "https://localhost:8080/"
        },
        "outputId": "d7e402b7-af39-4bb1-eadb-8979023c582b"
      },
      "execution_count": 92,
      "outputs": [
        {
          "output_type": "execute_result",
          "data": {
            "text/plain": [
              "array([6, 9, 7, 7, 9, 7])"
            ]
          },
          "metadata": {},
          "execution_count": 92
        }
      ]
    },
    {
      "cell_type": "code",
      "source": [
        "arr1[1][0]"
      ],
      "metadata": {
        "id": "Aot9MYqMK5Mz",
        "colab": {
          "base_uri": "https://localhost:8080/"
        },
        "outputId": "df832fdc-7107-4ff3-e487-7d9702c080fe"
      },
      "execution_count": 93,
      "outputs": [
        {
          "output_type": "execute_result",
          "data": {
            "text/plain": [
              "6"
            ]
          },
          "metadata": {},
          "execution_count": 93
        }
      ]
    },
    {
      "cell_type": "code",
      "source": [
        "arr1"
      ],
      "metadata": {
        "id": "-yLNAbwqK-Kd",
        "colab": {
          "base_uri": "https://localhost:8080/"
        },
        "outputId": "cc39504c-dbef-4182-bf0c-a980e5b54fb2"
      },
      "execution_count": 94,
      "outputs": [
        {
          "output_type": "execute_result",
          "data": {
            "text/plain": [
              "array([[8, 3, 2, 9, 2, 6],\n",
              "       [6, 9, 7, 7, 9, 7],\n",
              "       [2, 9, 5, 1, 5, 9],\n",
              "       [3, 4, 4, 5, 5, 4],\n",
              "       [5, 9, 8, 7, 8, 6]])"
            ]
          },
          "metadata": {},
          "execution_count": 94
        }
      ]
    },
    {
      "cell_type": "code",
      "source": [
        "arr1[0:2]"
      ],
      "metadata": {
        "id": "HJEV0nRRLNVp",
        "colab": {
          "base_uri": "https://localhost:8080/"
        },
        "outputId": "840064f9-beea-48f4-8ca0-438cb82ffdf3"
      },
      "execution_count": 95,
      "outputs": [
        {
          "output_type": "execute_result",
          "data": {
            "text/plain": [
              "array([[8, 3, 2, 9, 2, 6],\n",
              "       [6, 9, 7, 7, 9, 7]])"
            ]
          },
          "metadata": {},
          "execution_count": 95
        }
      ]
    },
    {
      "cell_type": "code",
      "source": [
        "arr1[0:3] #zeroth row, 1st row and 2nd row"
      ],
      "metadata": {
        "id": "o1bzpM8LLPg7",
        "colab": {
          "base_uri": "https://localhost:8080/"
        },
        "outputId": "e2612d7f-f51f-408a-89d5-0c32a1224593"
      },
      "execution_count": 96,
      "outputs": [
        {
          "output_type": "execute_result",
          "data": {
            "text/plain": [
              "array([[8, 3, 2, 9, 2, 6],\n",
              "       [6, 9, 7, 7, 9, 7],\n",
              "       [2, 9, 5, 1, 5, 9]])"
            ]
          },
          "metadata": {},
          "execution_count": 96
        }
      ]
    },
    {
      "cell_type": "code",
      "source": [
        "arr1[0:3,[0,2]] #0 to 2nd row and 0th and 2nd column"
      ],
      "metadata": {
        "id": "FFTya7hXMrXS",
        "colab": {
          "base_uri": "https://localhost:8080/"
        },
        "outputId": "fe3b7aa4-fe61-4cd9-922f-cdab2deb4fcc"
      },
      "execution_count": 97,
      "outputs": [
        {
          "output_type": "execute_result",
          "data": {
            "text/plain": [
              "array([[8, 2],\n",
              "       [6, 7],\n",
              "       [2, 5]])"
            ]
          },
          "metadata": {},
          "execution_count": 97
        }
      ]
    },
    {
      "cell_type": "code",
      "source": [
        "# Slicing on both rows and column"
      ],
      "metadata": {
        "id": "bKB5JifRM8EA"
      },
      "execution_count": 98,
      "outputs": []
    },
    {
      "cell_type": "code",
      "source": [
        "arr1"
      ],
      "metadata": {
        "id": "dmgPSDoMNQ4C",
        "colab": {
          "base_uri": "https://localhost:8080/"
        },
        "outputId": "a90a1793-04b0-4166-e389-1d0577f78cdf"
      },
      "execution_count": 99,
      "outputs": [
        {
          "output_type": "execute_result",
          "data": {
            "text/plain": [
              "array([[8, 3, 2, 9, 2, 6],\n",
              "       [6, 9, 7, 7, 9, 7],\n",
              "       [2, 9, 5, 1, 5, 9],\n",
              "       [3, 4, 4, 5, 5, 4],\n",
              "       [5, 9, 8, 7, 8, 6]])"
            ]
          },
          "metadata": {},
          "execution_count": 99
        }
      ]
    },
    {
      "cell_type": "code",
      "source": [
        "arr1[0:3, 1:3]"
      ],
      "metadata": {
        "id": "edqjppp4NS29",
        "colab": {
          "base_uri": "https://localhost:8080/"
        },
        "outputId": "4a41c0d4-0128-40b9-85c3-9cb09cdbc42a"
      },
      "execution_count": 100,
      "outputs": [
        {
          "output_type": "execute_result",
          "data": {
            "text/plain": [
              "array([[3, 2],\n",
              "       [9, 7],\n",
              "       [9, 5]])"
            ]
          },
          "metadata": {},
          "execution_count": 100
        }
      ]
    },
    {
      "cell_type": "code",
      "source": [
        "arr1[0:2,[0,1]]"
      ],
      "metadata": {
        "id": "YlcB-3n_Ngo1",
        "colab": {
          "base_uri": "https://localhost:8080/"
        },
        "outputId": "b8259b93-c8fc-4975-e18c-0b36bd299f14"
      },
      "execution_count": 101,
      "outputs": [
        {
          "output_type": "execute_result",
          "data": {
            "text/plain": [
              "array([[8, 3],\n",
              "       [6, 9]])"
            ]
          },
          "metadata": {},
          "execution_count": 101
        }
      ]
    },
    {
      "cell_type": "code",
      "source": [
        "arr1[0,[1,3]]"
      ],
      "metadata": {
        "id": "XawUpGsHNl0D",
        "colab": {
          "base_uri": "https://localhost:8080/"
        },
        "outputId": "8248068d-51c5-462b-c940-467bc984ca45"
      },
      "execution_count": 102,
      "outputs": [
        {
          "output_type": "execute_result",
          "data": {
            "text/plain": [
              "array([3, 9])"
            ]
          },
          "metadata": {},
          "execution_count": 102
        }
      ]
    },
    {
      "cell_type": "code",
      "source": [
        "arr1[2:4,[0,3]]"
      ],
      "metadata": {
        "id": "DJhVQfCPOD7g",
        "colab": {
          "base_uri": "https://localhost:8080/"
        },
        "outputId": "15327102-9857-4849-9731-a7092c55364c"
      },
      "execution_count": 103,
      "outputs": [
        {
          "output_type": "execute_result",
          "data": {
            "text/plain": [
              "array([[2, 1],\n",
              "       [3, 5]])"
            ]
          },
          "metadata": {},
          "execution_count": 103
        }
      ]
    },
    {
      "cell_type": "code",
      "source": [
        "arr1[2:5]"
      ],
      "metadata": {
        "id": "k96aJJe9OLif",
        "colab": {
          "base_uri": "https://localhost:8080/"
        },
        "outputId": "8e17cb42-f27e-4bd3-ba11-ca65b5655e73"
      },
      "execution_count": 104,
      "outputs": [
        {
          "output_type": "execute_result",
          "data": {
            "text/plain": [
              "array([[2, 9, 5, 1, 5, 9],\n",
              "       [3, 4, 4, 5, 5, 4],\n",
              "       [5, 9, 8, 7, 8, 6]])"
            ]
          },
          "metadata": {},
          "execution_count": 104
        }
      ]
    },
    {
      "cell_type": "code",
      "source": [
        "arr1[2:5,0:2]"
      ],
      "metadata": {
        "id": "C_cO2_KwOu7y",
        "colab": {
          "base_uri": "https://localhost:8080/"
        },
        "outputId": "11e0f5cf-ff79-4468-854d-2b04a20dcdbd"
      },
      "execution_count": 105,
      "outputs": [
        {
          "output_type": "execute_result",
          "data": {
            "text/plain": [
              "array([[2, 9],\n",
              "       [3, 4],\n",
              "       [5, 9]])"
            ]
          },
          "metadata": {},
          "execution_count": 105
        }
      ]
    },
    {
      "cell_type": "code",
      "source": [
        "# Mathematical calculations on array\n",
        "\n",
        "arr1 = np.random.randint(1,3,(3,3))\n",
        "arr2 = np.random.randint(1,3,(3,3))"
      ],
      "metadata": {
        "id": "UFZOsGqkO4rJ"
      },
      "execution_count": 106,
      "outputs": []
    },
    {
      "cell_type": "code",
      "source": [
        "arr1"
      ],
      "metadata": {
        "id": "PR0Wb4YoPJxO",
        "colab": {
          "base_uri": "https://localhost:8080/"
        },
        "outputId": "2145485e-d9f4-4866-ffc4-8fc4d532edc7"
      },
      "execution_count": 107,
      "outputs": [
        {
          "output_type": "execute_result",
          "data": {
            "text/plain": [
              "array([[2, 1, 1],\n",
              "       [2, 1, 1],\n",
              "       [1, 2, 1]])"
            ]
          },
          "metadata": {},
          "execution_count": 107
        }
      ]
    },
    {
      "cell_type": "code",
      "source": [
        "arr2"
      ],
      "metadata": {
        "id": "Gcz0bF2sPLGF",
        "colab": {
          "base_uri": "https://localhost:8080/"
        },
        "outputId": "e541be5e-6137-49a7-b961-a1112b17af3a"
      },
      "execution_count": 108,
      "outputs": [
        {
          "output_type": "execute_result",
          "data": {
            "text/plain": [
              "array([[2, 2, 1],\n",
              "       [1, 2, 2],\n",
              "       [1, 2, 1]])"
            ]
          },
          "metadata": {},
          "execution_count": 108
        }
      ]
    },
    {
      "cell_type": "code",
      "source": [
        "arr1 + arr2 # indexwise addition of arrays"
      ],
      "metadata": {
        "id": "HFrFtqPPPL_N",
        "colab": {
          "base_uri": "https://localhost:8080/"
        },
        "outputId": "22421899-80ba-41b3-883f-06c52ad41a42"
      },
      "execution_count": 109,
      "outputs": [
        {
          "output_type": "execute_result",
          "data": {
            "text/plain": [
              "array([[4, 3, 2],\n",
              "       [3, 3, 3],\n",
              "       [2, 4, 2]])"
            ]
          },
          "metadata": {},
          "execution_count": 109
        }
      ]
    },
    {
      "cell_type": "code",
      "source": [
        "arr1 - arr2 # indexwise subtraction"
      ],
      "metadata": {
        "id": "JWfxN1LmPOU8",
        "colab": {
          "base_uri": "https://localhost:8080/"
        },
        "outputId": "8f43f7fd-53d1-4ad9-d10a-40c367389725"
      },
      "execution_count": 110,
      "outputs": [
        {
          "output_type": "execute_result",
          "data": {
            "text/plain": [
              "array([[ 0, -1,  0],\n",
              "       [ 1, -1, -1],\n",
              "       [ 0,  0,  0]])"
            ]
          },
          "metadata": {},
          "execution_count": 110
        }
      ]
    },
    {
      "cell_type": "code",
      "source": [
        "arr1 * arr2 # indexwise multiplication"
      ],
      "metadata": {
        "id": "8C1NdaEhPiVP",
        "colab": {
          "base_uri": "https://localhost:8080/"
        },
        "outputId": "de95d3e4-fd54-41d1-ab20-e64625344bff"
      },
      "execution_count": 111,
      "outputs": [
        {
          "output_type": "execute_result",
          "data": {
            "text/plain": [
              "array([[4, 2, 1],\n",
              "       [2, 2, 2],\n",
              "       [1, 4, 1]])"
            ]
          },
          "metadata": {},
          "execution_count": 111
        }
      ]
    },
    {
      "cell_type": "code",
      "source": [
        "arr1,arr2"
      ],
      "metadata": {
        "id": "ZBwpEnugPkSg",
        "colab": {
          "base_uri": "https://localhost:8080/"
        },
        "outputId": "8e4bdeb6-6e4e-49e7-bbba-07c8b2025ab1"
      },
      "execution_count": 112,
      "outputs": [
        {
          "output_type": "execute_result",
          "data": {
            "text/plain": [
              "(array([[2, 1, 1],\n",
              "        [2, 1, 1],\n",
              "        [1, 2, 1]]),\n",
              " array([[2, 2, 1],\n",
              "        [1, 2, 2],\n",
              "        [1, 2, 1]]))"
            ]
          },
          "metadata": {},
          "execution_count": 112
        }
      ]
    },
    {
      "cell_type": "code",
      "source": [
        "arr1 / arr2 #indexwise division"
      ],
      "metadata": {
        "id": "7nXCrkrFPsTa",
        "colab": {
          "base_uri": "https://localhost:8080/"
        },
        "outputId": "ae546ced-aa76-4534-8e53-2b9da8d52eac"
      },
      "execution_count": 113,
      "outputs": [
        {
          "output_type": "execute_result",
          "data": {
            "text/plain": [
              "array([[1. , 0.5, 1. ],\n",
              "       [2. , 0.5, 0.5],\n",
              "       [1. , 1. , 1. ]])"
            ]
          },
          "metadata": {},
          "execution_count": 113
        }
      ]
    },
    {
      "cell_type": "code",
      "source": [
        "# matrix multiplication >>> different from index wise multiplication\n",
        "\n",
        "# 1st way to do matrix multiplication\n",
        "arr1 @ arr2"
      ],
      "metadata": {
        "id": "RoNNWONbPvaP",
        "colab": {
          "base_uri": "https://localhost:8080/"
        },
        "outputId": "ab1e8d83-7476-49d7-935f-090ab8199abf"
      },
      "execution_count": 114,
      "outputs": [
        {
          "output_type": "execute_result",
          "data": {
            "text/plain": [
              "array([[6, 8, 5],\n",
              "       [6, 8, 5],\n",
              "       [5, 8, 6]])"
            ]
          },
          "metadata": {},
          "execution_count": 114
        }
      ]
    },
    {
      "cell_type": "code",
      "source": [
        "# 2nd way to do\n",
        "np.dot(arr1,arr2)"
      ],
      "metadata": {
        "id": "YW5qnsRSQEwU",
        "colab": {
          "base_uri": "https://localhost:8080/"
        },
        "outputId": "dd8668a6-4aec-46ab-ba26-1b7f281ad548"
      },
      "execution_count": 115,
      "outputs": [
        {
          "output_type": "execute_result",
          "data": {
            "text/plain": [
              "array([[6, 8, 5],\n",
              "       [6, 8, 5],\n",
              "       [5, 8, 6]])"
            ]
          },
          "metadata": {},
          "execution_count": 115
        }
      ]
    },
    {
      "cell_type": "code",
      "source": [
        "# Matrix multiplication is only possible when\n",
        "# arr1 = m*n\n",
        "# arr2 = p*q\n",
        "# and n=p then result will be m*q"
      ],
      "metadata": {
        "id": "q7HQgqAQQdf0"
      },
      "execution_count": 116,
      "outputs": []
    },
    {
      "cell_type": "code",
      "source": [
        "# in python\n",
        "5/0"
      ],
      "metadata": {
        "id": "5b656mc-Re_U",
        "colab": {
          "base_uri": "https://localhost:8080/",
          "height": 159
        },
        "outputId": "0e3f7912-ccb0-48d9-c4e4-d9ca0b866021"
      },
      "execution_count": 117,
      "outputs": [
        {
          "output_type": "error",
          "ename": "ZeroDivisionError",
          "evalue": "division by zero",
          "traceback": [
            "\u001b[0;31m---------------------------------------------------------------------------\u001b[0m",
            "\u001b[0;31mZeroDivisionError\u001b[0m                         Traceback (most recent call last)",
            "\u001b[0;32m<ipython-input-117-162ba5bd22aa>\u001b[0m in \u001b[0;36m<cell line: 2>\u001b[0;34m()\u001b[0m\n\u001b[1;32m      1\u001b[0m \u001b[0;31m# in python\u001b[0m\u001b[0;34m\u001b[0m\u001b[0;34m\u001b[0m\u001b[0m\n\u001b[0;32m----> 2\u001b[0;31m \u001b[0;36m5\u001b[0m\u001b[0;34m/\u001b[0m\u001b[0;36m0\u001b[0m\u001b[0;34m\u001b[0m\u001b[0;34m\u001b[0m\u001b[0m\n\u001b[0m",
            "\u001b[0;31mZeroDivisionError\u001b[0m: division by zero"
          ]
        }
      ]
    },
    {
      "cell_type": "code",
      "source": [
        "# in numpy\n",
        "arr1/0"
      ],
      "metadata": {
        "id": "DPakD5kGSCaN",
        "colab": {
          "base_uri": "https://localhost:8080/"
        },
        "outputId": "97dc97a9-095f-423b-f313-58b37ae9995c"
      },
      "execution_count": 118,
      "outputs": [
        {
          "output_type": "stream",
          "name": "stderr",
          "text": [
            "<ipython-input-118-d27e07e6bd97>:2: RuntimeWarning: divide by zero encountered in divide\n",
            "  arr1/0\n"
          ]
        },
        {
          "output_type": "execute_result",
          "data": {
            "text/plain": [
              "array([[inf, inf, inf],\n",
              "       [inf, inf, inf],\n",
              "       [inf, inf, inf]])"
            ]
          },
          "metadata": {},
          "execution_count": 118
        }
      ]
    },
    {
      "cell_type": "code",
      "source": [
        "arr = np.zeros((3,4))"
      ],
      "metadata": {
        "id": "vINRwLuzSFM1"
      },
      "execution_count": 119,
      "outputs": []
    },
    {
      "cell_type": "code",
      "source": [
        "# broadcasting"
      ],
      "metadata": {
        "id": "a6fL-ovWSSAL"
      },
      "execution_count": 120,
      "outputs": []
    },
    {
      "cell_type": "code",
      "source": [
        "arr"
      ],
      "metadata": {
        "id": "zab-issrSjcG",
        "colab": {
          "base_uri": "https://localhost:8080/"
        },
        "outputId": "cb7bb00c-33f2-477a-e309-c92d62921a1d"
      },
      "execution_count": 121,
      "outputs": [
        {
          "output_type": "execute_result",
          "data": {
            "text/plain": [
              "array([[0., 0., 0., 0.],\n",
              "       [0., 0., 0., 0.],\n",
              "       [0., 0., 0., 0.]])"
            ]
          },
          "metadata": {},
          "execution_count": 121
        }
      ]
    },
    {
      "cell_type": "code",
      "source": [
        "arr + 5"
      ],
      "metadata": {
        "id": "p6cI2FuqSj0d",
        "colab": {
          "base_uri": "https://localhost:8080/"
        },
        "outputId": "2984d275-c3df-4bc7-862a-abcdf901158a"
      },
      "execution_count": 122,
      "outputs": [
        {
          "output_type": "execute_result",
          "data": {
            "text/plain": [
              "array([[5., 5., 5., 5.],\n",
              "       [5., 5., 5., 5.],\n",
              "       [5., 5., 5., 5.]])"
            ]
          },
          "metadata": {},
          "execution_count": 122
        }
      ]
    },
    {
      "cell_type": "code",
      "source": [
        "a = np.array([1,2,3,4])"
      ],
      "metadata": {
        "id": "FoxxbDwvSk8_"
      },
      "execution_count": 123,
      "outputs": []
    },
    {
      "cell_type": "code",
      "source": [
        "a"
      ],
      "metadata": {
        "id": "aA_n2VkiUOU4",
        "colab": {
          "base_uri": "https://localhost:8080/"
        },
        "outputId": "b271a1ce-9c44-412d-8f00-0760078b9696"
      },
      "execution_count": 124,
      "outputs": [
        {
          "output_type": "execute_result",
          "data": {
            "text/plain": [
              "array([1, 2, 3, 4])"
            ]
          },
          "metadata": {},
          "execution_count": 124
        }
      ]
    },
    {
      "cell_type": "code",
      "source": [
        "a.ndim"
      ],
      "metadata": {
        "id": "vnXRypDpUO1e",
        "colab": {
          "base_uri": "https://localhost:8080/"
        },
        "outputId": "c2400ce8-4743-4fc3-952a-2615ec94b578"
      },
      "execution_count": 125,
      "outputs": [
        {
          "output_type": "execute_result",
          "data": {
            "text/plain": [
              "1"
            ]
          },
          "metadata": {},
          "execution_count": 125
        }
      ]
    },
    {
      "cell_type": "code",
      "source": [
        "arr + a"
      ],
      "metadata": {
        "id": "hzOHpuwBUQAA",
        "colab": {
          "base_uri": "https://localhost:8080/"
        },
        "outputId": "f214f705-60a4-4646-e1f3-d9d07c947283"
      },
      "execution_count": 126,
      "outputs": [
        {
          "output_type": "execute_result",
          "data": {
            "text/plain": [
              "array([[1., 2., 3., 4.],\n",
              "       [1., 2., 3., 4.],\n",
              "       [1., 2., 3., 4.]])"
            ]
          },
          "metadata": {},
          "execution_count": 126
        }
      ]
    },
    {
      "cell_type": "code",
      "source": [
        "a = np.array([[1,2,3,4]])"
      ],
      "metadata": {
        "id": "wrsjimxmUTwE"
      },
      "execution_count": 127,
      "outputs": []
    },
    {
      "cell_type": "code",
      "source": [
        "a"
      ],
      "metadata": {
        "id": "8ZZ4iZ1zV4qL",
        "colab": {
          "base_uri": "https://localhost:8080/"
        },
        "outputId": "fd2d2aff-50c6-46bd-d5f2-d4fce91d245d"
      },
      "execution_count": 128,
      "outputs": [
        {
          "output_type": "execute_result",
          "data": {
            "text/plain": [
              "array([[1, 2, 3, 4]])"
            ]
          },
          "metadata": {},
          "execution_count": 128
        }
      ]
    },
    {
      "cell_type": "code",
      "source": [
        "# Transpose\n",
        "a.T"
      ],
      "metadata": {
        "id": "EODSHq12V5Uf",
        "colab": {
          "base_uri": "https://localhost:8080/"
        },
        "outputId": "d31564cb-d016-44e4-c278-858f1ad1b32a"
      },
      "execution_count": 129,
      "outputs": [
        {
          "output_type": "execute_result",
          "data": {
            "text/plain": [
              "array([[1],\n",
              "       [2],\n",
              "       [3],\n",
              "       [4]])"
            ]
          },
          "metadata": {},
          "execution_count": 129
        }
      ]
    },
    {
      "cell_type": "code",
      "source": [
        "arr1"
      ],
      "metadata": {
        "id": "atsKtx0UWTw-",
        "colab": {
          "base_uri": "https://localhost:8080/"
        },
        "outputId": "7e88fa67-5b39-458b-9a2c-f84883754d55"
      },
      "execution_count": 130,
      "outputs": [
        {
          "output_type": "execute_result",
          "data": {
            "text/plain": [
              "array([[2, 1, 1],\n",
              "       [2, 1, 1],\n",
              "       [1, 2, 1]])"
            ]
          },
          "metadata": {},
          "execution_count": 130
        }
      ]
    },
    {
      "cell_type": "code",
      "source": [
        "arr1.T"
      ],
      "metadata": {
        "id": "-jS4hWhRWDec",
        "colab": {
          "base_uri": "https://localhost:8080/"
        },
        "outputId": "33154648-9a31-4a3c-c0c6-97c202a32e1f"
      },
      "execution_count": 131,
      "outputs": [
        {
          "output_type": "execute_result",
          "data": {
            "text/plain": [
              "array([[2, 2, 1],\n",
              "       [1, 1, 2],\n",
              "       [1, 1, 1]])"
            ]
          },
          "metadata": {},
          "execution_count": 131
        }
      ]
    },
    {
      "cell_type": "code",
      "source": [
        "np.sqrt(arr1)"
      ],
      "metadata": {
        "id": "eNC-oalkWXds",
        "colab": {
          "base_uri": "https://localhost:8080/"
        },
        "outputId": "a18315dd-9180-449b-b20e-3bb3c47766d9"
      },
      "execution_count": 132,
      "outputs": [
        {
          "output_type": "execute_result",
          "data": {
            "text/plain": [
              "array([[1.41421356, 1.        , 1.        ],\n",
              "       [1.41421356, 1.        , 1.        ],\n",
              "       [1.        , 1.41421356, 1.        ]])"
            ]
          },
          "metadata": {},
          "execution_count": 132
        }
      ]
    },
    {
      "cell_type": "code",
      "source": [
        "np.log10(arr1)"
      ],
      "metadata": {
        "id": "osH-0kGoWvL1",
        "colab": {
          "base_uri": "https://localhost:8080/"
        },
        "outputId": "ebbfda43-1ed5-4f6c-c894-73e099bf3e5a"
      },
      "execution_count": 133,
      "outputs": [
        {
          "output_type": "execute_result",
          "data": {
            "text/plain": [
              "array([[0.30103, 0.     , 0.     ],\n",
              "       [0.30103, 0.     , 0.     ],\n",
              "       [0.     , 0.30103, 0.     ]])"
            ]
          },
          "metadata": {},
          "execution_count": 133
        }
      ]
    },
    {
      "cell_type": "code",
      "source": [
        "np.exp(arr1)"
      ],
      "metadata": {
        "id": "sWIKBt64W0do",
        "colab": {
          "base_uri": "https://localhost:8080/"
        },
        "outputId": "62d4c9d4-4fc7-4a6b-c179-f69ee806f843"
      },
      "execution_count": 134,
      "outputs": [
        {
          "output_type": "execute_result",
          "data": {
            "text/plain": [
              "array([[7.3890561 , 2.71828183, 2.71828183],\n",
              "       [7.3890561 , 2.71828183, 2.71828183],\n",
              "       [2.71828183, 7.3890561 , 2.71828183]])"
            ]
          },
          "metadata": {},
          "execution_count": 134
        }
      ]
    },
    {
      "cell_type": "code",
      "source": [
        "np.min(arr1)"
      ],
      "metadata": {
        "id": "exPE-XvuW2rJ",
        "colab": {
          "base_uri": "https://localhost:8080/"
        },
        "outputId": "f9c8eca1-1af4-4fa8-8f97-20b0d14668b2"
      },
      "execution_count": 135,
      "outputs": [
        {
          "output_type": "execute_result",
          "data": {
            "text/plain": [
              "1"
            ]
          },
          "metadata": {},
          "execution_count": 135
        }
      ]
    },
    {
      "cell_type": "code",
      "source": [
        "np.max(arr1)"
      ],
      "metadata": {
        "id": "Sg6YPeusXD_a",
        "colab": {
          "base_uri": "https://localhost:8080/"
        },
        "outputId": "687b2ad5-6457-477a-fad6-c670b5b527e8"
      },
      "execution_count": 136,
      "outputs": [
        {
          "output_type": "execute_result",
          "data": {
            "text/plain": [
              "2"
            ]
          },
          "metadata": {},
          "execution_count": 136
        }
      ]
    },
    {
      "cell_type": "code",
      "source": [
        "\n"
      ],
      "metadata": {
        "id": "8lBNGSziXM1Z"
      },
      "execution_count": 136,
      "outputs": []
    }
  ]
}