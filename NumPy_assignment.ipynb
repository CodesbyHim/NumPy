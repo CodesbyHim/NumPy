{
  "nbformat": 4,
  "nbformat_minor": 0,
  "metadata": {
    "colab": {
      "provenance": [],
      "authorship_tag": "ABX9TyMXwdGkx+QwzGPIqh2a+VN/",
      "include_colab_link": true
    },
    "kernelspec": {
      "name": "python3",
      "display_name": "Python 3"
    },
    "language_info": {
      "name": "python"
    }
  },
  "cells": [
    {
      "cell_type": "markdown",
      "metadata": {
        "id": "view-in-github",
        "colab_type": "text"
      },
      "source": [
        "<a href=\"https://colab.research.google.com/github/CodesbyHim/NumPy/blob/main/NumPy_assignment.ipynb\" target=\"_parent\"><img src=\"https://colab.research.google.com/assets/colab-badge.svg\" alt=\"Open In Colab\"/></a>"
      ]
    },
    {
      "cell_type": "code",
      "execution_count": 3,
      "metadata": {
        "id": "wDc6HptzLdH9",
        "colab": {
          "base_uri": "https://localhost:8080/"
        },
        "outputId": "b6d2ee18-b17a-42f9-f40a-b39c27ccb9c6"
      },
      "outputs": [
        {
          "output_type": "stream",
          "name": "stdout",
          "text": [
            "Array: [0 1 2 3 4 5]\n",
            "Data type:  int64\n"
          ]
        }
      ],
      "source": [
        "# 1. Create a NumPy array 'arr' of integers from 0 to 5 and print its data type.\n",
        "\n",
        "# Code\n",
        "\n",
        "import numpy as np\n",
        "arr=np.arange(6)\n",
        "print(\"Array:\",arr)\n",
        "print(\"Data type: \", arr.dtype)"
      ]
    },
    {
      "cell_type": "code",
      "source": [
        "# 2. Given a NumPy array 'arr', check if its data type is float64.\n",
        "#    arr = np.array([1.5, 2.6, 3.7])\n",
        "\n",
        "# Code\n",
        "\n",
        "import numpy as np\n",
        "arr = np.array([1.5, 2.6, 3.7])\n",
        "\n",
        "is_float64 = arr.dtype == np.float64\n",
        "print(\"Is the data type float64?\", is_float64)"
      ],
      "metadata": {
        "colab": {
          "base_uri": "https://localhost:8080/"
        },
        "id": "4g4QSY3XRJdI",
        "outputId": "30d42fe5-c001-402d-8c9f-7f2cbd1d31a0"
      },
      "execution_count": 4,
      "outputs": [
        {
          "output_type": "stream",
          "name": "stdout",
          "text": [
            "Is the data type float64? True\n"
          ]
        }
      ]
    },
    {
      "cell_type": "code",
      "source": [
        "#  3. Create a NumPy array 'arr' with a data type of complex128 containing three complex numbers\n",
        "\n",
        "# Code\n",
        "\n",
        "import numpy as np\n",
        "complex_num=[2+3j,9+4j,1+2j]\n",
        "arr=np.array(complex_num,dtype=np.complex128)\n",
        "\n",
        "print(\"Array\",arr)\n",
        "print(\"Data type:\",arr.dtype)"
      ],
      "metadata": {
        "colab": {
          "base_uri": "https://localhost:8080/"
        },
        "id": "K1KYQrluRX4L",
        "outputId": "10f7d82c-fc0e-4105-dbac-f23401bf5370"
      },
      "execution_count": 5,
      "outputs": [
        {
          "output_type": "stream",
          "name": "stdout",
          "text": [
            "Array [2.+3.j 9.+4.j 1.+2.j]\n",
            "Data type: complex128\n"
          ]
        }
      ]
    },
    {
      "cell_type": "code",
      "source": [
        "# 4. Convert an existing NumPy array 'arr' of integers to float32 data type.\n",
        "\n",
        "# Code\n",
        "\n",
        "import numpy as np\n",
        "\n",
        "arr = np.array([1, 2, 3, 4])\n",
        "arr_float32 = arr.astype('float32')\n",
        "\n",
        "print(arr_float32.dtype)"
      ],
      "metadata": {
        "colab": {
          "base_uri": "https://localhost:8080/"
        },
        "id": "PRncoHdWSLoI",
        "outputId": "00d10c49-e245-4653-8c5c-d816b2bf98f1"
      },
      "execution_count": 6,
      "outputs": [
        {
          "output_type": "stream",
          "name": "stdout",
          "text": [
            "float32\n"
          ]
        }
      ]
    },
    {
      "cell_type": "code",
      "source": [
        "#  5. Given a NumPy array 'arr' with float64 data type, convert it to float32 to reduce decimal precision.\n",
        "\n",
        "# Code\n",
        "\n",
        "import numpy as np\n",
        "\n",
        "arr = np.array([1.123456789, 2.987654321, 3.141592653], dtype='float64')\n",
        "\n",
        "print(\"Original array data type:\", arr.dtype)\n",
        "arr_float32 = arr.astype('float32')\n",
        "\n",
        "print(\"Converted array data type:\", arr_float32.dtype)"
      ],
      "metadata": {
        "colab": {
          "base_uri": "https://localhost:8080/"
        },
        "id": "UUw4l1AoS0v_",
        "outputId": "ccf13c6c-b1d5-4447-f66f-e459e885a1cf"
      },
      "execution_count": 7,
      "outputs": [
        {
          "output_type": "stream",
          "name": "stdout",
          "text": [
            "Original array data type: float64\n",
            "Converted array data type: float32\n"
          ]
        }
      ]
    },
    {
      "cell_type": "code",
      "source": [
        "#  6. Write a function array_attributes that takes a NumPy array as input and returns its shape, size, and data type.\n",
        "\n",
        "#  Code\n",
        "\n",
        "import numpy as np\n",
        "\n",
        "def array_attributes(arr):\n",
        "    size=np.shape(arr)\n",
        "    shape=np.size(arr)\n",
        "    data_type = arr.dtype\n",
        "    return size,shape,data_type\n",
        "arr=np.array([1,2,3,4,5])\n",
        "size,shape,data_type=array_attributes(arr)\n",
        "print(\"shape:\",shape)\n",
        "print(\"size:\",size)\n",
        "print(\"data type:\",data_type)\n"
      ],
      "metadata": {
        "colab": {
          "base_uri": "https://localhost:8080/"
        },
        "id": "OS-ES1VSTVG8",
        "outputId": "6cf9a7c3-6b4c-4396-8c35-33305b599fe0"
      },
      "execution_count": 8,
      "outputs": [
        {
          "output_type": "stream",
          "name": "stdout",
          "text": [
            "shape: 5\n",
            "size: (5,)\n",
            "data type: int64\n"
          ]
        }
      ]
    },
    {
      "cell_type": "code",
      "source": [
        "# 7. Create a function array_dimension that takes a NumPy array as input and returns its dimensionality.\n",
        "\n",
        "# Code\n",
        "\n",
        "import numpy as np\n",
        "\n",
        "def array_dimension (arr):\n",
        "    dimension =arr.ndim\n",
        "    return dimension\n",
        "arr=np.array([[1,2,3],[4,5,6]])\n",
        "dimension =array_dimension(arr)\n",
        "print(\"Dimensionality:\",dimension)\n"
      ],
      "metadata": {
        "colab": {
          "base_uri": "https://localhost:8080/"
        },
        "id": "gvUtH0nOVdTo",
        "outputId": "f78ac2e8-388e-43ae-9fb9-3905fce71aa6"
      },
      "execution_count": 9,
      "outputs": [
        {
          "output_type": "stream",
          "name": "stdout",
          "text": [
            "Dimensionality: 2\n"
          ]
        }
      ]
    },
    {
      "cell_type": "code",
      "source": [
        "# 8. Design a function item_size_info that takes a NumPy array as input and returns the item size and the total size in bytes.\n",
        "\n",
        "# Code\n",
        "\n",
        "import numpy as np\n",
        "\n",
        "def item_size_info(arr):\n",
        "    if isinstance(arr, np.ndarray):\n",
        "        item_size = arr.itemsize\n",
        "        total_size = arr.nbytes\n",
        "        print(f\"Item size: {item_size} bytes\")\n",
        "        print(f\"Total size: {total_size} bytes\")\n",
        "    else:\n",
        "        print(\"Invalid input. Please provide a NumPy array.\")\n",
        "\n",
        "arr = np.array([1, 2, 3, 4, 5])\n",
        "item_size_info(arr)\n"
      ],
      "metadata": {
        "colab": {
          "base_uri": "https://localhost:8080/"
        },
        "id": "ERvEqbP6WNtE",
        "outputId": "9d968d5b-c761-4d44-aff2-2066f6c46201"
      },
      "execution_count": 10,
      "outputs": [
        {
          "output_type": "stream",
          "name": "stdout",
          "text": [
            "Item size: 8 bytes\n",
            "Total size: 40 bytes\n"
          ]
        }
      ]
    },
    {
      "cell_type": "code",
      "source": [
        "# 9. Create a function array_strides that takes a NumPy array as input and returns the strides of the array.\n",
        "\n",
        "# Code\n",
        "\n",
        "import numpy as np\n",
        "\n",
        "def array_strides(input_array):\n",
        "    if isinstance(input_array, np.ndarray):\n",
        "        return input_array.strides\n",
        "    else:\n",
        "        raise ValueError(\"Input is not a NumPy array\")\n",
        "\n",
        "my_array = np.array([[1, 2, 3], [4, 5, 6], [7, 8, 9]])\n",
        "print(array_strides(my_array))"
      ],
      "metadata": {
        "colab": {
          "base_uri": "https://localhost:8080/"
        },
        "id": "6eUjrjGAXCgt",
        "outputId": "b84b8a9a-8d93-44e7-cc81-62fffc8b8402"
      },
      "execution_count": 11,
      "outputs": [
        {
          "output_type": "stream",
          "name": "stdout",
          "text": [
            "(24, 8)\n"
          ]
        }
      ]
    },
    {
      "cell_type": "code",
      "source": [
        "# 10. Design a function shape_stride_relationship that takes a NumPy array as input and returns the shape and strides of the array.\n",
        "\n",
        "# Code\n",
        "\n",
        "import numpy as np\n",
        "\n",
        "def array_strides(input_array):\n",
        "    if isinstance(input_array, np.ndarray):\n",
        "        return input_array.strides\n",
        "    else:\n",
        "        raise ValueError(\"Input is not a NumPy array\")\n",
        "\n",
        "my_array = np.array([[1, 2, 3], [4, 5, 6]])\n",
        "print(\"My array:\")\n",
        "print(my_array)\n",
        "print(\"\\nStrides of my array:\")\n",
        "print(array_strides(my_array))"
      ],
      "metadata": {
        "colab": {
          "base_uri": "https://localhost:8080/"
        },
        "id": "KAVjqFzVXVo6",
        "outputId": "7f01532d-c58a-43f1-b4ef-d1af5cf50b60"
      },
      "execution_count": 12,
      "outputs": [
        {
          "output_type": "stream",
          "name": "stdout",
          "text": [
            "My array:\n",
            "[[1 2 3]\n",
            " [4 5 6]]\n",
            "\n",
            "Strides of my array:\n",
            "(24, 8)\n"
          ]
        }
      ]
    },
    {
      "cell_type": "code",
      "source": [
        "#  11. Create a function `create_zeros_array` that takes an integer `n` as input and returns a NumPy array of zeros with `n` elements.\n",
        "\n",
        "# Code\n",
        "\n",
        "import numpy as np\n",
        "\n",
        "def create_zeros_array(n):\n",
        "\n",
        "    return np.zeros(n)\n",
        "\n",
        "print(create_zeros_array(int(input())))"
      ],
      "metadata": {
        "colab": {
          "base_uri": "https://localhost:8080/"
        },
        "id": "3A0ompdcXi00",
        "outputId": "590acc57-bbfd-4121-e657-746067f97bb8"
      },
      "execution_count": 13,
      "outputs": [
        {
          "output_type": "stream",
          "name": "stdout",
          "text": [
            "6\n",
            "[0. 0. 0. 0. 0. 0.]\n"
          ]
        }
      ]
    },
    {
      "cell_type": "code",
      "source": [
        "#  12. Write a function `create_ones_matrix` that takes integers `rows` and `cols` as inputs and generates a 2D NumPy array filled with ones of size `rows x cols`\n",
        "\n",
        "# Code\n",
        "\n",
        "import numpy as np\n",
        "\n",
        "def create_ones_matrix(rows, cols):\n",
        "    return np.ones((rows, cols))\n",
        "\n",
        "rows = 2\n",
        "cols = 3\n",
        "ones_matrix = create_ones_matrix(rows, cols)\n",
        "print(ones_matrix)\n"
      ],
      "metadata": {
        "colab": {
          "base_uri": "https://localhost:8080/"
        },
        "id": "OaEeRiMEXtme",
        "outputId": "7d3a38f7-db15-4243-9653-03b12c101d7c"
      },
      "execution_count": 14,
      "outputs": [
        {
          "output_type": "stream",
          "name": "stdout",
          "text": [
            "[[1. 1. 1.]\n",
            " [1. 1. 1.]]\n"
          ]
        }
      ]
    },
    {
      "cell_type": "code",
      "source": [
        "#  13. Write a function `generate_range_array` that takes three integers start, stop, and step as arguments and creates a NumPy array with a range starting from `start`, ending at stop (exclusive), and with the specified step`.\n",
        "\n",
        "# Code\n",
        "\n",
        "import numpy as np\n",
        "\n",
        "def generate_range_array(start, stop, step):\n",
        "    return np.arange(start, stop, step)\n",
        "\n",
        "start = 0\n",
        "stop = 10\n",
        "step = 2\n",
        "range_array = generate_range_array(start, stop, step)\n",
        "print(range_array)\n"
      ],
      "metadata": {
        "colab": {
          "base_uri": "https://localhost:8080/"
        },
        "id": "XVhckjIFX_sQ",
        "outputId": "cdb7613f-9856-4157-fad9-9882012de7fe"
      },
      "execution_count": 15,
      "outputs": [
        {
          "output_type": "stream",
          "name": "stdout",
          "text": [
            "[0 2 4 6 8]\n"
          ]
        }
      ]
    },
    {
      "cell_type": "code",
      "source": [
        "#  14. Design a function `generate_linear_space` that takes two floats `start`, `stop`, and an integer `num` as  arguments and generates a NumPy array with num equally spaced values between `start` and `stop` (inclusive).\n",
        "\n",
        "# Code\n",
        "\n",
        "import numpy as np\n",
        "\n",
        "def generate_linear_space(start, stop, num):\n",
        "    return np.linspace(start, stop, num)\n",
        "\n",
        "# Example usage:\n",
        "start = 0.0\n",
        "stop = 1.0\n",
        "num = 5\n",
        "linear_space = generate_linear_space(start, stop, num)\n",
        "print(linear_space)"
      ],
      "metadata": {
        "colab": {
          "base_uri": "https://localhost:8080/"
        },
        "id": "DmpNhA-4YMPf",
        "outputId": "39125f26-f41a-4514-b587-6ef14fcbd79d"
      },
      "execution_count": 16,
      "outputs": [
        {
          "output_type": "stream",
          "name": "stdout",
          "text": [
            "[0.   0.25 0.5  0.75 1.  ]\n"
          ]
        }
      ]
    },
    {
      "cell_type": "code",
      "source": [
        "#  15. Create a function `create_identity_matrix` that takes an integer `n` as input and generates a square identity matrix of size `n x n` using `numpy.eye`.\n",
        "\n",
        "#  Code\n",
        "\n",
        "import numpy as np\n",
        "\n",
        "def create_identity_matrix(n):\n",
        "    return np.eye(n)\n",
        "\n",
        "n = 3\n",
        "identity_matrix = create_identity_matrix(n)\n",
        "print(identity_matrix)"
      ],
      "metadata": {
        "colab": {
          "base_uri": "https://localhost:8080/"
        },
        "id": "LpeuF5gAYPCs",
        "outputId": "86f1f843-254b-48cd-a444-0d9d4cf8ff2c"
      },
      "execution_count": 17,
      "outputs": [
        {
          "output_type": "stream",
          "name": "stdout",
          "text": [
            "[[1. 0. 0.]\n",
            " [0. 1. 0.]\n",
            " [0. 0. 1.]]\n"
          ]
        }
      ]
    },
    {
      "cell_type": "code",
      "source": [
        "#  16. Write a function that takes a Python list and converts it into a NumPy array.\n",
        "\n",
        "#  Code\n",
        "\n",
        "import numpy as np\n",
        "\n",
        "def list_to_numpy_array(lst):\n",
        "    return np.array(lst)\n",
        "\n",
        "lst = [1, 2, 3]\n",
        "numpy_array = list_to_numpy_array(lst)\n",
        "print(numpy_array)"
      ],
      "metadata": {
        "colab": {
          "base_uri": "https://localhost:8080/"
        },
        "id": "MJE9GErJYaf-",
        "outputId": "30b97b66-7428-4578-b1d4-bf227bab0963"
      },
      "execution_count": 18,
      "outputs": [
        {
          "output_type": "stream",
          "name": "stdout",
          "text": [
            "[1 2 3]\n"
          ]
        }
      ]
    },
    {
      "cell_type": "code",
      "source": [
        "#  17. Create a NumPy array and demonstrate the use of `numpy.view` to create a new array object with the same data.\n",
        "\n",
        "#  Code\n",
        "\n",
        "import numpy as np\n",
        "\n",
        "arr = np.array([1, 2, 3, 4, 5])\n",
        "\n",
        "new_arr = arr.view()\n",
        "\n",
        "print(\"Original array:\")\n",
        "print(arr)\n",
        "print(\"\\nNew array:\")\n",
        "print(new_arr)\n",
        "\n",
        "new_arr[0] = 10\n",
        "print(\"\\nOriginal array after modifying new array:\")\n",
        "print(arr)"
      ],
      "metadata": {
        "colab": {
          "base_uri": "https://localhost:8080/"
        },
        "id": "LtOyzuF7Yi3N",
        "outputId": "99188346-b4ad-4077-dc72-2d3bf7aab5bf"
      },
      "execution_count": 19,
      "outputs": [
        {
          "output_type": "stream",
          "name": "stdout",
          "text": [
            "Original array:\n",
            "[1 2 3 4 5]\n",
            "\n",
            "New array:\n",
            "[1 2 3 4 5]\n",
            "\n",
            "Original array after modifying new array:\n",
            "[10  2  3  4  5]\n"
          ]
        }
      ]
    },
    {
      "cell_type": "code",
      "source": [
        "#  18. Write a function that takes two NumPy arrays and concatenates them along a specified axis.\n",
        "\n",
        "#      Code\n",
        "\n",
        "import numpy as np\n",
        "\n",
        "def concatenate_arrays(array1, array2, axis=0):\n",
        "    return np.concatenate((array1, array2), axis=axis)\n",
        "\n",
        "array1 = np.array([[1, 2], [3, 4]])\n",
        "array2 = np.array([[5, 6]])\n",
        "\n",
        "result = concatenate_arrays(array1, array2, axis=0)\n",
        "print(\"Concatenated along axis 0:\")\n",
        "print(result)\n",
        "\n",
        "result = concatenate_arrays(array1, array2.T, axis=1)\n",
        "print(\"\\nConcatenated along axis 1:\")\n",
        "print(result)\n"
      ],
      "metadata": {
        "colab": {
          "base_uri": "https://localhost:8080/"
        },
        "id": "Pj79XrCAZGho",
        "outputId": "da37148d-40e8-48a1-fb5e-3234687b712c"
      },
      "execution_count": 20,
      "outputs": [
        {
          "output_type": "stream",
          "name": "stdout",
          "text": [
            "Concatenated along axis 0:\n",
            "[[1 2]\n",
            " [3 4]\n",
            " [5 6]]\n",
            "\n",
            "Concatenated along axis 1:\n",
            "[[1 2 5]\n",
            " [3 4 6]]\n"
          ]
        }
      ]
    },
    {
      "cell_type": "code",
      "source": [
        "# 19.  Create two NumPy arrays with different shapes and concatenate them horizontally using `numpy.concatenate`.\n",
        "\n",
        "# Code\n",
        "\n",
        "import numpy as np\n",
        "\n",
        "array1 = np.array([[1, 2, 3], [4, 5, 6]])\n",
        "array2 = np.array([[7, 8], [9, 10]])\n",
        "\n",
        "array2_extended = np.concatenate((array2, np.zeros((array2.shape[0], 1))), axis=1)\n",
        "\n",
        "result = np.concatenate((array1, array2_extended), axis=1)\n",
        "\n",
        "print(result)"
      ],
      "metadata": {
        "colab": {
          "base_uri": "https://localhost:8080/"
        },
        "id": "crrdqHmuY3rp",
        "outputId": "64448478-e8bf-4cdf-baec-6a3e4d3dd943"
      },
      "execution_count": 21,
      "outputs": [
        {
          "output_type": "stream",
          "name": "stdout",
          "text": [
            "[[ 1.  2.  3.  7.  8.  0.]\n",
            " [ 4.  5.  6.  9. 10.  0.]]\n"
          ]
        }
      ]
    },
    {
      "cell_type": "code",
      "source": [
        "# 20. Write a function that vertically stacks multiple NumPy arrays given as a list.\n",
        "\n",
        "# Code\n",
        "\n",
        "import numpy as np\n",
        "\n",
        "def stack_arrays_vertically(arrays_list):\n",
        "\n",
        "    stacked_array = np.vstack(arrays_list)\n",
        "    return stacked_array\n",
        "\n",
        "array1 = np.array([1, 2, 3])\n",
        "array2 = np.array([4, 5, 6])\n",
        "array3 = np.array([7, 8, 9])\n",
        "\n",
        "stacked_array = stack_arrays_vertically([array1, array2, array3])\n",
        "print(stacked_array)"
      ],
      "metadata": {
        "colab": {
          "base_uri": "https://localhost:8080/"
        },
        "id": "GR8rWg9yY61h",
        "outputId": "bbe09bf4-fe8e-4142-8336-2f301aef225c"
      },
      "execution_count": 22,
      "outputs": [
        {
          "output_type": "stream",
          "name": "stdout",
          "text": [
            "[[1 2 3]\n",
            " [4 5 6]\n",
            " [7 8 9]]\n"
          ]
        }
      ]
    },
    {
      "cell_type": "code",
      "source": [
        "#  21. Write a Python function using NumPy to create an array of integers within a specified range (inclusive)  with a given step size.\n",
        "\n",
        "#  Code\n",
        "\n",
        "import numpy as np\n",
        "\n",
        "def create_integer_array(start, end, step=1):\n",
        "\n",
        "    if step == 0:\n",
        "        raise ValueError(\"Step size cannot be zero.\")\n",
        "\n",
        "    integer_array = np.arange(start, end + 1, step)\n",
        "    return integer_array\n",
        "integer_array = create_integer_array(0, 10, 2)\n",
        "print(integer_array)"
      ],
      "metadata": {
        "colab": {
          "base_uri": "https://localhost:8080/"
        },
        "id": "fUs-_GblaWhk",
        "outputId": "21083a08-59e5-486f-98d3-5fcab8f3b662"
      },
      "execution_count": 23,
      "outputs": [
        {
          "output_type": "stream",
          "name": "stdout",
          "text": [
            "[ 0  2  4  6  8 10]\n"
          ]
        }
      ]
    },
    {
      "cell_type": "code",
      "source": [
        "# 22. Write a Python function using NumPy to generate an array of 10 equally spaced values between 0 and 1 (inclusive).\n",
        "\n",
        "#     Code\n",
        "\n",
        "import numpy as np\n",
        "\n",
        "def generate_equally_spaced_values(start, end, num_values):\n",
        "\n",
        "    if num_values <= 0:\n",
        "        raise ValueError(\"Number of values must be greater than zero.\")\n",
        "\n",
        "    equally_spaced_values = np.linspace(start, end, num_values)\n",
        "    return equally_spaced_values\n",
        "\n",
        "equally_spaced_values = generate_equally_spaced_values(0, 1, 10)\n",
        "print(equally_spaced_values)"
      ],
      "metadata": {
        "colab": {
          "base_uri": "https://localhost:8080/"
        },
        "id": "x4FT5cbJaraf",
        "outputId": "8b8a563f-91e1-4d64-ecde-11897a2a0929"
      },
      "execution_count": 24,
      "outputs": [
        {
          "output_type": "stream",
          "name": "stdout",
          "text": [
            "[0.         0.11111111 0.22222222 0.33333333 0.44444444 0.55555556\n",
            " 0.66666667 0.77777778 0.88888889 1.        ]\n"
          ]
        }
      ]
    },
    {
      "cell_type": "code",
      "source": [
        "#  23. Write a Python function using NumPy to create an array of 5 logarithmically spaced values between 1 and 1000 (inclusive).\n",
        "\n",
        "#    Code\n",
        "\n",
        "import numpy as np\n",
        "\n",
        "def generate_log_array():\n",
        "    return np.logspace(1, 3, 5, endpoint=True)\n",
        "print(generate_log_array())"
      ],
      "metadata": {
        "colab": {
          "base_uri": "https://localhost:8080/"
        },
        "id": "lE8B2zyoa1zP",
        "outputId": "52d0e796-0eda-4fe7-ca45-3bcae2583799"
      },
      "execution_count": 25,
      "outputs": [
        {
          "output_type": "stream",
          "name": "stdout",
          "text": [
            "[  10.           31.6227766   100.          316.22776602 1000.        ]\n"
          ]
        }
      ]
    },
    {
      "cell_type": "code",
      "source": [
        "# 24. Create a Pandas DataFrame using a NumPy array that contains 5 rows and 3 columns, where the values are random integers between 1 and 100.\n",
        "\n",
        "# Code\n",
        "\n",
        "import numpy as np\n",
        "import pandas as pd\n",
        "\n",
        "np_array = np.random.randint(1, 101, size=(5, 3))\n",
        "\n",
        "print(\"NumPy Array:\")\n",
        "print(np_array)\n",
        "\n",
        "df = pd.DataFrame(np_array, columns=['Column_1', 'Column_2', 'Column_3'])\n",
        "\n",
        "print(\"\\nPandas DataFrame:\")\n",
        "print(df)"
      ],
      "metadata": {
        "colab": {
          "base_uri": "https://localhost:8080/"
        },
        "id": "n5mhBCCPbAV3",
        "outputId": "dff0d6c2-fa20-455f-8b92-8ffc1af3d6ae"
      },
      "execution_count": 26,
      "outputs": [
        {
          "output_type": "stream",
          "name": "stdout",
          "text": [
            "NumPy Array:\n",
            "[[ 9 93 77]\n",
            " [86 72 62]\n",
            " [ 4 94 63]\n",
            " [ 6  8 86]\n",
            " [ 2 53 59]]\n",
            "\n",
            "Pandas DataFrame:\n",
            "   Column_1  Column_2  Column_3\n",
            "0         9        93        77\n",
            "1        86        72        62\n",
            "2         4        94        63\n",
            "3         6         8        86\n",
            "4         2        53        59\n"
          ]
        }
      ]
    },
    {
      "cell_type": "code",
      "source": [
        "# 25. Write a function that takes a Pandas DataFrame and replaces all negative values in a specific columnwith zeros. Use NumPy operations within the Pandas DataFrame.\n",
        "\n",
        "# Code\n",
        "\n",
        "import pandas as pd\n",
        "import numpy as np\n",
        "\n",
        "def replace_negative_with_zeros(dataframe, column):\n",
        "\n",
        "    dataframe[column] = np.where(dataframe[column] < 0, 0, dataframe[column])\n",
        "    return dataframe\n",
        "\n",
        "# Example usage\n",
        "data = {'A': [-1, 2, -3, 4],\n",
        "        'B': [5, -6, 7, -8]}\n",
        "df = pd.DataFrame(data)\n",
        "\n",
        "print(\"Original DataFrame:\")\n",
        "print(df)\n",
        "\n",
        "df = replace_negative_with_zeros(df, 'A')\n",
        "\n",
        "print(\"\\nDataFrame with negative values replaced by zeros:\")\n",
        "print(df)\n",
        "\n"
      ],
      "metadata": {
        "colab": {
          "base_uri": "https://localhost:8080/"
        },
        "id": "3EhMX-SvbUKk",
        "outputId": "79df87f5-b2f4-4fd3-f849-8f1fadf2cc71"
      },
      "execution_count": 27,
      "outputs": [
        {
          "output_type": "stream",
          "name": "stdout",
          "text": [
            "Original DataFrame:\n",
            "   A  B\n",
            "0 -1  5\n",
            "1  2 -6\n",
            "2 -3  7\n",
            "3  4 -8\n",
            "\n",
            "DataFrame with negative values replaced by zeros:\n",
            "   A  B\n",
            "0  0  5\n",
            "1  2 -6\n",
            "2  0  7\n",
            "3  4 -8\n"
          ]
        }
      ]
    },
    {
      "cell_type": "code",
      "source": [
        "# 26. Access the 3rd element from the given NumPy array.\n",
        "# arr = np.array([10, 20, 30, 40, 50])\n",
        "\n",
        "# Code\n",
        "\n",
        "import numpy as np\n",
        "\n",
        "arr = np.array([10, 20, 30, 40, 50])\n",
        "third_element = arr[2]\n",
        "print(\"The third element of the array is:\", third_element)\n"
      ],
      "metadata": {
        "colab": {
          "base_uri": "https://localhost:8080/"
        },
        "id": "TU6wSs-sb5kU",
        "outputId": "e62f72cd-a685-4eba-cbf0-515084ed4c80"
      },
      "execution_count": 28,
      "outputs": [
        {
          "output_type": "stream",
          "name": "stdout",
          "text": [
            "The third element of the array is: 30\n"
          ]
        }
      ]
    },
    {
      "cell_type": "code",
      "source": [
        "# 27. Retrieve the element at index (1, 2) from the 2D NumPy array.\n",
        "\n",
        "# Code\n",
        "\n",
        "import numpy as np\n",
        "\n",
        "arr_2d = np.array([[1, 2, 3],\n",
        "                   [4, 5, 6],\n",
        "                   [7, 8, 9]])\n",
        "\n",
        "element_at_1_2 = arr_2d[1, 2]\n",
        "print(\"Element at index (1, 2) is:\", element_at_1_2)\n"
      ],
      "metadata": {
        "colab": {
          "base_uri": "https://localhost:8080/"
        },
        "id": "I5Q2ev0pcCS9",
        "outputId": "1ea437f2-aa37-44d0-957a-017b7c159d86"
      },
      "execution_count": 29,
      "outputs": [
        {
          "output_type": "stream",
          "name": "stdout",
          "text": [
            "Element at index (1, 2) is: 6\n"
          ]
        }
      ]
    },
    {
      "cell_type": "code",
      "source": [
        "# 28. Using boolean indexing, extract elements greater than 5 from the given NumPy array.\n",
        "# arr = np.array([3, 8, 2, 10, 5, 7])\n",
        "\n",
        "# Code\n",
        "\n",
        "import numpy as np\n",
        "\n",
        "arr = np.array([3, 8, 2, 10, 5, 7])\n",
        "mask = arr > 5\n",
        "\n",
        "result = arr[mask]\n",
        "\n",
        "print(\"Elements greater than 5:\", result)"
      ],
      "metadata": {
        "colab": {
          "base_uri": "https://localhost:8080/"
        },
        "id": "XZOjMdpPcXdz",
        "outputId": "4034d88f-40d5-4437-fc94-25953ae4b9b6"
      },
      "execution_count": 30,
      "outputs": [
        {
          "output_type": "stream",
          "name": "stdout",
          "text": [
            "Elements greater than 5: [ 8 10  7]\n"
          ]
        }
      ]
    },
    {
      "cell_type": "code",
      "source": [
        "# 29. Perform basic slicing to extract elements from index 2 to 5 (inclusive) from the given NumPy array.\n",
        "# arr = np.array([1, 2, 3, 4, 5, 6, 7, 8, 9])\n",
        "\n",
        "# Code\n",
        "\n",
        "import numpy as np\n",
        "\n",
        "arr = np.array([1, 2, 3, 4, 5, 6, 7, 8, 9])\n",
        "\n",
        "sliced_arr = arr[2:6]\n",
        "print(\"The elements from index 2 to 5 (inclusive) from the array are:\", sliced_arr)"
      ],
      "metadata": {
        "colab": {
          "base_uri": "https://localhost:8080/"
        },
        "id": "4shTxkQGeocw",
        "outputId": "f12bf0c9-e55a-42d5-d7a1-a4d30159ce39"
      },
      "execution_count": 31,
      "outputs": [
        {
          "output_type": "stream",
          "name": "stdout",
          "text": [
            "The elements from index 2 to 5 (inclusive) from the array are: [3 4 5 6]\n"
          ]
        }
      ]
    },
    {
      "cell_type": "code",
      "source": [
        "# 30. Slice the 2D NumPy array to extract the sub-array `[[2, 3], [5, 6]]` from the given array.\n",
        "# arr_2d = np.array([[1, 2, 3],\n",
        "                   # [4, 5, 6],\n",
        "                   # [7, 8, 9]])\n",
        "\n",
        "# Code\n",
        "\n",
        "import numpy as np\n",
        "\n",
        "arr_2d = np.array([[1, 2, 3],\n",
        "                   [4, 5, 6],\n",
        "                   [7, 8, 9]])\n",
        "\n",
        "sub_array = arr_2d[0:2, 1:3]\n",
        "\n",
        "print(sub_array)\n"
      ],
      "metadata": {
        "colab": {
          "base_uri": "https://localhost:8080/"
        },
        "id": "6EQ0YH1nexC2",
        "outputId": "861208b3-03e7-43c7-fa37-2fa3bd4bc03b"
      },
      "execution_count": 32,
      "outputs": [
        {
          "output_type": "stream",
          "name": "stdout",
          "text": [
            "[[2 3]\n",
            " [5 6]]\n"
          ]
        }
      ]
    },
    {
      "cell_type": "code",
      "source": [
        "# 31.Write a NumPy function to extract elements in specific order from a given 2D array based on indices provided in another array.\n",
        "\n",
        "# Code\n",
        "\n",
        "import numpy as np\n",
        "\n",
        "def extract_elements(arr_2d, indices):\n",
        "    extracted_elements = arr_2d[tuple(indices.T.tolist())]\n",
        "    return extracted_elements\n",
        "\n",
        "arr_2d = np.array([[1, 2, 3],\n",
        "                    [4, 5, 6],\n",
        "                    [7, 8, 9]])\n",
        "\n",
        "indices = np.array([[0, 0],\n",
        "                      [1, 2],\n",
        "                      [2, 1]])\n",
        "\n",
        "extracted_elements = extract_elements(arr_2d, indices)\n",
        "\n",
        "print(\"The extracted elements in the specified order are:\", extracted_elements)"
      ],
      "metadata": {
        "colab": {
          "base_uri": "https://localhost:8080/"
        },
        "id": "bPTze9bne6QE",
        "outputId": "8a6ef674-a412-4050-94d5-9a3ef5adcc21"
      },
      "execution_count": 33,
      "outputs": [
        {
          "output_type": "stream",
          "name": "stdout",
          "text": [
            "The extracted elements in the specified order are: [1 6 8]\n"
          ]
        }
      ]
    },
    {
      "cell_type": "code",
      "source": [
        "# 32. Create a NumPy function that filters elements greater than a threshold from a given 1D array using boolean indexing.\n",
        "\n",
        "# Code\n",
        "\n",
        "import numpy as np\n",
        "\n",
        "def filter_greater_than(arr, threshold):\n",
        "\n",
        "    filtered_arr = arr[arr > threshold]\n",
        "\n",
        "    return filtered_arr\n",
        "arr = np.array([1, 2, 3, 4, 5, 6, 7, 8, 9])\n",
        "\n",
        "filtered_arr = filter_greater_than(arr, 5)\n",
        "\n",
        "print(\"The elements greater than 5 are:\", filtered_arr)"
      ],
      "metadata": {
        "colab": {
          "base_uri": "https://localhost:8080/"
        },
        "id": "ryeNE49GfEO3",
        "outputId": "99e4eeb9-d451-49e9-f4d1-cec3007247e4"
      },
      "execution_count": 34,
      "outputs": [
        {
          "output_type": "stream",
          "name": "stdout",
          "text": [
            "The elements greater than 5 are: [6 7 8 9]\n"
          ]
        }
      ]
    },
    {
      "cell_type": "code",
      "source": [
        "# 33. Develop a NumPy function that extracts specific elements from a 3D array using indices provided in three separate arrays for each dimension.\n",
        "\n",
        "# Code\n",
        "\n",
        "import numpy as np\n",
        "\n",
        "def extract_elements_3d(array, x_indices, y_indices, z_indices):\n",
        "    return array[x_indices, y_indices, z_indices]\n",
        "\n",
        "array_3d = np.random.randint(1, 100, size=(4, 4, 4))\n",
        "print(\"Original 3D array:\")\n",
        "print(array_3d)\n",
        "\n",
        "x_indices = np.array([0, 1, 2])\n",
        "y_indices = np.array([1, 2, 3])\n",
        "z_indices = np.array([3, 0, 1])\n",
        "\n",
        "extracted_elements = extract_elements_3d(array_3d, x_indices, y_indices, z_indices)\n",
        "print(\"\\nExtracted elements:\")\n",
        "print(extracted_elements)"
      ],
      "metadata": {
        "colab": {
          "base_uri": "https://localhost:8080/"
        },
        "id": "-WEnMYI0fLeN",
        "outputId": "29cad150-d644-4177-eee0-99ff9ea8b8b7"
      },
      "execution_count": 35,
      "outputs": [
        {
          "output_type": "stream",
          "name": "stdout",
          "text": [
            "Original 3D array:\n",
            "[[[27 68 29 20]\n",
            "  [63 55 16 89]\n",
            "  [49 24 42 42]\n",
            "  [54 33 53 15]]\n",
            "\n",
            " [[99 44 79 89]\n",
            "  [81 13 41 76]\n",
            "  [ 8  2 89 19]\n",
            "  [42 73  9 11]]\n",
            "\n",
            " [[78 61 51 46]\n",
            "  [33 22 38 31]\n",
            "  [23 37  9 30]\n",
            "  [62 81 25 14]]\n",
            "\n",
            " [[41 82  4 62]\n",
            "  [ 2 16 27 56]\n",
            "  [67 62 83 16]\n",
            "  [48 99 96 97]]]\n",
            "\n",
            "Extracted elements:\n",
            "[89  8 81]\n"
          ]
        }
      ]
    },
    {
      "cell_type": "code",
      "source": [
        "# 34. Write a NumPy function that returns elements from an array where both two conditions are satisfied using boolean indexing.\n",
        "\n",
        "# Code\n",
        "\n",
        "import numpy as np\n",
        "\n",
        "def filter_two_conditions(arr, condition1, condition2):\n",
        "    filtered_arr = arr[(condition1) & (condition2)]\n",
        "    return filtered_arr\n",
        "\n",
        "arr = np.array([1, 2, 3, 4, 5, 6, 7, 8, 9])\n",
        "condition1 = (arr > 3)\n",
        "condition2 = (arr % 2 == 0)\n",
        "filtered_arr = filter_two_conditions(arr, condition1, condition2)\n",
        "print(\"The elements greater than 3 and even are:\", filtered_arr)"
      ],
      "metadata": {
        "colab": {
          "base_uri": "https://localhost:8080/"
        },
        "id": "uNBFWkYMfUwy",
        "outputId": "f1918267-a8bd-4951-9838-155eb569b507"
      },
      "execution_count": 36,
      "outputs": [
        {
          "output_type": "stream",
          "name": "stdout",
          "text": [
            "The elements greater than 3 and even are: [4 6 8]\n"
          ]
        }
      ]
    },
    {
      "cell_type": "code",
      "source": [
        "# 35. Create a NumPy function that extracts elements from a 2D array using row and column indices provided in separate arrays.\n",
        "\n",
        "# Code\n",
        "\n",
        "import numpy as np\n",
        "\n",
        "def extract_elements_2d(arr, row_indices, col_indices):\n",
        "    extracted_elements = arr[row_indices, col_indices]\n",
        "    return extracted_elements\n",
        "\n",
        "arr = np.array([[1, 2, 3],\n",
        "                [4, 5, 6],\n",
        "                [7, 8, 9]])\n",
        "row_indices = np.array([0, 1, 2])\n",
        "col_indices = np.array([2, 1, 0])\n",
        "extracted_elements = extract_elements_2d(arr, row_indices, col_indices)\n",
        "print(\"The extracted elements are:\", extracted_elements)"
      ],
      "metadata": {
        "colab": {
          "base_uri": "https://localhost:8080/"
        },
        "id": "1gGvK7xFfcSZ",
        "outputId": "72614ffb-0df8-46fe-a563-79542d5a7cd1"
      },
      "execution_count": 37,
      "outputs": [
        {
          "output_type": "stream",
          "name": "stdout",
          "text": [
            "The extracted elements are: [3 5 7]\n"
          ]
        }
      ]
    },
    {
      "cell_type": "code",
      "source": [
        "# 36. Given an array arr of shape (3, 3), add a scalar value of 5 to each element using NumPy broadcasting.\n",
        "\n",
        "# Code\n",
        "\n",
        "import numpy as np\n",
        "\n",
        "arr = np.array([[1, 2, 3],\n",
        "                [4, 5, 6],\n",
        "                [7, 8, 9]])\n",
        "\n",
        "result = arr + 5\n",
        "\n",
        "print(\"The array after adding 5 to each element is:\")\n",
        "print(result)"
      ],
      "metadata": {
        "id": "wjqXyJnffeB2",
        "colab": {
          "base_uri": "https://localhost:8080/"
        },
        "outputId": "3bf992e8-ec00-4765-b85c-3f8a02c2b732"
      },
      "execution_count": 38,
      "outputs": [
        {
          "output_type": "stream",
          "name": "stdout",
          "text": [
            "The array after adding 5 to each element is:\n",
            "[[ 6  7  8]\n",
            " [ 9 10 11]\n",
            " [12 13 14]]\n"
          ]
        }
      ]
    },
    {
      "cell_type": "code",
      "source": [
        "# 37. Consider two arrays arr1 of shape (1, 3) and arr2 of shape (3, 4). Multiply each row of arr2 by the corresponding element in arr1 using NumPy broadcasting.\n",
        "\n",
        "# Code\n",
        "\n",
        "import numpy as np\n",
        "\n",
        "arr1 = np.array([[2, 3, 4]])\n",
        "arr2 = np.array([\n",
        "    [1, 2, 3, 4],\n",
        "    [5, 6, 7, 8],\n",
        "    [9, 10, 11, 12]\n",
        "])\n",
        "\n",
        "print(\"Array arr1:\")\n",
        "print(arr1)\n",
        "print(\"\\nArray arr2:\")\n",
        "print(arr2)\n",
        "\n",
        "result = arr2 * arr1.T\n",
        "\n",
        "print(\"\\nResult of broadcasting multiplication:\")\n",
        "print(result)"
      ],
      "metadata": {
        "colab": {
          "base_uri": "https://localhost:8080/"
        },
        "id": "pX3-eK_5fqZ1",
        "outputId": "a4ed913e-799d-4dc4-a7d6-d40b2a68e552"
      },
      "execution_count": 39,
      "outputs": [
        {
          "output_type": "stream",
          "name": "stdout",
          "text": [
            "Array arr1:\n",
            "[[2 3 4]]\n",
            "\n",
            "Array arr2:\n",
            "[[ 1  2  3  4]\n",
            " [ 5  6  7  8]\n",
            " [ 9 10 11 12]]\n",
            "\n",
            "Result of broadcasting multiplication:\n",
            "[[ 2  4  6  8]\n",
            " [15 18 21 24]\n",
            " [36 40 44 48]]\n"
          ]
        }
      ]
    },
    {
      "cell_type": "code",
      "source": [
        "# 38. Given a 1D array arr1 of shape (1, 4) and a 2D array arr2 of shape (4, 3), add arr1 to each row of arr2 using NumPy broadcasting.\n",
        "\n",
        "# Code\n",
        "\n",
        "import numpy as np\n",
        "\n",
        "arr1 = np.array([[2, 3, 4]])\n",
        "arr2 = np.array([\n",
        "    [1, 2, 3, 4],\n",
        "    [5, 6, 7, 8],\n",
        "    [9, 10, 11, 12]\n",
        "])\n",
        "\n",
        "print(\"Array arr1:\")\n",
        "print(arr1)\n",
        "print(\"\\nArray arr2:\")\n",
        "print(arr2)\n",
        "\n",
        "result = arr2 * arr1.T\n",
        "\n",
        "print(\"\\nResult of broadcasting multiplication:\")\n",
        "print(result)"
      ],
      "metadata": {
        "colab": {
          "base_uri": "https://localhost:8080/"
        },
        "id": "cbG7moX5fvzZ",
        "outputId": "ea41f5bb-fc48-41b7-bfca-f116865c2c81"
      },
      "execution_count": 40,
      "outputs": [
        {
          "output_type": "stream",
          "name": "stdout",
          "text": [
            "Array arr1:\n",
            "[[2 3 4]]\n",
            "\n",
            "Array arr2:\n",
            "[[ 1  2  3  4]\n",
            " [ 5  6  7  8]\n",
            " [ 9 10 11 12]]\n",
            "\n",
            "Result of broadcasting multiplication:\n",
            "[[ 2  4  6  8]\n",
            " [15 18 21 24]\n",
            " [36 40 44 48]]\n"
          ]
        }
      ]
    },
    {
      "cell_type": "code",
      "source": [
        "# 39. Consider two arrays arr1 of shape (3, 1) and arr2 of shape (1, 3). Add these arrays using NumPy broadcasting.\n",
        "\n",
        "# Code\n",
        "\n",
        "import numpy as np\n",
        "\n",
        "arr1 = np.array([[1],\n",
        "                [2],\n",
        "                [3]])\n",
        "arr2 = np.array([[4, 5, 6]])\n",
        "\n",
        "result = arr1 + arr2\n",
        "\n",
        "print(\"The resulting array after adding arr1 and arr2 is:\")\n",
        "print(result)"
      ],
      "metadata": {
        "colab": {
          "base_uri": "https://localhost:8080/"
        },
        "id": "cvfbkHIff2XA",
        "outputId": "8dff51cf-9dc6-453d-e188-0dd0e783271a"
      },
      "execution_count": 41,
      "outputs": [
        {
          "output_type": "stream",
          "name": "stdout",
          "text": [
            "The resulting array after adding arr1 and arr2 is:\n",
            "[[5 6 7]\n",
            " [6 7 8]\n",
            " [7 8 9]]\n"
          ]
        }
      ]
    },
    {
      "cell_type": "code",
      "source": [
        "# 40. Given arrays arr1 of shape (2, 3) and arr2 of shape (2, 2), perform multiplication using NumPy broadcasting. Handle the shape incompatibility.\n",
        "\n",
        "# Code\n",
        "\n",
        "import numpy as np\n",
        "\n",
        "arr1 = np.array([\n",
        "    [1, 2, 3],\n",
        "    [4, 5, 6]\n",
        "])\n",
        "\n",
        "arr2 = np.array([\n",
        "    [7, 8],\n",
        "    [9, 10]\n",
        "])\n",
        "\n",
        "print(\"Array arr1:\")\n",
        "print(arr1)\n",
        "print(\"\\nArray arr2:\")\n",
        "print(arr2)\n",
        "\n",
        "arr2_expanded = np.expand_dims(arr2, axis=2)\n",
        "arr1_expanded = np.expand_dims(arr1, axis=1)\n",
        "\n",
        "result = arr1_expanded * arr2_expanded\n",
        "\n",
        "print(\"\\nResult of broadcasting multiplication:\")\n",
        "print(result)"
      ],
      "metadata": {
        "colab": {
          "base_uri": "https://localhost:8080/"
        },
        "id": "Mn1fUJcLf8lh",
        "outputId": "bc0d16e1-ae82-44d2-c3e1-4bfdc066645e"
      },
      "execution_count": 42,
      "outputs": [
        {
          "output_type": "stream",
          "name": "stdout",
          "text": [
            "Array arr1:\n",
            "[[1 2 3]\n",
            " [4 5 6]]\n",
            "\n",
            "Array arr2:\n",
            "[[ 7  8]\n",
            " [ 9 10]]\n",
            "\n",
            "Result of broadcasting multiplication:\n",
            "[[[ 7 14 21]\n",
            "  [ 8 16 24]]\n",
            "\n",
            " [[36 45 54]\n",
            "  [40 50 60]]]\n"
          ]
        }
      ]
    },
    {
      "cell_type": "code",
      "source": [
        "# 41. Calculate column wise mean for the given array:\n",
        "# arr = np.array([[1, 2, 3], [4, 5, 6]])\n",
        "\n",
        "# Code\n",
        "\n",
        "import numpy as np\n",
        "\n",
        "arr = np.array([[1, 2, 3],\n",
        "                [4, 5, 6]])\n",
        "\n",
        "# Calculate column wise mean\n",
        "col_mean = np.mean(arr, axis=0)\n",
        "\n",
        "print(\"The column wise mean of the array is:\")\n",
        "print(col_mean)"
      ],
      "metadata": {
        "colab": {
          "base_uri": "https://localhost:8080/"
        },
        "id": "zrsc5NfUgDUY",
        "outputId": "25ab43da-811b-4dbc-9828-da6da6d43d94"
      },
      "execution_count": 43,
      "outputs": [
        {
          "output_type": "stream",
          "name": "stdout",
          "text": [
            "The column wise mean of the array is:\n",
            "[2.5 3.5 4.5]\n"
          ]
        }
      ]
    },
    {
      "cell_type": "code",
      "source": [
        "# 42. Find maximum value in each row of the given array:\n",
        "# arr = np.array([[1, 2, 3], [4, 5, 6]])\n",
        "\n",
        "# Code\n",
        "\n",
        "import numpy as np\n",
        "\n",
        "arr = np.array([[1, 2, 3],\n",
        "                [4, 5, 6]])\n",
        "\n",
        "row_max = np.max(arr, axis=1)\n",
        "\n",
        "print(\"The maximum value in each row of the array is:\")\n",
        "print(row_max)"
      ],
      "metadata": {
        "colab": {
          "base_uri": "https://localhost:8080/"
        },
        "id": "fuZh2jPhgQWg",
        "outputId": "310b5918-64a6-43cc-f77b-a8467b77c14d"
      },
      "execution_count": 44,
      "outputs": [
        {
          "output_type": "stream",
          "name": "stdout",
          "text": [
            "The maximum value in each row of the array is:\n",
            "[3 6]\n"
          ]
        }
      ]
    },
    {
      "cell_type": "code",
      "source": [
        "# 43. For the given array, find indices of maximum value in each column.\n",
        "# arr = np.array([[1, 2, 3], [4, 5, 6]])\n",
        "\n",
        "# Code\n",
        "\n",
        "import numpy as np\n",
        "\n",
        "arr = np.array([[1, 2, 3],\n",
        "                [4, 5, 6]])\n",
        "\n",
        "# Find indices of maximum value in each column\n",
        "col_max_indices = np.argmax(arr, axis=0)\n",
        "\n",
        "print(\"The indices of the maximum value in each column of the array are:\")\n",
        "print(col_max_indices)"
      ],
      "metadata": {
        "colab": {
          "base_uri": "https://localhost:8080/"
        },
        "id": "c_CyE242gYEv",
        "outputId": "05fa2c32-d92c-49f3-8249-f4f514f7714c"
      },
      "execution_count": 45,
      "outputs": [
        {
          "output_type": "stream",
          "name": "stdout",
          "text": [
            "The indices of the maximum value in each column of the array are:\n",
            "[1 1 1]\n"
          ]
        }
      ]
    },
    {
      "cell_type": "code",
      "source": [
        "# 44. For the given array, apply custom function to calculate moving sum along rows.\n",
        "# arr = np.array([[1, 2, 3], [4, 5, 6]])\n",
        "\n",
        "# Code\n",
        "\n",
        "import numpy as np\n",
        "\n",
        "def moving_sum(arr, window_size=2):\n",
        "    result = np.zeros((arr.shape[0], arr.shape[1] - window_size + 1))\n",
        "    for i in range(arr.shape[1] - window_size + 1):\n",
        "        result[:, i] = np.sum(arr[:, i:i+window_size], axis=1)\n",
        "    return result\n",
        "\n",
        "arr = np.array([[1, 2, 3], [4, 5, 6]])\n",
        "print(\"Original array:\")\n",
        "print(arr)\n",
        "\n",
        "result = moving_sum(arr, window_size=2)\n",
        "print(\"\\nMoving sum along rows with window size 2:\")\n",
        "print(result)"
      ],
      "metadata": {
        "colab": {
          "base_uri": "https://localhost:8080/"
        },
        "id": "-x73E2BmgoK9",
        "outputId": "812af42e-ee94-4d2d-b7f7-527039a5c588"
      },
      "execution_count": 46,
      "outputs": [
        {
          "output_type": "stream",
          "name": "stdout",
          "text": [
            "Original array:\n",
            "[[1 2 3]\n",
            " [4 5 6]]\n",
            "\n",
            "Moving sum along rows with window size 2:\n",
            "[[ 3.  5.]\n",
            " [ 9. 11.]]\n"
          ]
        }
      ]
    },
    {
      "cell_type": "code",
      "source": [
        "# 45. In the given array, check if all elements in each column are even.\n",
        "# arr = np.array([[2, 4, 6], [3, 5, 7]])\n",
        "\n",
        "# Code\n",
        "\n",
        "import numpy as np\n",
        "\n",
        "arr = np.array([[2, 4, 6],\n",
        "                [3, 5, 7]])\n",
        "\n",
        "is_even = np.all(arr % 2 == 0, axis=0)\n",
        "\n",
        "print(\"The result of checking if all elements in each column are even is:\")\n",
        "print(is_even)"
      ],
      "metadata": {
        "colab": {
          "base_uri": "https://localhost:8080/"
        },
        "id": "V603zwQbgwmp",
        "outputId": "29852706-d675-4363-f31b-5e4da4e602a6"
      },
      "execution_count": 47,
      "outputs": [
        {
          "output_type": "stream",
          "name": "stdout",
          "text": [
            "The result of checking if all elements in each column are even is:\n",
            "[False False False]\n"
          ]
        }
      ]
    },
    {
      "cell_type": "code",
      "source": [
        "# 46. Given a NumPy array arr, reshape it into a matrix of dimensions m rows and n columns. Return the reshaped matrix.\n",
        "# original_array = np.array([1, 2, 3, 4, 5, 6])\n",
        "\n",
        "# Code\n",
        "\n",
        "import numpy as np\n",
        "\n",
        "def reshape_matrix(arr, m, n):\n",
        "\n",
        "    reshaped_matrix = np.reshape(arr, (m, n))\n",
        "\n",
        "    return reshaped_matrix\n",
        "\n",
        "original_array = np.array([1, 2, 3, 4, 5, 6])\n",
        "\n",
        "reshaped_matrix = reshape_matrix(original_array, 2, 3)\n",
        "\n",
        "print(\"The reshaped matrix is:\")\n",
        "print(reshaped_matrix)"
      ],
      "metadata": {
        "colab": {
          "base_uri": "https://localhost:8080/"
        },
        "id": "pzSDCsUngx9U",
        "outputId": "9da2b16f-0305-49a1-8ac8-d2faffa1430c"
      },
      "execution_count": 48,
      "outputs": [
        {
          "output_type": "stream",
          "name": "stdout",
          "text": [
            "The reshaped matrix is:\n",
            "[[1 2 3]\n",
            " [4 5 6]]\n"
          ]
        }
      ]
    },
    {
      "cell_type": "code",
      "source": [
        "# 47. Create a function that takes a matrix as input and returns the flattened array.\n",
        "# input_matrix = np.array([[1, 2, 3], [4, 5, 6]])\n",
        "\n",
        "# Code\n",
        "\n",
        "import numpy as np\n",
        "\n",
        "def flatten_matrix(matrix):\n",
        "\n",
        "    flattened_array = np.ravel(matrix)\n",
        "\n",
        "    return flattened_array\n",
        "\n",
        "input_matrix = np.array([[1, 2, 3],\n",
        "                          [4, 5, 6]])\n",
        "\n",
        "flattened_array = flatten_matrix(input_matrix)\n",
        "\n",
        "print(\"The flattened array is:\")\n",
        "print(flattened_array)"
      ],
      "metadata": {
        "colab": {
          "base_uri": "https://localhost:8080/"
        },
        "id": "oB0s9GaThcb7",
        "outputId": "1bd7f55a-e0e5-4adc-e7de-62d391b249bb"
      },
      "execution_count": 49,
      "outputs": [
        {
          "output_type": "stream",
          "name": "stdout",
          "text": [
            "The flattened array is:\n",
            "[1 2 3 4 5 6]\n"
          ]
        }
      ]
    },
    {
      "cell_type": "code",
      "source": [
        "# 48. Write a function that concatenates two given arrays along a specified axis.\n",
        "# array1 = np.array([[1, 2], [3, 4]])\n",
        "# array2 = np.array([[5, 6], [7, 8]])\n",
        "\n",
        "# Code\n",
        "\n",
        "import numpy as np\n",
        "\n",
        "def concatenate_arrays(array1, array2, axis=0):\n",
        "\n",
        "    output_array = np.concatenate((array1, array2), axis=axis)\n",
        "    return output_array\n",
        "\n",
        "array1 = np.array([[1, 2],\n",
        "                      [3, 4]])\n",
        "\n",
        "array2 = np.array([[5, 6],\n",
        "                      [7, 8]])\n",
        "output_array = concatenate_arrays(array1, array2)\n",
        "\n",
        "print(\"The output array after concatenation along the default axis (axis=0) is:\")\n",
        "print(output_array)\n",
        "\n",
        "output_array = concatenate_arrays(array1, array2, axis=1)\n",
        "\n",
        "print(\"The output array after concatenation along the other axis (axis=1) is:\")\n",
        "print(output_array)"
      ],
      "metadata": {
        "colab": {
          "base_uri": "https://localhost:8080/"
        },
        "id": "Wexus3pphwvK",
        "outputId": "4ae25bf3-1c21-41fa-dec5-dbdc69a68fc9"
      },
      "execution_count": 50,
      "outputs": [
        {
          "output_type": "stream",
          "name": "stdout",
          "text": [
            "The output array after concatenation along the default axis (axis=0) is:\n",
            "[[1 2]\n",
            " [3 4]\n",
            " [5 6]\n",
            " [7 8]]\n",
            "The output array after concatenation along the other axis (axis=1) is:\n",
            "[[1 2 5 6]\n",
            " [3 4 7 8]]\n"
          ]
        }
      ]
    },
    {
      "cell_type": "code",
      "source": [
        "# 49. Create a function that splits an array into multiple sub-arrays along a specified axis.\n",
        "#     original_array = np.array([[1, 2, 3], [4, 5, 6], [7, 8, 9]])\n",
        "\n",
        "# Code\n",
        "\n",
        "import numpy as np\n",
        "\n",
        "def split_array(arr, num_splits, axis=0):\n",
        "\n",
        "    return np.array_split(arr, num_splits, axis=axis)\n",
        "\n",
        "original_array = np.array([[1, 2, 3], [4, 5, 6], [7, 8, 9]])\n",
        "print(\"Original array:\")\n",
        "print(original_array)\n",
        "\n",
        "sub_arrays_axis_0 = split_array(original_array, 3, axis=0)\n",
        "print(\"\\nSplit array along axis 0:\")\n",
        "for i, sub_array in enumerate(sub_arrays_axis_0):\n",
        "    print(f\"Sub-array {i}:\\n{sub_array}\")\n",
        "\n",
        "sub_arrays_axis_1 = split_array(original_array, 3, axis=1)\n",
        "print(\"\\nSplit array along axis 1:\")\n",
        "for i, sub_array in enumerate(sub_arrays_axis_1):\n",
        "    print(f\"Sub-array {i}:\\n{sub_array}\")"
      ],
      "metadata": {
        "colab": {
          "base_uri": "https://localhost:8080/"
        },
        "id": "25WMm7_oiE5K",
        "outputId": "b62e06f2-c91e-4554-d885-e269fab78ffb"
      },
      "execution_count": 51,
      "outputs": [
        {
          "output_type": "stream",
          "name": "stdout",
          "text": [
            "Original array:\n",
            "[[1 2 3]\n",
            " [4 5 6]\n",
            " [7 8 9]]\n",
            "\n",
            "Split array along axis 0:\n",
            "Sub-array 0:\n",
            "[[1 2 3]]\n",
            "Sub-array 1:\n",
            "[[4 5 6]]\n",
            "Sub-array 2:\n",
            "[[7 8 9]]\n",
            "\n",
            "Split array along axis 1:\n",
            "Sub-array 0:\n",
            "[[1]\n",
            " [4]\n",
            " [7]]\n",
            "Sub-array 1:\n",
            "[[2]\n",
            " [5]\n",
            " [8]]\n",
            "Sub-array 2:\n",
            "[[3]\n",
            " [6]\n",
            " [9]]\n"
          ]
        }
      ]
    },
    {
      "cell_type": "code",
      "source": [
        "# 50. Write a function that inserts and then deletes elements from a given array at specified indices.\n",
        "#     original_array = np.array([1, 2, 3, 4, 5])\n",
        "#     indices_to_insert = [2, 4]\n",
        "#     values_to_insert = [10, 11]\n",
        "#     indices_to_delete = [1, 3]\n",
        "\n",
        "# Code\n",
        "\n",
        "import numpy as np\n",
        "\n",
        "def insert_and_delete_elements(arr, indices_to_insert, values_to_insert, indices_to_delete):\n",
        "\n",
        "    modified_array = np.insert(arr, indices_to_insert, values_to_insert)\n",
        "\n",
        "    modified_array = np.delete(modified_array, indices_to_delete)\n",
        "\n",
        "    return modified_array\n",
        "\n",
        "original_array = np.array([1, 2, 3, 4, 5])\n",
        "indices_to_insert = [2, 4]\n",
        "values_to_insert = [10, 11]\n",
        "indices_to_delete = [1, 3]\n",
        "\n",
        "print(\"Original array:\")\n",
        "print(original_array)\n",
        "\n",
        "result = insert_and_delete_elements(original_array, indices_to_insert, values_to_insert, indices_to_delete)\n",
        "print(\"\\nModified array after insertion and deletion:\")\n",
        "print(result)"
      ],
      "metadata": {
        "colab": {
          "base_uri": "https://localhost:8080/"
        },
        "id": "UiktaVe-if65",
        "outputId": "a1e312fd-8dc6-4a4f-90d0-600c19516fbe"
      },
      "execution_count": 52,
      "outputs": [
        {
          "output_type": "stream",
          "name": "stdout",
          "text": [
            "Original array:\n",
            "[1 2 3 4 5]\n",
            "\n",
            "Modified array after insertion and deletion:\n",
            "[ 1 10  4 11  5]\n"
          ]
        }
      ]
    },
    {
      "cell_type": "code",
      "source": [
        "# 51. Create a NumPy array arr1 with random integers and another array arr2 with integers from 1 to 10. Perform element-wise addition between arr1 and arr2.\n",
        "\n",
        "# Code\n",
        "\n",
        "import numpy as np\n",
        "\n",
        "arr1 = np.random.randint(1, 100, size=10)\n",
        "print(\"Array arr1:\")\n",
        "print(arr1)\n",
        "\n",
        "arr2 = np.arange(1, 11)\n",
        "print(\"\\nArray arr2:\")\n",
        "print(arr2)\n",
        "\n",
        "result = arr1 + arr2\n",
        "print(\"\\nResult of element-wise addition:\")\n",
        "print(result)"
      ],
      "metadata": {
        "colab": {
          "base_uri": "https://localhost:8080/"
        },
        "id": "7Jse4Z5SiycH",
        "outputId": "d5da018f-1806-4ada-edf9-bca4b73f356f"
      },
      "execution_count": 53,
      "outputs": [
        {
          "output_type": "stream",
          "name": "stdout",
          "text": [
            "Array arr1:\n",
            "[29 98 22 20 73 12 94 72 86 65]\n",
            "\n",
            "Array arr2:\n",
            "[ 1  2  3  4  5  6  7  8  9 10]\n",
            "\n",
            "Result of element-wise addition:\n",
            "[ 30 100  25  24  78  18 101  80  95  75]\n"
          ]
        }
      ]
    },
    {
      "cell_type": "code",
      "source": [
        "# 52. Generate a NumPy array arr1 with sequential integers from 10 to 1 and another array arr2 with integers from 1 to 10. Subtract arr2 from arr1 element-wise.\n",
        "\n",
        "# Code\n",
        "\n",
        "import numpy as np\n",
        "\n",
        "arr1 = np.arange(10, 0, -1)\n",
        "arr2 = np.arange(1, 11)\n",
        "result = arr1 - arr2\n",
        "\n",
        "print(\"Array arr1: \", arr1)\n",
        "print(\"Array arr2: \", arr2)\n",
        "print(\"Result array: \", result)"
      ],
      "metadata": {
        "colab": {
          "base_uri": "https://localhost:8080/"
        },
        "id": "swGly9oljrI2",
        "outputId": "6dec0fbb-cfe1-43e3-8e79-be4d551b7f65"
      },
      "execution_count": 54,
      "outputs": [
        {
          "output_type": "stream",
          "name": "stdout",
          "text": [
            "Array arr1:  [10  9  8  7  6  5  4  3  2  1]\n",
            "Array arr2:  [ 1  2  3  4  5  6  7  8  9 10]\n",
            "Result array:  [ 9  7  5  3  1 -1 -3 -5 -7 -9]\n"
          ]
        }
      ]
    },
    {
      "cell_type": "code",
      "source": [
        "# 53. Create a NumPy array arr1 with random integers and another array arr2 with integers from 1 to 5. Perform element-wise multiplication between arr1 and arr2.\n",
        "\n",
        "# Code\n",
        "\n",
        "import numpy as np\n",
        "\n",
        "arr1 = np.random.randint(1, 10, size=(5,))\n",
        "arr2 = np.arange(1, 6)\n",
        "result = arr1 * arr2[:, np.newaxis]\n",
        "\n",
        "print(\"Array arr1: \", arr1)\n",
        "print(\"Array arr2: \", arr2)\n",
        "print(\"Result array: \", result)"
      ],
      "metadata": {
        "colab": {
          "base_uri": "https://localhost:8080/"
        },
        "id": "Sq5P6jLJj0KN",
        "outputId": "5cfdddff-cac3-4490-de36-496a208865b9"
      },
      "execution_count": 55,
      "outputs": [
        {
          "output_type": "stream",
          "name": "stdout",
          "text": [
            "Array arr1:  [5 7 3 4 8]\n",
            "Array arr2:  [1 2 3 4 5]\n",
            "Result array:  [[ 5  7  3  4  8]\n",
            " [10 14  6  8 16]\n",
            " [15 21  9 12 24]\n",
            " [20 28 12 16 32]\n",
            " [25 35 15 20 40]]\n"
          ]
        }
      ]
    },
    {
      "cell_type": "code",
      "source": [
        "# 54. Generate a NumPy array arr1 with even integers from 2 to 10 and another array arr2 with integers from 1 to 5. Perform element-wise division of arr1 by arr2.\n",
        "\n",
        "# Code\n",
        "\n",
        "import numpy as np\n",
        "\n",
        "arr1 = np.arange(2, 12, 2)\n",
        "arr2 = np.arange(1, 6)\n",
        "\n",
        "result = arr1 / arr2[:, np.newaxis]\n",
        "\n",
        "print(\"Array arr1: \", arr1)\n",
        "print(\"Array arr2: \", arr2)\n",
        "print(\"Result array: \", result)"
      ],
      "metadata": {
        "colab": {
          "base_uri": "https://localhost:8080/"
        },
        "id": "ayTjrl2Uj9NV",
        "outputId": "a27052f1-4148-453b-d89b-ffc72eadf3a5"
      },
      "execution_count": 56,
      "outputs": [
        {
          "output_type": "stream",
          "name": "stdout",
          "text": [
            "Array arr1:  [ 2  4  6  8 10]\n",
            "Array arr2:  [1 2 3 4 5]\n",
            "Result array:  [[ 2.          4.          6.          8.         10.        ]\n",
            " [ 1.          2.          3.          4.          5.        ]\n",
            " [ 0.66666667  1.33333333  2.          2.66666667  3.33333333]\n",
            " [ 0.5         1.          1.5         2.          2.5       ]\n",
            " [ 0.4         0.8         1.2         1.6         2.        ]]\n"
          ]
        }
      ]
    },
    {
      "cell_type": "code",
      "source": [
        "# 55. Create a NumPy array arr1 with integers from 1 to 5 and another array arr2 with the same numbers reversed. Calculate the exponentiation of arr1 raised to the power of arr2 element-wise.\n",
        "\n",
        "# Code\n",
        "\n",
        "import numpy as np\n",
        "\n",
        "arr1 = np.array([1, 2, 3, 4, 5])\n",
        "arr2 = np.array([5, 4, 3, 2, 1])\n",
        "\n",
        "result = np.power(arr1, arr2)\n",
        "\n",
        "print(\"Array arr1: \", arr1)\n",
        "print(\"Array arr2: \", arr2)\n",
        "print(\"Result array: \", result)"
      ],
      "metadata": {
        "colab": {
          "base_uri": "https://localhost:8080/"
        },
        "id": "MImrBN8pkCtA",
        "outputId": "48b7c19d-c3f9-4393-d714-c2828dcb8cc8"
      },
      "execution_count": 57,
      "outputs": [
        {
          "output_type": "stream",
          "name": "stdout",
          "text": [
            "Array arr1:  [1 2 3 4 5]\n",
            "Array arr2:  [5 4 3 2 1]\n",
            "Result array:  [ 1 16 27 16  5]\n"
          ]
        }
      ]
    },
    {
      "cell_type": "code",
      "source": [
        "# 56. Write a function that counts the occurrences of a specific substring within a NumPy array of strings.\n",
        "#     arr = np.array(['hello', 'world', 'hello', 'numpy', 'hello'])\n",
        "\n",
        "# Code\n",
        "\n",
        "import numpy as np\n",
        "\n",
        "def count_substring(arr, substring):\n",
        "\n",
        "    return np.sum(np.char.find(arr, substring) >= 0)\n",
        "\n",
        "arr = np.array(['hello', 'world', 'hello', 'numpy', 'hello'])\n",
        "substring = 'hello'\n",
        "\n",
        "result = count_substring(arr, substring)\n",
        "\n",
        "print(\"Array: \", arr)\n",
        "print(\"Substring: \", substring)\n",
        "print(\"Number of occurrences: \", result)"
      ],
      "metadata": {
        "colab": {
          "base_uri": "https://localhost:8080/"
        },
        "id": "8YRt4m4UkDpW",
        "outputId": "5eb6bf84-2b48-4ba5-d30f-a66da4043575"
      },
      "execution_count": 58,
      "outputs": [
        {
          "output_type": "stream",
          "name": "stdout",
          "text": [
            "Array:  ['hello' 'world' 'hello' 'numpy' 'hello']\n",
            "Substring:  hello\n",
            "Number of occurrences:  3\n"
          ]
        }
      ]
    },
    {
      "cell_type": "code",
      "source": [
        "# 57. Write a function that extracts uppercase characters from a NumPy array of strings.\n",
        "#     arr = np.array(['Hello', 'World', 'OpenAI', 'GPT'])\n",
        "\n",
        "# Code\n",
        "\n",
        "import numpy as np\n",
        "\n",
        "def extract_uppercase_characters(arr):\n",
        "\n",
        "    uppercase_characters = []\n",
        "    for string in arr:\n",
        "        for char in string:\n",
        "            if char.isupper():\n",
        "                uppercase_characters.append(char)\n",
        "    return uppercase_characters\n",
        "\n",
        "string_array = np.array([\"Hello World\", \"NumPy Arrays\", \"OpenAI GPT-3\", \"Data Science\"])\n",
        "print(\"Original array of strings:\")\n",
        "print(string_array)\n",
        "\n",
        "uppercase_characters = extract_uppercase_characters(string_array)\n",
        "print(\"\\nUppercase characters extracted:\")\n",
        "print(uppercase_characters)"
      ],
      "metadata": {
        "colab": {
          "base_uri": "https://localhost:8080/"
        },
        "id": "7RmILKngkSgZ",
        "outputId": "9e842261-b18d-4cbf-e013-f98f5a29b962"
      },
      "execution_count": 59,
      "outputs": [
        {
          "output_type": "stream",
          "name": "stdout",
          "text": [
            "Original array of strings:\n",
            "['Hello World' 'NumPy Arrays' 'OpenAI GPT-3' 'Data Science']\n",
            "\n",
            "Uppercase characters extracted:\n",
            "['H', 'W', 'N', 'P', 'A', 'O', 'A', 'I', 'G', 'P', 'T', 'D', 'S']\n"
          ]
        }
      ]
    },
    {
      "cell_type": "code",
      "source": [
        "# 58. Write a function that replaces occurrences of a substring in a NumPy array of strings with a new string.\n",
        "#     arr = np.array(['apple', 'banana', 'grape', 'pineapple'])\n",
        "\n",
        "# Code\n",
        "\n",
        "import numpy as np\n",
        "\n",
        "def replace_substring(arr, old_substring, new_substring):\n",
        "\n",
        "    return np.char.replace(arr, old_substring, new_substring)\n",
        "\n",
        "arr = np.array(['apple', 'banana', 'grape', 'pineapple'])\n",
        "\n",
        "result = replace_substring(arr, 'apple', 'orange')\n",
        "\n",
        "print(\"Array: \", arr)\n",
        "print(\"Replaced array: \", result)"
      ],
      "metadata": {
        "colab": {
          "base_uri": "https://localhost:8080/"
        },
        "id": "Svyzr9P1kc51",
        "outputId": "4c410f02-d705-4389-a802-7f1bec50a065"
      },
      "execution_count": 60,
      "outputs": [
        {
          "output_type": "stream",
          "name": "stdout",
          "text": [
            "Array:  ['apple' 'banana' 'grape' 'pineapple']\n",
            "Replaced array:  ['orange' 'banana' 'grape' 'pineorange']\n"
          ]
        }
      ]
    },
    {
      "cell_type": "code",
      "source": [
        "# 59. Write a function that concatenates strings in a NumPy array element-wise.\n",
        "#     arr1 = np.array(['Hello', 'World'])\n",
        "#     arr2 = np.array(['Open', 'AI'])\n",
        "\n",
        "# Code\n",
        "\n",
        "\n",
        "import numpy as np\n",
        "\n",
        "def concatenate_strings(arr1, arr2):\n",
        "\n",
        "    return np.char.add(arr1, arr2)\n",
        "\n",
        "arr1 = np.array(['Hello', 'World'])\n",
        "arr2 = np.array(['Open', 'AI'])\n",
        "\n",
        "result = concatenate_strings(arr1, arr2)\n",
        "\n",
        "print(\"Array 1: \", arr1)\n",
        "print(\"Array 2: \", arr2)\n",
        "print(\"Concatenated array: \", result)"
      ],
      "metadata": {
        "colab": {
          "base_uri": "https://localhost:8080/"
        },
        "id": "l3Udie3Qkko0",
        "outputId": "c64e2799-f60e-4702-f664-586024228d68"
      },
      "execution_count": 61,
      "outputs": [
        {
          "output_type": "stream",
          "name": "stdout",
          "text": [
            "Array 1:  ['Hello' 'World']\n",
            "Array 2:  ['Open' 'AI']\n",
            "Concatenated array:  ['HelloOpen' 'WorldAI']\n"
          ]
        }
      ]
    },
    {
      "cell_type": "code",
      "source": [
        "# 60. Write a function that finds the length of the longest string in a NumPy array.\n",
        "#     arr = np.array(['apple', 'banana', 'grape', 'pineapple'])\n",
        "\n",
        "# Code\n",
        "\n",
        "import numpy as np\n",
        "\n",
        "def longest_string_length(arr):\n",
        "\n",
        "    return np.max(np.char.str_len(arr))\n",
        "\n",
        "arr = np.array(['apple', 'banana', 'grape', 'pineapple'])\n",
        "\n",
        "result = longest_string_length(arr)\n",
        "\n",
        "print(\"Array: \", arr)\n",
        "print(\"Length of longest string: \", result)"
      ],
      "metadata": {
        "colab": {
          "base_uri": "https://localhost:8080/"
        },
        "id": "2PdQpe_MlYZT",
        "outputId": "a57f23b5-924c-4eee-882b-cac21a0dc931"
      },
      "execution_count": 62,
      "outputs": [
        {
          "output_type": "stream",
          "name": "stdout",
          "text": [
            "Array:  ['apple' 'banana' 'grape' 'pineapple']\n",
            "Length of longest string:  9\n"
          ]
        }
      ]
    },
    {
      "cell_type": "code",
      "source": [
        "# 61. Create a dataset of 100 random integers between 1 and 1000. Compute the mean, median, variance, and standard deviation of the dataset using NumPy's functions.\n",
        "\n",
        "# Code\n",
        "\n",
        "import numpy as np\n",
        "\n",
        "dataset = np.random.randint(1, 1001, size=100)\n",
        "\n",
        "mean = np.mean(dataset)\n",
        "median = np.median(dataset)\n",
        "variance = np.var(dataset)\n",
        "std_deviation = np.std(dataset)\n",
        "\n",
        "print(\"Dataset: \", dataset)\n",
        "print(\"Mean: \", mean)\n",
        "print(\"Median: \", median)\n",
        "print(\"Variance: \", variance)\n",
        "print(\"Standard Deviation: \", std_deviation)"
      ],
      "metadata": {
        "colab": {
          "base_uri": "https://localhost:8080/"
        },
        "id": "ixdrg2JnmGlp",
        "outputId": "7bd20f5a-abbd-4efd-a3aa-de792d988008"
      },
      "execution_count": 63,
      "outputs": [
        {
          "output_type": "stream",
          "name": "stdout",
          "text": [
            "Dataset:  [188 206 867 733 689 270 129 130 715 271 945 455 828 942 513 446 784 583\n",
            " 948 165 136 703 202 465 720 578 703 336 532  85 477 227 837 398 521 705\n",
            " 584 876 634 490  76 275  33 145 947 788 488  65 293 485 763 133 163 677\n",
            " 979 302 412 826 345 183 795 437 463 316 343 564  36   4 344  60 657  29\n",
            " 189 535 217 106 174 504 601 103 926 528 449 329 889 138 102 351 765  86\n",
            " 627 870  12  59   8 632 742  29 661 811]\n",
            "Mean:  448.85\n",
            "Median:  459.0\n",
            "Variance:  82476.7075\n",
            "Standard Deviation:  287.18758242653877\n"
          ]
        }
      ]
    },
    {
      "cell_type": "code",
      "source": [
        "# 62. Generate an array of 50 random numbers between 1 and 100. Find the 25th and 75th percentiles of the dataset.\n",
        "\n",
        "# Code\n",
        "\n",
        "import numpy as np\n",
        "\n",
        "dataset = np.random.randint(1, 101, size=50)\n",
        "\n",
        "q1 = np.percentile(dataset, 25)\n",
        "q3 = np.percentile(dataset, 75)\n",
        "\n",
        "print(\"Dataset: \", dataset)\n",
        "print(\"25th percentile: \", q1)\n",
        "print(\"75th percentile: \", q3)"
      ],
      "metadata": {
        "colab": {
          "base_uri": "https://localhost:8080/"
        },
        "id": "N6ZVnTz9mSZA",
        "outputId": "5bef8622-a50d-4703-d617-943a7afc628f"
      },
      "execution_count": 64,
      "outputs": [
        {
          "output_type": "stream",
          "name": "stdout",
          "text": [
            "Dataset:  [47 13 68  2 46 49 54 80 29 20 48 27 26 60 80 48 25 98 29 43 18 54 90  6\n",
            " 22 16 88 75 86 11 24 20 17 11 91 29 19 42 73 39 38 30 28 40 67  1 85 62\n",
            " 66 44]\n",
            "25th percentile:  22.5\n",
            "75th percentile:  65.0\n"
          ]
        }
      ]
    },
    {
      "cell_type": "code",
      "source": [
        "# 63. Create two arrays representing two sets of variables. Compute the correlation coefficient between these arrays using NumPy's corrcoef function.\n",
        "\n",
        "# Code\n",
        "\n",
        "import numpy as np\n",
        "\n",
        "array1 = np.array([1, 2, 3, 4, 5])\n",
        "array2 = np.array([2, 3, 5, 6, 7])\n",
        "\n",
        "result = np.corrcoef(array1, array2)[0, 1]\n",
        "\n",
        "print(\"Array 1: \", array1)\n",
        "print(\"Array 2: \", array2)\n",
        "print(\"Correlation coefficient: \", result)"
      ],
      "metadata": {
        "colab": {
          "base_uri": "https://localhost:8080/"
        },
        "id": "dxX6c62OnjHM",
        "outputId": "98e670f8-a1a0-43b6-d395-d823e85589c6"
      },
      "execution_count": 65,
      "outputs": [
        {
          "output_type": "stream",
          "name": "stdout",
          "text": [
            "Array 1:  [1 2 3 4 5]\n",
            "Array 2:  [2 3 5 6 7]\n",
            "Correlation coefficient:  0.9912407071619304\n"
          ]
        }
      ]
    },
    {
      "cell_type": "code",
      "source": [
        "# 64. Create two matrices and perform matrix multiplication using NumPy's `dot` function.\n",
        "\n",
        "# Code\n",
        "\n",
        "import numpy as np\n",
        "\n",
        "matrix_a = np.array([[1, 2], [3, 4]])\n",
        "matrix_b = np.array([[5, 6], [7, 8]])\n",
        "\n",
        "print(\"Matrix A:\")\n",
        "print(matrix_a)\n",
        "print(\"\\nMatrix B:\")\n",
        "print(matrix_b)\n",
        "\n",
        "result = np.dot(matrix_a, matrix_b)\n",
        "\n",
        "print(\"\\nResult of Matrix Multiplication:\")\n",
        "print(result)\n"
      ],
      "metadata": {
        "colab": {
          "base_uri": "https://localhost:8080/"
        },
        "id": "U60mOGiumXRx",
        "outputId": "b23b4468-c425-47fc-dec9-3073659c0998"
      },
      "execution_count": 66,
      "outputs": [
        {
          "output_type": "stream",
          "name": "stdout",
          "text": [
            "Matrix A:\n",
            "[[1 2]\n",
            " [3 4]]\n",
            "\n",
            "Matrix B:\n",
            "[[5 6]\n",
            " [7 8]]\n",
            "\n",
            "Result of Matrix Multiplication:\n",
            "[[19 22]\n",
            " [43 50]]\n"
          ]
        }
      ]
    },
    {
      "cell_type": "code",
      "source": [
        "# 65. Create an array of 50 integers between 10 and 1000. Calculate the 10th, 50th (median), and 90th percentiles along with the first and third quartiles.\n",
        "\n",
        "# Code\n",
        "\n",
        "import numpy as np\n",
        "\n",
        "array = np.random.randint(10, 1001, size=50)\n",
        "\n",
        "p10 = np.percentile(array, 10)\n",
        "p50 = np.percentile(array, 50)\n",
        "p90 = np.percentile(array, 90)\n",
        "\n",
        "q1 = np.percentile(array, 25)\n",
        "q3 = np.percentile(array, 75)\n",
        "\n",
        "print(\"Array:\")\n",
        "print(array)\n",
        "print(\"\\nPercentiles:\")\n",
        "print(\"10th percentile: \", p10)\n",
        "print(\"50th percentile (median): \", p50)\n",
        "print(\"90th percentile: \", p90)\n",
        "print(\"\\nQuartiles:\")\n",
        "print(\"1st quartile: \", q1)\n",
        "print(\"3rd quartile: \", q3)"
      ],
      "metadata": {
        "colab": {
          "base_uri": "https://localhost:8080/"
        },
        "id": "6VbxcWVgoTIv",
        "outputId": "ef2dce57-39a7-4dff-c345-f71dbc4f58cb"
      },
      "execution_count": 67,
      "outputs": [
        {
          "output_type": "stream",
          "name": "stdout",
          "text": [
            "Array:\n",
            "[501 209 283 949 284 249 355 954 146  45 779 624 742 195 142  67 150 136\n",
            "  91 808 963 221 734  87 685 641 334 585 675 937  20  18 469  23 703 427\n",
            " 408 730 847 448 105 409 210 418 632 992 567 365 231  58]\n",
            "\n",
            "Percentiles:\n",
            "10th percentile:  66.10000000000001\n",
            "50th percentile (median):  408.5\n",
            "90th percentile:  856.0000000000001\n",
            "\n",
            "Quartiles:\n",
            "1st quartile:  161.25\n",
            "3rd quartile:  682.5\n"
          ]
        }
      ]
    },
    {
      "cell_type": "code",
      "source": [
        "# 66. Create a NumPy array of integers and find the index of a specific element.\n",
        "\n",
        "# Code\n",
        "\n",
        "import numpy as np\n",
        "\n",
        "array = np.array([1, 2, 3, 4, 5, 6, 7, 8, 9, 10])\n",
        "\n",
        "index = np.where(array == 7)[0][0]\n",
        "\n",
        "print(\"Array:\")\n",
        "print(array)\n",
        "print(\"\\nIndex of 7: \", index)"
      ],
      "metadata": {
        "colab": {
          "base_uri": "https://localhost:8080/"
        },
        "id": "EEg-4xwJqIO1",
        "outputId": "87bc2319-ecbf-4322-b635-0b5ca95781d2"
      },
      "execution_count": 68,
      "outputs": [
        {
          "output_type": "stream",
          "name": "stdout",
          "text": [
            "Array:\n",
            "[ 1  2  3  4  5  6  7  8  9 10]\n",
            "\n",
            "Index of 7:  6\n"
          ]
        }
      ]
    },
    {
      "cell_type": "code",
      "source": [
        "# 67. Generate a random NumPy array and sort it in ascending order.\n",
        "\n",
        "# Code\n",
        "\n",
        "import numpy as np\n",
        "\n",
        "array = np.random.rand(10)\n",
        "\n",
        "sorted_array = np.sort(array)\n",
        "\n",
        "print(\"Original array:\")\n",
        "print(array)\n",
        "print(\"\\nSorted array:\")\n",
        "print(sorted_array)"
      ],
      "metadata": {
        "colab": {
          "base_uri": "https://localhost:8080/"
        },
        "id": "alkptTBCrajB",
        "outputId": "c76ebfb1-d845-4088-ac3c-fe798e3c121f"
      },
      "execution_count": 69,
      "outputs": [
        {
          "output_type": "stream",
          "name": "stdout",
          "text": [
            "Original array:\n",
            "[0.58869812 0.34149151 0.8367626  0.65065021 0.83978471 0.49704115\n",
            " 0.42809142 0.36142838 0.00251829 0.52438666]\n",
            "\n",
            "Sorted array:\n",
            "[0.00251829 0.34149151 0.36142838 0.42809142 0.49704115 0.52438666\n",
            " 0.58869812 0.65065021 0.8367626  0.83978471]\n"
          ]
        }
      ]
    },
    {
      "cell_type": "code",
      "source": [
        "# 68. Filter elements >20 in the given NumPy array.\n",
        "#     arr = np.array([12, 25, 6, 42, 8, 30])\n",
        "\n",
        "# Code\n",
        "\n",
        "import numpy as np\n",
        "\n",
        "arr = np.array([12, 25, 6, 42, 8, 30])\n",
        "\n",
        "filtered_arr = arr[arr > 20]\n",
        "\n",
        "print(\"Original array:\")\n",
        "print(arr)\n",
        "print(\"\\nFiltered array:\")\n",
        "print(filtered_arr)"
      ],
      "metadata": {
        "colab": {
          "base_uri": "https://localhost:8080/"
        },
        "id": "rIaASayFsyLO",
        "outputId": "8f5a57ae-caaf-4322-dac3-915f869e823c"
      },
      "execution_count": 70,
      "outputs": [
        {
          "output_type": "stream",
          "name": "stdout",
          "text": [
            "Original array:\n",
            "[12 25  6 42  8 30]\n",
            "\n",
            "Filtered array:\n",
            "[25 42 30]\n"
          ]
        }
      ]
    },
    {
      "cell_type": "code",
      "source": [
        "# 69. Filter elements which are divisible by 3 from a given NumPy array.\n",
        "#     arr = np.array([1, 5, 8, 12, 15])\n",
        "\n",
        "# Code\n",
        "\n",
        "import numpy as np\n",
        "\n",
        "arr = np.array([1, 5, 8, 12, 15])\n",
        "\n",
        "filtered_arr = arr[arr % 3 == 0]\n",
        "print(\"Original array:\")\n",
        "print(arr)\n",
        "print(\"\\nFiltered array:\")\n",
        "print(filtered_arr)"
      ],
      "metadata": {
        "colab": {
          "base_uri": "https://localhost:8080/"
        },
        "id": "icFHa1ZttnYL",
        "outputId": "f6f61f4d-270a-4485-c15f-a790d6f94dbe"
      },
      "execution_count": 71,
      "outputs": [
        {
          "output_type": "stream",
          "name": "stdout",
          "text": [
            "Original array:\n",
            "[ 1  5  8 12 15]\n",
            "\n",
            "Filtered array:\n",
            "[12 15]\n"
          ]
        }
      ]
    },
    {
      "cell_type": "code",
      "source": [
        "# 70. Filter elements which are ≥ 20 and ≤ 40 from a given NumPy array.\n",
        "#     arr = np.array([10, 20, 30, 40, 50])\n",
        "\n",
        "# Code\n",
        "\n",
        "import numpy as np\n",
        "\n",
        "arr = np.array([10, 20, 30, 40, 50])\n",
        "filtered_arr = arr[(arr >= 20) & (arr <= 40)]\n",
        "\n",
        "print(\"Original array:\")\n",
        "print(arr)\n",
        "print(\"\\nFiltered array:\")\n",
        "print(filtered_arr)"
      ],
      "metadata": {
        "colab": {
          "base_uri": "https://localhost:8080/"
        },
        "id": "cXUgIWoAuaxr",
        "outputId": "6da92a37-34ae-4ef2-ea5d-17eec50127cd"
      },
      "execution_count": 72,
      "outputs": [
        {
          "output_type": "stream",
          "name": "stdout",
          "text": [
            "Original array:\n",
            "[10 20 30 40 50]\n",
            "\n",
            "Filtered array:\n",
            "[20 30 40]\n"
          ]
        }
      ]
    },
    {
      "cell_type": "code",
      "source": [
        "# 71. For the given NumPy array, check its byte order using the dtype attribute byteorder.\n",
        "#     arr = np.array([1, 2, 3])\n",
        "\n",
        "# Code\n",
        "\n",
        "import numpy as np\n",
        "arr = np.array([1, 2, 3])\n",
        "print(\"Original array:\")\n",
        "print(arr)\n",
        "\n",
        "byte_order = arr.dtype.byteorder\n",
        "print(\"\\nByte order of the array:\")\n",
        "print(byte_order)\n",
        "\n",
        "if byte_order == '<':\n",
        "    print(\"Little-endian\")\n",
        "elif byte_order == '>':\n",
        "    print(\"Big-endian\")\n",
        "else:\n",
        "    print(\"Native byte order (depends on system endianness)\")"
      ],
      "metadata": {
        "colab": {
          "base_uri": "https://localhost:8080/"
        },
        "id": "XUJXIZofv7WA",
        "outputId": "adf535d8-e699-464d-fdf7-a2b33e7b28c2"
      },
      "execution_count": 73,
      "outputs": [
        {
          "output_type": "stream",
          "name": "stdout",
          "text": [
            "Original array:\n",
            "[1 2 3]\n",
            "\n",
            "Byte order of the array:\n",
            "=\n",
            "Native byte order (depends on system endianness)\n"
          ]
        }
      ]
    },
    {
      "cell_type": "code",
      "source": [
        "# 72. For the given NumPy array, perform byte swapping in place using 'byteswap()`.\n",
        "#     arr = np.array ([1, 2, 3], dtype=np.int32)\n",
        "\n",
        "# Code\n",
        "\n",
        "import numpy as np\n",
        "\n",
        "arr = np.array([1, 2, 3], dtype=np.int32)\n",
        "print(\"Original array:\")\n",
        "print(arr)\n",
        "\n",
        "arr.byteswap(True)\n",
        "print(\"\\nArray after byte swapping:\")\n",
        "print(arr)"
      ],
      "metadata": {
        "colab": {
          "base_uri": "https://localhost:8080/"
        },
        "id": "NWBrSrQ4v-Ds",
        "outputId": "7204e55e-53cc-4557-915b-5cc909c9ddcc"
      },
      "execution_count": 74,
      "outputs": [
        {
          "output_type": "stream",
          "name": "stdout",
          "text": [
            "Original array:\n",
            "[1 2 3]\n",
            "\n",
            "Array after byte swapping:\n",
            "[16777216 33554432 50331648]\n"
          ]
        }
      ]
    },
    {
      "cell_type": "code",
      "source": [
        "# 73. For the given NumPy array, swap its byte order without modifying the original array using `newbyteorder()`.\n",
        "#     arr = np.array ([1, 2, 3], dtype=np.int32)\n",
        "\n",
        "# Code\n",
        "\n",
        "import numpy as np\n",
        "\n",
        "arr = np.array([1, 2, 3], dtype=np.int32)\n",
        "\n",
        "swapped_arr = arr.newbyteorder()\n",
        "\n",
        "print(\"Original array:\", arr)\n",
        "print(\"Array with swapped byte order:\", swapped_arr)\n"
      ],
      "metadata": {
        "colab": {
          "base_uri": "https://localhost:8080/"
        },
        "id": "eahHnb_swYcn",
        "outputId": "c05becee-67c6-4491-8dbb-edd6c6a0e647"
      },
      "execution_count": 75,
      "outputs": [
        {
          "output_type": "stream",
          "name": "stdout",
          "text": [
            "Original array: [1 2 3]\n",
            "Array with swapped byte order: [16777216 33554432 50331648]\n"
          ]
        }
      ]
    },
    {
      "cell_type": "code",
      "source": [
        "# 74. For the given NumPy array and swap its byte order conditionally based on system endianness using `newbyteorder()`.\n",
        "#     arr = np.array ([1, 2, 3], dtype=np.int32)\n",
        "\n",
        "# Code\n",
        "\n",
        "import numpy as np\n",
        "\n",
        "arr = np.array([1, 2, 3], dtype=np.int32)\n",
        "print(\"Original array:\")\n",
        "print(arr)\n",
        "\n",
        "if arr.dtype.byteorder == '<' or (arr.dtype.byteorder == '=' and np.little_endian):\n",
        "    swapped_array = arr.newbyteorder()\n",
        "    print(\"\\nSystem is little-endian. Swapping byte order.\")\n",
        "else:\n",
        "    swapped_array = arr.copy()\n",
        "    print(\"\\nSystem is big-endian. No need to swap byte order.\")\n",
        "\n",
        "print(\"\\nArray after conditional byte swapping:\")\n",
        "print(swapped_array)"
      ],
      "metadata": {
        "colab": {
          "base_uri": "https://localhost:8080/"
        },
        "id": "glBYJCbFw8WH",
        "outputId": "ebd2eed2-c28c-4b0b-891c-aaf56e062323"
      },
      "execution_count": 76,
      "outputs": [
        {
          "output_type": "stream",
          "name": "stdout",
          "text": [
            "Original array:\n",
            "[1 2 3]\n",
            "\n",
            "System is little-endian. Swapping byte order.\n",
            "\n",
            "Array after conditional byte swapping:\n",
            "[16777216 33554432 50331648]\n"
          ]
        }
      ]
    },
    {
      "cell_type": "code",
      "source": [
        "# 75. For the given NumPy array, check if byte swapping is necessary for the current system using`dtype` attribute 'byteorder`.\n",
        "#     arr = np.array ([1, 2, 3], dtype=np.int32)\n",
        "\n",
        "# Code\n",
        "\n",
        "import numpy as np\n",
        "\n",
        "arr = np.array([1, 2, 3], dtype=np.int32)\n",
        "print(\"Original array:\")\n",
        "print(arr)\n",
        "\n",
        "if arr.dtype.byteorder == '<' or (arr.dtype.byteorder == '=' and np.little_endian):\n",
        "    print(\"\\nSystem is little-endian. Byte swapping is necessary.\")\n",
        "else:\n",
        "    print(\"\\nSystem is big-endian. Byte swapping is not necessary.\")"
      ],
      "metadata": {
        "colab": {
          "base_uri": "https://localhost:8080/"
        },
        "id": "DySaasrhxXN_",
        "outputId": "0b3db68a-7ae4-46c1-fd82-908ae8aff162"
      },
      "execution_count": 77,
      "outputs": [
        {
          "output_type": "stream",
          "name": "stdout",
          "text": [
            "Original array:\n",
            "[1 2 3]\n",
            "\n",
            "System is little-endian. Byte swapping is necessary.\n"
          ]
        }
      ]
    },
    {
      "cell_type": "code",
      "source": [
        "# 76. Create a NumPy array `arr1` with values from 1 to 10. Create a copy of `arr1` named `copy_arr` and modify an element in `copy_arr`. Check if modifying `copy_arr` affects `arr1`.\n",
        "\n",
        "# Code\n",
        "\n",
        "import numpy as np\n",
        "arr1 = np.arange(1, 11)\n",
        "\n",
        "copy_arr = arr1.copy()\n",
        "copy_arr[0] = 100\n",
        "\n",
        "print(\"Original arr1:\", arr1)\n",
        "print(\"Modified copy_arr:\", copy_arr)\n"
      ],
      "metadata": {
        "colab": {
          "base_uri": "https://localhost:8080/"
        },
        "id": "lf-1faZixicQ",
        "outputId": "6853628e-8717-4695-8638-f80500f5eeed"
      },
      "execution_count": 78,
      "outputs": [
        {
          "output_type": "stream",
          "name": "stdout",
          "text": [
            "Original arr1: [ 1  2  3  4  5  6  7  8  9 10]\n",
            "Modified copy_arr: [100   2   3   4   5   6   7   8   9  10]\n"
          ]
        }
      ]
    },
    {
      "cell_type": "code",
      "source": [
        "# 77. Create a 2D NumPy array `matrix` of shape (3, 3) with random integers. Extract a slice `view_slice` from  the matrix. Modify an element in `view_slice` and observe if it changes the original `matrix`.\n",
        "\n",
        "# Code\n",
        "\n",
        "import numpy as np\n",
        "\n",
        "matrix = np.random.randint(0, 10, size=(3, 3))\n",
        "view_slice = matrix[:2, :2]\n",
        "\n",
        "print(\"Original matrix:\")\n",
        "print(matrix)\n",
        "\n",
        "print(\"\\nSlice from the original matrix:\")\n",
        "print(view_slice)\n",
        "\n",
        "view_slice[0, 0] = 99\n",
        "\n",
        "print(\"\\nModified slice:\")\n",
        "print(view_slice)\n",
        "\n",
        "print(\"\\nOriginal matrix after modifying the slice:\")\n",
        "print(matrix)\n"
      ],
      "metadata": {
        "colab": {
          "base_uri": "https://localhost:8080/"
        },
        "id": "kbXRrOhdyCb1",
        "outputId": "68a99f50-13c8-408b-d290-1d394aa4621b"
      },
      "execution_count": 79,
      "outputs": [
        {
          "output_type": "stream",
          "name": "stdout",
          "text": [
            "Original matrix:\n",
            "[[2 2 9]\n",
            " [9 2 4]\n",
            " [3 0 5]]\n",
            "\n",
            "Slice from the original matrix:\n",
            "[[2 2]\n",
            " [9 2]]\n",
            "\n",
            "Modified slice:\n",
            "[[99  2]\n",
            " [ 9  2]]\n",
            "\n",
            "Original matrix after modifying the slice:\n",
            "[[99  2  9]\n",
            " [ 9  2  4]\n",
            " [ 3  0  5]]\n"
          ]
        }
      ]
    },
    {
      "cell_type": "code",
      "source": [
        "# 78. Create a NumPy array array_a of shape (4, 3) with sequential integers from 1 to 12. Extract a slice view_b from array_a and broadcast the addition of 5 to view_b. Check if it alters the original array_a.\n",
        "\n",
        "# Code\n",
        "\n",
        "import numpy as np\n",
        "\n",
        "array_a = np.arange(1, 13).reshape(4, 3)\n",
        "print(\"Original array (array_a):\")\n",
        "print(array_a)\n",
        "\n",
        "view_b = array_a[1:3, :]\n",
        "print(\"\\nExtracted slice (view_b):\")\n",
        "print(view_b)\n",
        "\n",
        "view_b += 5\n",
        "print(\"\\nModified slice (view_b) after broadcasting addition of 5:\")\n",
        "print(view_b)\n",
        "\n",
        "print(\"\\nOriginal array (array_a) after modifying the slice:\")\n",
        "print(array_a)"
      ],
      "metadata": {
        "colab": {
          "base_uri": "https://localhost:8080/"
        },
        "id": "lTSoADOsyk4M",
        "outputId": "6b4f2077-83a8-491d-c7ab-f97f1082d412"
      },
      "execution_count": 80,
      "outputs": [
        {
          "output_type": "stream",
          "name": "stdout",
          "text": [
            "Original array (array_a):\n",
            "[[ 1  2  3]\n",
            " [ 4  5  6]\n",
            " [ 7  8  9]\n",
            " [10 11 12]]\n",
            "\n",
            "Extracted slice (view_b):\n",
            "[[4 5 6]\n",
            " [7 8 9]]\n",
            "\n",
            "Modified slice (view_b) after broadcasting addition of 5:\n",
            "[[ 9 10 11]\n",
            " [12 13 14]]\n",
            "\n",
            "Original array (array_a) after modifying the slice:\n",
            "[[ 1  2  3]\n",
            " [ 9 10 11]\n",
            " [12 13 14]\n",
            " [10 11 12]]\n"
          ]
        }
      ]
    },
    {
      "cell_type": "code",
      "source": [
        "# 79. Create a NumPy array `orig_array` of shape (2, 4) with values from 1 to 8. Create a reshaped view `reshaped_view` of shape (4, 2) from orig_array. Modify an element in `reshaped_view` and check if it reflects changes in the original `orig_array`.\n",
        "\n",
        "# Code\n",
        "\n",
        "import numpy as np\n",
        "\n",
        "orig_array = np.arange(1, 9).reshape(2, 4)\n",
        "print(\"Original array (orig_array):\")\n",
        "print(orig_array)\n",
        "\n",
        "reshaped_view = orig_array.reshape(4, 2)\n",
        "print(\"\\nReshaped view (reshaped_view):\")\n",
        "print(reshaped_view)\n",
        "\n",
        "reshaped_view[0, 0] = 999\n",
        "print(\"\\nModified view (reshaped_view):\")\n",
        "print(reshaped_view)\n",
        "\n",
        "print(\"\\nOriginal array after modifying the view:\")\n",
        "print(orig_array)"
      ],
      "metadata": {
        "colab": {
          "base_uri": "https://localhost:8080/"
        },
        "id": "zaEhGd2hzQMK",
        "outputId": "c088e038-052b-42d8-b5da-5ad481f2aa60"
      },
      "execution_count": 81,
      "outputs": [
        {
          "output_type": "stream",
          "name": "stdout",
          "text": [
            "Original array (orig_array):\n",
            "[[1 2 3 4]\n",
            " [5 6 7 8]]\n",
            "\n",
            "Reshaped view (reshaped_view):\n",
            "[[1 2]\n",
            " [3 4]\n",
            " [5 6]\n",
            " [7 8]]\n",
            "\n",
            "Modified view (reshaped_view):\n",
            "[[999   2]\n",
            " [  3   4]\n",
            " [  5   6]\n",
            " [  7   8]]\n",
            "\n",
            "Original array after modifying the view:\n",
            "[[999   2   3   4]\n",
            " [  5   6   7   8]]\n"
          ]
        }
      ]
    },
    {
      "cell_type": "code",
      "source": [
        "# 80. Create a NumPy array data of shape (3, 4) with random integers. Extract a copy data_copy of elements greater than 5. Modify an element in data_copy and verify if it affects the original data.\n",
        "\n",
        "# Code\n",
        "\n",
        "import numpy as np\n",
        "\n",
        "data = np.random.randint(1, 10, size=(3, 4))\n",
        "print(\"Original array (data):\")\n",
        "print(data)\n",
        "\n",
        "data_copy = data[data > 5].copy()\n",
        "print(\"\\nCopy of elements greater than 5 (data_copy):\")\n",
        "print(data_copy)\n",
        "\n",
        "data_copy[0] = 999\n",
        "print(\"\\nModified copy (data_copy):\")\n",
        "print(data_copy)\n",
        "\n",
        "print(\"\\nOriginal array (data) after modifying the copy:\")\n",
        "print(data)"
      ],
      "metadata": {
        "colab": {
          "base_uri": "https://localhost:8080/"
        },
        "id": "kRCY3iwP0GhX",
        "outputId": "517c5576-91a4-4517-a5a2-e0eb1c0de882"
      },
      "execution_count": 82,
      "outputs": [
        {
          "output_type": "stream",
          "name": "stdout",
          "text": [
            "Original array (data):\n",
            "[[6 4 7 1]\n",
            " [6 8 2 2]\n",
            " [7 1 3 8]]\n",
            "\n",
            "Copy of elements greater than 5 (data_copy):\n",
            "[6 7 6 8 7 8]\n",
            "\n",
            "Modified copy (data_copy):\n",
            "[999   7   6   8   7   8]\n",
            "\n",
            "Original array (data) after modifying the copy:\n",
            "[[6 4 7 1]\n",
            " [6 8 2 2]\n",
            " [7 1 3 8]]\n"
          ]
        }
      ]
    },
    {
      "cell_type": "code",
      "source": [
        "# 81. Create two matrices A and B of identical shape containing integers and perform addition and subtraction operations between them.\n",
        "\n",
        "# Code\n",
        "\n",
        "import numpy as np\n",
        "\n",
        "shape = (3, 3)\n",
        "A = np.random.randint(0, 10, shape)\n",
        "B = np.random.randint(0, 10, shape)\n",
        "\n",
        "addition_result = A + B\n",
        "subtraction_result = A - B\n",
        "\n",
        "print(\"Matrix A:\")\n",
        "print(A)\n",
        "print(\"\\nMatrix B:\")\n",
        "print(B)\n",
        "print(\"\\nAddition Result (A + B):\")\n",
        "print(addition_result)\n",
        "print(\"\\nSubtraction Result (A - B):\")\n",
        "print(subtraction_result)\n"
      ],
      "metadata": {
        "colab": {
          "base_uri": "https://localhost:8080/"
        },
        "id": "qngir46V0NIn",
        "outputId": "3635c6e8-75ab-4552-eade-69f04bebf470"
      },
      "execution_count": 83,
      "outputs": [
        {
          "output_type": "stream",
          "name": "stdout",
          "text": [
            "Matrix A:\n",
            "[[2 5 8]\n",
            " [1 3 8]\n",
            " [9 2 4]]\n",
            "\n",
            "Matrix B:\n",
            "[[2 6 8]\n",
            " [5 3 4]\n",
            " [6 8 7]]\n",
            "\n",
            "Addition Result (A + B):\n",
            "[[ 4 11 16]\n",
            " [ 6  6 12]\n",
            " [15 10 11]]\n",
            "\n",
            "Subtraction Result (A - B):\n",
            "[[ 0 -1  0]\n",
            " [-4  0  4]\n",
            " [ 3 -6 -3]]\n"
          ]
        }
      ]
    },
    {
      "cell_type": "code",
      "source": [
        "# 82. Generate two matrices `C` (3x2) and `D` (2x4) and perform matrix multiplication.\n",
        "\n",
        "# Code\n",
        "\n",
        "import numpy as np\n",
        "\n",
        "C = np.random.randint(1, 10, size=(3, 2))\n",
        "D = np.random.randint(1, 10, size=(2, 4))\n",
        "\n",
        "print(\"Matrix C:\")\n",
        "print(C)\n",
        "print(\"\\nMatrix D:\")\n",
        "print(D)\n",
        "\n",
        "result = np.dot(C, D)\n",
        "\n",
        "print(\"\\nResult of matrix multiplication:\")\n",
        "print(result)"
      ],
      "metadata": {
        "colab": {
          "base_uri": "https://localhost:8080/"
        },
        "id": "RohrH8C50tE8",
        "outputId": "5a574d4c-6f76-4711-eeac-d597ee4cb2cc"
      },
      "execution_count": 84,
      "outputs": [
        {
          "output_type": "stream",
          "name": "stdout",
          "text": [
            "Matrix C:\n",
            "[[9 5]\n",
            " [6 4]\n",
            " [2 5]]\n",
            "\n",
            "Matrix D:\n",
            "[[6 6 3 4]\n",
            " [9 4 2 7]]\n",
            "\n",
            "Result of matrix multiplication:\n",
            "[[99 74 37 71]\n",
            " [72 52 26 52]\n",
            " [57 32 16 43]]\n"
          ]
        }
      ]
    },
    {
      "cell_type": "code",
      "source": [
        "# 83. Create a matrix E and find its transpose.\n",
        "\n",
        "# Code\n",
        "\n",
        "import numpy as np\n",
        "\n",
        "E = np.array([[1, 2, 3],\n",
        "              [4, 5, 6],\n",
        "              [7, 8, 9]])\n",
        "\n",
        "print(\"Matrix E:\")\n",
        "print(E)\n",
        "\n",
        "E_T = E.T\n",
        "\n",
        "print(\"Transpose of matrix E:\")\n",
        "print(E_T)"
      ],
      "metadata": {
        "colab": {
          "base_uri": "https://localhost:8080/"
        },
        "id": "OmSaoodm1MYn",
        "outputId": "5e0d31be-9c5b-467c-e6fa-4523bea402a5"
      },
      "execution_count": 85,
      "outputs": [
        {
          "output_type": "stream",
          "name": "stdout",
          "text": [
            "Matrix E:\n",
            "[[1 2 3]\n",
            " [4 5 6]\n",
            " [7 8 9]]\n",
            "Transpose of matrix E:\n",
            "[[1 4 7]\n",
            " [2 5 8]\n",
            " [3 6 9]]\n"
          ]
        }
      ]
    },
    {
      "cell_type": "code",
      "source": [
        "# 84. Generate a square matrix `F` and compute its determinant.\n",
        "\n",
        "# Code\n",
        "\n",
        "import numpy as np\n",
        "\n",
        "size = 4\n",
        "F = np.random.randint(0, 10, (size, size))\n",
        "\n",
        "determinant_F = np.linalg.det(F)\n",
        "\n",
        "print(\"Matrix F:\")\n",
        "print(F)\n",
        "print(\"\\nDeterminant of F:\", determinant_F)\n"
      ],
      "metadata": {
        "colab": {
          "base_uri": "https://localhost:8080/"
        },
        "id": "mJh-xoUL1a6f",
        "outputId": "1240fa8e-1fd1-4cad-c492-3ff8c9bc5e37"
      },
      "execution_count": 86,
      "outputs": [
        {
          "output_type": "stream",
          "name": "stdout",
          "text": [
            "Matrix F:\n",
            "[[2 1 7 5]\n",
            " [3 1 2 3]\n",
            " [6 8 0 4]\n",
            " [1 0 1 4]]\n",
            "\n",
            "Determinant of F: 299.99999999999994\n"
          ]
        }
      ]
    },
    {
      "cell_type": "code",
      "source": [
        "# 85. Create a square matrix `G` and find its inverse.\n",
        "\n",
        "# Code\n",
        "\n",
        "import numpy as np\n",
        "\n",
        "G = np.random.randint(1, 10, size=(3, 3))\n",
        "print(\"Matrix G:\")\n",
        "print(G)\n",
        "\n",
        "inverse_G = np.linalg.inv(G)\n",
        "\n",
        "print(\"\\nInverse of matrix G:\")\n",
        "print(inverse_G)\n"
      ],
      "metadata": {
        "colab": {
          "base_uri": "https://localhost:8080/"
        },
        "id": "SYXSAqQJ114V",
        "outputId": "30d0656b-008b-4ade-d79e-c2b7e28208df"
      },
      "execution_count": 87,
      "outputs": [
        {
          "output_type": "stream",
          "name": "stdout",
          "text": [
            "Matrix G:\n",
            "[[8 4 1]\n",
            " [8 8 6]\n",
            " [9 5 1]]\n",
            "\n",
            "Inverse of matrix G:\n",
            "[[ 0.91666667 -0.04166667 -0.66666667]\n",
            " [-1.91666667  0.04166667  1.66666667]\n",
            " [ 1.33333333  0.16666667 -1.33333333]]\n"
          ]
        }
      ]
    }
  ]
}