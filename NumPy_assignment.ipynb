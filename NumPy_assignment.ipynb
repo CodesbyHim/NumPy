{
  "nbformat": 4,
  "nbformat_minor": 0,
  "metadata": {
    "colab": {
      "provenance": [],
      "authorship_tag": "ABX9TyNo0Iks7lOEwXZhRlRi95Hl",
      "include_colab_link": true
    },
    "kernelspec": {
      "name": "python3",
      "display_name": "Python 3"
    },
    "language_info": {
      "name": "python"
    }
  },
  "cells": [
    {
      "cell_type": "markdown",
      "metadata": {
        "id": "view-in-github",
        "colab_type": "text"
      },
      "source": [
        "<a href=\"https://colab.research.google.com/github/CodesbyHim/Numpy/blob/main/NumPy_assignment.ipynb\" target=\"_parent\"><img src=\"https://colab.research.google.com/assets/colab-badge.svg\" alt=\"Open In Colab\"/></a>"
      ]
    },
    {
      "cell_type": "code",
      "execution_count": 2,
      "metadata": {
        "id": "wDc6HptzLdH9",
        "colab": {
          "base_uri": "https://localhost:8080/"
        },
        "outputId": "6fc5dd6a-9466-455b-923b-e6bf66c680b8"
      },
      "outputs": [
        {
          "output_type": "stream",
          "name": "stdout",
          "text": [
            "Array: [0 1 2 3 4 5]\n",
            "Data type:  int64\n"
          ]
        }
      ],
      "source": [
        "# 1. Create a NumPy array 'arr' of integers from 0 to 5 and print its data type.\n",
        "\n",
        "# Code\n",
        "\n",
        "import numpy as np\n",
        "arr=np.arange(6)\n",
        "print(\"Array:\",arr)\n",
        "print(\"Data type: \", arr.dtype)"
      ]
    },
    {
      "cell_type": "code",
      "source": [
        "# 2. Given a NumPy array 'arr', check if its data type is float64.\n",
        "#    arr = np.array([1.5, 2.6, 3.7])\n",
        "\n",
        "# Code\n",
        "\n",
        "import numpy as np\n",
        "arr = np.array([1.5, 2.6, 3.7])\n",
        "\n",
        "is_float64 = arr.dtype == np.float64\n",
        "print(\"Is the data type float64?\", is_float64)"
      ],
      "metadata": {
        "colab": {
          "base_uri": "https://localhost:8080/"
        },
        "id": "4g4QSY3XRJdI",
        "outputId": "824c053c-6d54-490e-e4c7-008127c96de7"
      },
      "execution_count": 3,
      "outputs": [
        {
          "output_type": "stream",
          "name": "stdout",
          "text": [
            "Is the data type float64? True\n"
          ]
        }
      ]
    },
    {
      "cell_type": "code",
      "source": [
        "#  3. Create a NumPy array 'arr' with a data type of complex128 containing three complex numbers\n",
        "\n",
        "# Code\n",
        "\n",
        "import numpy as np\n",
        "complex_num=[2+3j,9+4j,1+2j]\n",
        "arr=np.array(complex_num,dtype=np.complex128)\n",
        "\n",
        "print(\"Array\",arr)\n",
        "print(\"Data type:\",arr.dtype)"
      ],
      "metadata": {
        "colab": {
          "base_uri": "https://localhost:8080/"
        },
        "id": "K1KYQrluRX4L",
        "outputId": "8f2e281f-17dc-49e1-c311-0f63270a224a"
      },
      "execution_count": 4,
      "outputs": [
        {
          "output_type": "stream",
          "name": "stdout",
          "text": [
            "Array [2.+3.j 9.+4.j 1.+2.j]\n",
            "Data type: complex128\n"
          ]
        }
      ]
    },
    {
      "cell_type": "code",
      "source": [
        "# 4. Convert an existing NumPy array 'arr' of integers to float32 data type.\n",
        "\n",
        "# Code\n",
        "\n",
        "import numpy as np\n",
        "\n",
        "arr = np.array([1, 2, 3, 4])\n",
        "arr_float32 = arr.astype('float32')\n",
        "\n",
        "print(arr_float32.dtype)"
      ],
      "metadata": {
        "colab": {
          "base_uri": "https://localhost:8080/"
        },
        "id": "PRncoHdWSLoI",
        "outputId": "d725b6c2-b5dc-4c68-c239-47360861d7c1"
      },
      "execution_count": 5,
      "outputs": [
        {
          "output_type": "stream",
          "name": "stdout",
          "text": [
            "float32\n"
          ]
        }
      ]
    },
    {
      "cell_type": "code",
      "source": [
        "#  5. Given a NumPy array 'arr' with float64 data type, convert it to float32 to reduce decimal precision.\n",
        "\n",
        "# Code\n",
        "\n",
        "import numpy as np\n",
        "\n",
        "arr = np.array([1.123456789, 2.987654321, 3.141592653], dtype='float64')\n",
        "\n",
        "print(\"Original array data type:\", arr.dtype)\n",
        "arr_float32 = arr.astype('float32')\n",
        "\n",
        "print(\"Converted array data type:\", arr_float32.dtype)"
      ],
      "metadata": {
        "colab": {
          "base_uri": "https://localhost:8080/"
        },
        "id": "UUw4l1AoS0v_",
        "outputId": "4a676cb1-abe0-45c3-96de-e4de39e35118"
      },
      "execution_count": 6,
      "outputs": [
        {
          "output_type": "stream",
          "name": "stdout",
          "text": [
            "Original array data type: float64\n",
            "Converted array data type: float32\n"
          ]
        }
      ]
    },
    {
      "cell_type": "code",
      "source": [
        "#  6. Write a function array_attributes that takes a NumPy array as input and returns its shape, size, and data type.\n",
        "\n",
        "#  Code\n",
        "\n",
        "import numpy as np\n",
        "\n",
        "def array_attributes(arr):\n",
        "    size=np.shape(arr)\n",
        "    shape=np.size(arr)\n",
        "    data_type = arr.dtype\n",
        "    return size,shape,data_type\n",
        "arr=np.array([1,2,3,4,5])\n",
        "size,shape,data_type=array_attributes(arr)\n",
        "print(\"shape:\",shape)\n",
        "print(\"size:\",size)\n",
        "print(\"data type:\",data_type)\n"
      ],
      "metadata": {
        "colab": {
          "base_uri": "https://localhost:8080/"
        },
        "id": "OS-ES1VSTVG8",
        "outputId": "f1bf12f3-d597-422a-a406-59fe56a03427"
      },
      "execution_count": 7,
      "outputs": [
        {
          "output_type": "stream",
          "name": "stdout",
          "text": [
            "shape: 5\n",
            "size: (5,)\n",
            "data type: int64\n"
          ]
        }
      ]
    },
    {
      "cell_type": "code",
      "source": [
        "# 7. Create a function array_dimension that takes a NumPy array as input and returns its dimensionality.\n",
        "\n",
        "# Code\n",
        "\n",
        "import numpy as np\n",
        "\n",
        "def array_dimension (arr):\n",
        "    dimension =arr.ndim\n",
        "    return dimension\n",
        "arr=np.array([[1,2,3],[4,5,6]])\n",
        "dimension =array_dimension(arr)\n",
        "print(\"Dimensionality:\",dimension)\n"
      ],
      "metadata": {
        "colab": {
          "base_uri": "https://localhost:8080/"
        },
        "id": "gvUtH0nOVdTo",
        "outputId": "c2a86c8e-6cc6-46ec-9214-0ff423bc9aa4"
      },
      "execution_count": 8,
      "outputs": [
        {
          "output_type": "stream",
          "name": "stdout",
          "text": [
            "Dimensionality: 2\n"
          ]
        }
      ]
    },
    {
      "cell_type": "code",
      "source": [
        "# 8. Design a function item_size_info that takes a NumPy array as input and returns the item size and the total size in bytes.\n",
        "\n",
        "# Code\n",
        "\n",
        "import numpy as np\n",
        "\n",
        "def item_size_info(arr):\n",
        "    if isinstance(arr, np.ndarray):\n",
        "        item_size = arr.itemsize\n",
        "        total_size = arr.nbytes\n",
        "        print(f\"Item size: {item_size} bytes\")\n",
        "        print(f\"Total size: {total_size} bytes\")\n",
        "    else:\n",
        "        print(\"Invalid input. Please provide a NumPy array.\")\n",
        "\n",
        "arr = np.array([1, 2, 3, 4, 5])\n",
        "item_size_info(arr)\n"
      ],
      "metadata": {
        "colab": {
          "base_uri": "https://localhost:8080/"
        },
        "id": "ERvEqbP6WNtE",
        "outputId": "c6e2a6e2-487e-4037-f506-7dac0cc62a6a"
      },
      "execution_count": 9,
      "outputs": [
        {
          "output_type": "stream",
          "name": "stdout",
          "text": [
            "Item size: 8 bytes\n",
            "Total size: 40 bytes\n"
          ]
        }
      ]
    },
    {
      "cell_type": "code",
      "source": [
        "# 9. Create a function array_strides that takes a NumPy array as input and returns the strides of the array.\n",
        "\n",
        "# Code\n",
        "\n",
        "import numpy as np\n",
        "\n",
        "def array_strides(input_array):\n",
        "    if isinstance(input_array, np.ndarray):\n",
        "        return input_array.strides\n",
        "    else:\n",
        "        raise ValueError(\"Input is not a NumPy array\")\n",
        "\n",
        "my_array = np.array([[1, 2, 3], [4, 5, 6], [7, 8, 9]])\n",
        "print(array_strides(my_array))"
      ],
      "metadata": {
        "colab": {
          "base_uri": "https://localhost:8080/"
        },
        "id": "6eUjrjGAXCgt",
        "outputId": "c0cedb6f-f30c-4faa-bce0-623a9a237a3d"
      },
      "execution_count": 10,
      "outputs": [
        {
          "output_type": "stream",
          "name": "stdout",
          "text": [
            "(24, 8)\n"
          ]
        }
      ]
    },
    {
      "cell_type": "code",
      "source": [
        "# 10. Design a function shape_stride_relationship that takes a NumPy array as input and returns the shape and strides of the array.\n",
        "\n",
        "# Code\n",
        "\n",
        "import numpy as np\n",
        "\n",
        "def array_strides(input_array):\n",
        "    if isinstance(input_array, np.ndarray):\n",
        "        return input_array.strides\n",
        "    else:\n",
        "        raise ValueError(\"Input is not a NumPy array\")\n",
        "\n",
        "my_array = np.array([[1, 2, 3], [4, 5, 6]])\n",
        "print(\"My array:\")\n",
        "print(my_array)\n",
        "print(\"\\nStrides of my array:\")\n",
        "print(array_strides(my_array))"
      ],
      "metadata": {
        "colab": {
          "base_uri": "https://localhost:8080/"
        },
        "id": "KAVjqFzVXVo6",
        "outputId": "38a79424-9aa2-47f4-c9b2-cdce7324ed9e"
      },
      "execution_count": 11,
      "outputs": [
        {
          "output_type": "stream",
          "name": "stdout",
          "text": [
            "My array:\n",
            "[[1 2 3]\n",
            " [4 5 6]]\n",
            "\n",
            "Strides of my array:\n",
            "(24, 8)\n"
          ]
        }
      ]
    },
    {
      "cell_type": "code",
      "source": [
        "#  11. Create a function `create_zeros_array` that takes an integer `n` as input and returns a NumPy array of zeros with `n` elements.\n",
        "\n",
        "# Code\n",
        "\n",
        "import numpy as np\n",
        "\n",
        "def create_zeros_array(n):\n",
        "\n",
        "    return np.zeros(n)\n",
        "\n",
        "print(create_zeros_array(int(input())))"
      ],
      "metadata": {
        "colab": {
          "base_uri": "https://localhost:8080/"
        },
        "id": "3A0ompdcXi00",
        "outputId": "8371f164-1481-4235-b13c-6a9175207f68"
      },
      "execution_count": 12,
      "outputs": [
        {
          "output_type": "stream",
          "name": "stdout",
          "text": [
            "6\n",
            "[0. 0. 0. 0. 0. 0.]\n"
          ]
        }
      ]
    },
    {
      "cell_type": "code",
      "source": [
        "#  12. Write a function `create_ones_matrix` that takes integers `rows` and `cols` as inputs and generates a 2D NumPy array filled with ones of size `rows x cols`\n",
        "\n",
        "# Code\n",
        "\n",
        "import numpy as np\n",
        "\n",
        "def create_ones_matrix(rows, cols):\n",
        "    return np.ones((rows, cols))\n",
        "\n",
        "rows = 2\n",
        "cols = 3\n",
        "ones_matrix = create_ones_matrix(rows, cols)\n",
        "print(ones_matrix)\n"
      ],
      "metadata": {
        "colab": {
          "base_uri": "https://localhost:8080/"
        },
        "id": "OaEeRiMEXtme",
        "outputId": "cff4367e-665b-4ecd-e7e0-636222a392d2"
      },
      "execution_count": 13,
      "outputs": [
        {
          "output_type": "stream",
          "name": "stdout",
          "text": [
            "[[1. 1. 1.]\n",
            " [1. 1. 1.]]\n"
          ]
        }
      ]
    },
    {
      "cell_type": "code",
      "source": [
        "#  13. Write a function `generate_range_array` that takes three integers start, stop, and step as arguments and creates a NumPy array with a range starting from `start`, ending at stop (exclusive), and with the specified step`.\n",
        "\n",
        "# Code\n",
        "\n",
        "import numpy as np\n",
        "\n",
        "def generate_range_array(start, stop, step):\n",
        "    return np.arange(start, stop, step)\n",
        "\n",
        "start = 0\n",
        "stop = 10\n",
        "step = 2\n",
        "range_array = generate_range_array(start, stop, step)\n",
        "print(range_array)\n"
      ],
      "metadata": {
        "colab": {
          "base_uri": "https://localhost:8080/"
        },
        "id": "XVhckjIFX_sQ",
        "outputId": "8d2f9228-7ab5-41fe-e052-deb3a0a218d8"
      },
      "execution_count": 14,
      "outputs": [
        {
          "output_type": "stream",
          "name": "stdout",
          "text": [
            "[0 2 4 6 8]\n"
          ]
        }
      ]
    },
    {
      "cell_type": "code",
      "source": [
        "#  14. Design a function `generate_linear_space` that takes two floats `start`, `stop`, and an integer `num` as  arguments and generates a NumPy array with num equally spaced values between `start` and `stop` (inclusive).\n",
        "\n",
        "# Code\n",
        "\n",
        "import numpy as np\n",
        "\n",
        "def generate_linear_space(start, stop, num):\n",
        "    return np.linspace(start, stop, num)\n",
        "\n",
        "# Example usage:\n",
        "start = 0.0\n",
        "stop = 1.0\n",
        "num = 5\n",
        "linear_space = generate_linear_space(start, stop, num)\n",
        "print(linear_space)"
      ],
      "metadata": {
        "colab": {
          "base_uri": "https://localhost:8080/"
        },
        "id": "DmpNhA-4YMPf",
        "outputId": "6af473dd-c898-4eef-88ad-4ded6603f0d1"
      },
      "execution_count": 15,
      "outputs": [
        {
          "output_type": "stream",
          "name": "stdout",
          "text": [
            "[0.   0.25 0.5  0.75 1.  ]\n"
          ]
        }
      ]
    },
    {
      "cell_type": "code",
      "source": [
        "#  15. Create a function `create_identity_matrix` that takes an integer `n` as input and generates a square identity matrix of size `n x n` using `numpy.eye`.\n",
        "\n",
        "#  Code\n",
        "\n",
        "import numpy as np\n",
        "\n",
        "def create_identity_matrix(n):\n",
        "    return np.eye(n)\n",
        "\n",
        "n = 3\n",
        "identity_matrix = create_identity_matrix(n)\n",
        "print(identity_matrix)"
      ],
      "metadata": {
        "colab": {
          "base_uri": "https://localhost:8080/"
        },
        "id": "LpeuF5gAYPCs",
        "outputId": "11b778f7-5fad-4e1f-c0bc-020d7edd6a47"
      },
      "execution_count": 16,
      "outputs": [
        {
          "output_type": "stream",
          "name": "stdout",
          "text": [
            "[[1. 0. 0.]\n",
            " [0. 1. 0.]\n",
            " [0. 0. 1.]]\n"
          ]
        }
      ]
    },
    {
      "cell_type": "code",
      "source": [
        "#  16. Write a function that takes a Python list and converts it into a NumPy array.\n",
        "\n",
        "#  Code\n",
        "\n",
        "import numpy as np\n",
        "\n",
        "def list_to_numpy_array(lst):\n",
        "    return np.array(lst)\n",
        "\n",
        "lst = [1, 2, 3]\n",
        "numpy_array = list_to_numpy_array(lst)\n",
        "print(numpy_array)"
      ],
      "metadata": {
        "colab": {
          "base_uri": "https://localhost:8080/"
        },
        "id": "MJE9GErJYaf-",
        "outputId": "cd124e3f-e723-4883-91ae-5f2721398350"
      },
      "execution_count": 17,
      "outputs": [
        {
          "output_type": "stream",
          "name": "stdout",
          "text": [
            "[1 2 3]\n"
          ]
        }
      ]
    },
    {
      "cell_type": "code",
      "source": [
        "#  17. Create a NumPy array and demonstrate the use of `numpy.view` to create a new array object with the same data.\n",
        "\n",
        "#  Code\n",
        "\n",
        "import numpy as np\n",
        "\n",
        "arr = np.array([1, 2, 3, 4, 5])\n",
        "\n",
        "new_arr = arr.view()\n",
        "\n",
        "print(\"Original array:\")\n",
        "print(arr)\n",
        "print(\"\\nNew array:\")\n",
        "print(new_arr)\n",
        "\n",
        "new_arr[0] = 10\n",
        "print(\"\\nOriginal array after modifying new array:\")\n",
        "print(arr)"
      ],
      "metadata": {
        "colab": {
          "base_uri": "https://localhost:8080/"
        },
        "id": "LtOyzuF7Yi3N",
        "outputId": "ac329ae1-7301-41e3-a182-c0dc2b651163"
      },
      "execution_count": 18,
      "outputs": [
        {
          "output_type": "stream",
          "name": "stdout",
          "text": [
            "Original array:\n",
            "[1 2 3 4 5]\n",
            "\n",
            "New array:\n",
            "[1 2 3 4 5]\n",
            "\n",
            "Original array after modifying new array:\n",
            "[10  2  3  4  5]\n"
          ]
        }
      ]
    },
    {
      "cell_type": "code",
      "source": [
        "#  18. Write a function that takes two NumPy arrays and concatenates them along a specified axis.\n",
        "\n",
        "#      Code\n",
        "\n",
        "import numpy as np\n",
        "\n",
        "def concatenate_arrays(array1, array2, axis=0):\n",
        "    return np.concatenate((array1, array2), axis=axis)\n",
        "\n",
        "array1 = np.array([[1, 2], [3, 4]])\n",
        "array2 = np.array([[5, 6]])\n",
        "\n",
        "result = concatenate_arrays(array1, array2, axis=0)\n",
        "print(\"Concatenated along axis 0:\")\n",
        "print(result)\n",
        "\n",
        "result = concatenate_arrays(array1, array2.T, axis=1)\n",
        "print(\"\\nConcatenated along axis 1:\")\n",
        "print(result)\n"
      ],
      "metadata": {
        "colab": {
          "base_uri": "https://localhost:8080/"
        },
        "id": "Pj79XrCAZGho",
        "outputId": "6d5e47cf-6fde-4180-e9b4-22393a7a7f3d"
      },
      "execution_count": 19,
      "outputs": [
        {
          "output_type": "stream",
          "name": "stdout",
          "text": [
            "Concatenated along axis 0:\n",
            "[[1 2]\n",
            " [3 4]\n",
            " [5 6]]\n",
            "\n",
            "Concatenated along axis 1:\n",
            "[[1 2 5]\n",
            " [3 4 6]]\n"
          ]
        }
      ]
    },
    {
      "cell_type": "code",
      "source": [
        "# 19.  Create two NumPy arrays with different shapes and concatenate them horizontally using `numpy.concatenate`.\n",
        "\n",
        "# Code\n",
        "\n",
        "import numpy as np\n",
        "\n",
        "array1 = np.array([[1, 2, 3], [4, 5, 6]])\n",
        "array2 = np.array([[7, 8], [9, 10]])\n",
        "\n",
        "array2_extended = np.concatenate((array2, np.zeros((array2.shape[0], 1))), axis=1)\n",
        "\n",
        "result = np.concatenate((array1, array2_extended), axis=1)\n",
        "\n",
        "print(result)"
      ],
      "metadata": {
        "colab": {
          "base_uri": "https://localhost:8080/"
        },
        "id": "crrdqHmuY3rp",
        "outputId": "a17c80d3-6ef0-49ed-d866-fbae9b2c7f20"
      },
      "execution_count": 20,
      "outputs": [
        {
          "output_type": "stream",
          "name": "stdout",
          "text": [
            "[[ 1.  2.  3.  7.  8.  0.]\n",
            " [ 4.  5.  6.  9. 10.  0.]]\n"
          ]
        }
      ]
    },
    {
      "cell_type": "code",
      "source": [
        "# 20. Write a function that vertically stacks multiple NumPy arrays given as a list.\n",
        "\n",
        "# Code\n",
        "\n",
        "import numpy as np\n",
        "\n",
        "def stack_arrays_vertically(arrays_list):\n",
        "\n",
        "    stacked_array = np.vstack(arrays_list)\n",
        "    return stacked_array\n",
        "\n",
        "array1 = np.array([1, 2, 3])\n",
        "array2 = np.array([4, 5, 6])\n",
        "array3 = np.array([7, 8, 9])\n",
        "\n",
        "stacked_array = stack_arrays_vertically([array1, array2, array3])\n",
        "print(stacked_array)"
      ],
      "metadata": {
        "colab": {
          "base_uri": "https://localhost:8080/"
        },
        "id": "GR8rWg9yY61h",
        "outputId": "3f1b6a41-ee9b-49db-f411-6ac50c317764"
      },
      "execution_count": 21,
      "outputs": [
        {
          "output_type": "stream",
          "name": "stdout",
          "text": [
            "[[1 2 3]\n",
            " [4 5 6]\n",
            " [7 8 9]]\n"
          ]
        }
      ]
    },
    {
      "cell_type": "code",
      "source": [
        "#  21. Write a Python function using NumPy to create an array of integers within a specified range (inclusive)  with a given step size.\n",
        "\n",
        "#  Code\n",
        "\n",
        "import numpy as np\n",
        "\n",
        "def create_integer_array(start, end, step=1):\n",
        "\n",
        "    if step == 0:\n",
        "        raise ValueError(\"Step size cannot be zero.\")\n",
        "\n",
        "    integer_array = np.arange(start, end + 1, step)\n",
        "    return integer_array\n",
        "integer_array = create_integer_array(0, 10, 2)\n",
        "print(integer_array)"
      ],
      "metadata": {
        "colab": {
          "base_uri": "https://localhost:8080/"
        },
        "id": "fUs-_GblaWhk",
        "outputId": "2516eda3-ece0-4cf8-98e6-86fd3c981fd1"
      },
      "execution_count": 22,
      "outputs": [
        {
          "output_type": "stream",
          "name": "stdout",
          "text": [
            "[ 0  2  4  6  8 10]\n"
          ]
        }
      ]
    },
    {
      "cell_type": "code",
      "source": [
        "# 22. Write a Python function using NumPy to generate an array of 10 equally spaced values between 0 and 1 (inclusive).\n",
        "\n",
        "#     Code\n",
        "\n",
        "import numpy as np\n",
        "\n",
        "def generate_equally_spaced_values(start, end, num_values):\n",
        "\n",
        "    if num_values <= 0:\n",
        "        raise ValueError(\"Number of values must be greater than zero.\")\n",
        "\n",
        "    equally_spaced_values = np.linspace(start, end, num_values)\n",
        "    return equally_spaced_values\n",
        "\n",
        "equally_spaced_values = generate_equally_spaced_values(0, 1, 10)\n",
        "print(equally_spaced_values)"
      ],
      "metadata": {
        "colab": {
          "base_uri": "https://localhost:8080/"
        },
        "id": "x4FT5cbJaraf",
        "outputId": "3d3163d3-596c-4e9d-8144-54f142a253ee"
      },
      "execution_count": 23,
      "outputs": [
        {
          "output_type": "stream",
          "name": "stdout",
          "text": [
            "[0.         0.11111111 0.22222222 0.33333333 0.44444444 0.55555556\n",
            " 0.66666667 0.77777778 0.88888889 1.        ]\n"
          ]
        }
      ]
    },
    {
      "cell_type": "code",
      "source": [
        "#  23. Write a Python function using NumPy to create an array of 5 logarithmically spaced values between 1 and 1000 (inclusive).\n",
        "\n",
        "#    Code\n",
        "\n",
        "import numpy as np\n",
        "\n",
        "def generate_log_array():\n",
        "    return np.logspace(1, 3, 5, endpoint=True)\n",
        "print(generate_log_array())"
      ],
      "metadata": {
        "colab": {
          "base_uri": "https://localhost:8080/"
        },
        "id": "lE8B2zyoa1zP",
        "outputId": "7287d7f2-3322-4a2d-8f72-80a6c4f79b18"
      },
      "execution_count": 24,
      "outputs": [
        {
          "output_type": "stream",
          "name": "stdout",
          "text": [
            "[  10.           31.6227766   100.          316.22776602 1000.        ]\n"
          ]
        }
      ]
    },
    {
      "cell_type": "code",
      "source": [
        "# 24. Create a Pandas DataFrame using a NumPy array that contains 5 rows and 3 columns, where the values are random integers between 1 and 100.\n",
        "\n",
        "# Code\n",
        "\n",
        "import numpy as np\n",
        "import pandas as pd\n",
        "\n",
        "np_array = np.random.randint(1, 101, size=(5, 3))\n",
        "\n",
        "print(\"NumPy Array:\")\n",
        "print(np_array)\n",
        "\n",
        "df = pd.DataFrame(np_array, columns=['Column_1', 'Column_2', 'Column_3'])\n",
        "\n",
        "print(\"\\nPandas DataFrame:\")\n",
        "print(df)"
      ],
      "metadata": {
        "colab": {
          "base_uri": "https://localhost:8080/"
        },
        "id": "n5mhBCCPbAV3",
        "outputId": "c20db9c0-bd9a-4138-f823-4a0dfc966bd2"
      },
      "execution_count": 25,
      "outputs": [
        {
          "output_type": "stream",
          "name": "stdout",
          "text": [
            "NumPy Array:\n",
            "[[20 28 21]\n",
            " [84 14 85]\n",
            " [88 14 70]\n",
            " [67  7 48]\n",
            " [90 12 56]]\n",
            "\n",
            "Pandas DataFrame:\n",
            "   Column_1  Column_2  Column_3\n",
            "0        20        28        21\n",
            "1        84        14        85\n",
            "2        88        14        70\n",
            "3        67         7        48\n",
            "4        90        12        56\n"
          ]
        }
      ]
    },
    {
      "cell_type": "code",
      "source": [
        "# 25. Write a function that takes a Pandas DataFrame and replaces all negative values in a specific columnwith zeros. Use NumPy operations within the Pandas DataFrame.\n",
        "\n",
        "# Code\n",
        "\n",
        "import pandas as pd\n",
        "import numpy as np\n",
        "\n",
        "def replace_negative_with_zeros(dataframe, column):\n",
        "\n",
        "    dataframe[column] = np.where(dataframe[column] < 0, 0, dataframe[column])\n",
        "    return dataframe\n",
        "\n",
        "# Example usage\n",
        "data = {'A': [-1, 2, -3, 4],\n",
        "        'B': [5, -6, 7, -8]}\n",
        "df = pd.DataFrame(data)\n",
        "\n",
        "print(\"Original DataFrame:\")\n",
        "print(df)\n",
        "\n",
        "df = replace_negative_with_zeros(df, 'A')\n",
        "\n",
        "print(\"\\nDataFrame with negative values replaced by zeros:\")\n",
        "print(df)\n",
        "\n"
      ],
      "metadata": {
        "colab": {
          "base_uri": "https://localhost:8080/"
        },
        "id": "3EhMX-SvbUKk",
        "outputId": "cff7e0f2-28fe-44ec-d76c-c3dfd545726e"
      },
      "execution_count": 26,
      "outputs": [
        {
          "output_type": "stream",
          "name": "stdout",
          "text": [
            "Original DataFrame:\n",
            "   A  B\n",
            "0 -1  5\n",
            "1  2 -6\n",
            "2 -3  7\n",
            "3  4 -8\n",
            "\n",
            "DataFrame with negative values replaced by zeros:\n",
            "   A  B\n",
            "0  0  5\n",
            "1  2 -6\n",
            "2  0  7\n",
            "3  4 -8\n"
          ]
        }
      ]
    },
    {
      "cell_type": "code",
      "source": [
        "# 26. Access the 3rd element from the given NumPy array.\n",
        "# arr = np.array([10, 20, 30, 40, 50])\n",
        "\n",
        "# Code\n",
        "\n",
        "import numpy as np\n",
        "\n",
        "arr = np.array([10, 20, 30, 40, 50])\n",
        "third_element = arr[2]\n",
        "print(\"The third element of the array is:\", third_element)\n"
      ],
      "metadata": {
        "colab": {
          "base_uri": "https://localhost:8080/"
        },
        "id": "TU6wSs-sb5kU",
        "outputId": "a9e345e4-dcea-4a35-bd83-7c177baafe37"
      },
      "execution_count": 27,
      "outputs": [
        {
          "output_type": "stream",
          "name": "stdout",
          "text": [
            "The third element of the array is: 30\n"
          ]
        }
      ]
    },
    {
      "cell_type": "code",
      "source": [
        "# 27. Retrieve the element at index (1, 2) from the 2D NumPy array.\n",
        "\n",
        "# Code\n",
        "\n",
        "import numpy as np\n",
        "\n",
        "arr_2d = np.array([[1, 2, 3],\n",
        "                   [4, 5, 6],\n",
        "                   [7, 8, 9]])\n",
        "\n",
        "element_at_1_2 = arr_2d[1, 2]\n",
        "print(\"Element at index (1, 2) is:\", element_at_1_2)\n"
      ],
      "metadata": {
        "colab": {
          "base_uri": "https://localhost:8080/"
        },
        "id": "I5Q2ev0pcCS9",
        "outputId": "d42ade48-b149-47ea-da40-d3891f4f5188"
      },
      "execution_count": 28,
      "outputs": [
        {
          "output_type": "stream",
          "name": "stdout",
          "text": [
            "Element at index (1, 2) is: 6\n"
          ]
        }
      ]
    },
    {
      "cell_type": "code",
      "source": [
        "# 28. Using boolean indexing, extract elements greater than 5 from the given NumPy array.\n",
        "# arr = np.array([3, 8, 2, 10, 5, 7])\n",
        "\n",
        "# Code\n",
        "\n",
        "import numpy as np\n",
        "\n",
        "arr = np.array([3, 8, 2, 10, 5, 7])\n",
        "mask = arr > 5\n",
        "\n",
        "result = arr[mask]\n",
        "\n",
        "print(\"Elements greater than 5:\", result)"
      ],
      "metadata": {
        "colab": {
          "base_uri": "https://localhost:8080/"
        },
        "id": "XZOjMdpPcXdz",
        "outputId": "ba59a200-56e3-4f97-f018-c16947ec1387"
      },
      "execution_count": 29,
      "outputs": [
        {
          "output_type": "stream",
          "name": "stdout",
          "text": [
            "Elements greater than 5: [ 8 10  7]\n"
          ]
        }
      ]
    },
    {
      "cell_type": "code",
      "source": [
        "# 29. Perform basic slicing to extract elements from index 2 to 5 (inclusive) from the given NumPy array.\n",
        "# arr = np.array([1, 2, 3, 4, 5, 6, 7, 8, 9])\n",
        "\n",
        "# Code\n",
        "\n",
        "import numpy as np\n",
        "\n",
        "arr = np.array([1, 2, 3, 4, 5, 6, 7, 8, 9])\n",
        "\n",
        "sliced_arr = arr[2:6]\n",
        "print(\"The elements from index 2 to 5 (inclusive) from the array are:\", sliced_arr)"
      ],
      "metadata": {
        "colab": {
          "base_uri": "https://localhost:8080/"
        },
        "id": "4shTxkQGeocw",
        "outputId": "89af0f6a-956a-44f5-ed68-0e6be00e5dfb"
      },
      "execution_count": 30,
      "outputs": [
        {
          "output_type": "stream",
          "name": "stdout",
          "text": [
            "The elements from index 2 to 5 (inclusive) from the array are: [3 4 5 6]\n"
          ]
        }
      ]
    },
    {
      "cell_type": "code",
      "source": [
        "# 30. Slice the 2D NumPy array to extract the sub-array `[[2, 3], [5, 6]]` from the given array.\n",
        "# arr_2d = np.array([[1, 2, 3],\n",
        "                   # [4, 5, 6],\n",
        "                   # [7, 8, 9]])\n",
        "\n",
        "# Code\n",
        "\n",
        "import numpy as np\n",
        "arr_2d = np.array([[1, 2, 3],\n",
        "                    [4, 5, 6],\n",
        "                    [7, 8, 9]])\n",
        "\n",
        "sub_arr = arr_2d[1:, :2]\n",
        "print(\"The extracted sub-array is:\\n\", sub_arr)"
      ],
      "metadata": {
        "colab": {
          "base_uri": "https://localhost:8080/"
        },
        "id": "6EQ0YH1nexC2",
        "outputId": "e94ec4ae-3ccf-4794-d0b2-591f2c240c12"
      },
      "execution_count": 31,
      "outputs": [
        {
          "output_type": "stream",
          "name": "stdout",
          "text": [
            "The extracted sub-array is:\n",
            " [[4 5]\n",
            " [7 8]]\n"
          ]
        }
      ]
    },
    {
      "cell_type": "code",
      "source": [
        "# 31.Write a NumPy function to extract elements in specific order from a given 2D array based on indices provided in another array.\n",
        "\n",
        "# Code\n",
        "\n",
        "import numpy as np\n",
        "\n",
        "def extract_elements(arr_2d, indices):\n",
        "    extracted_elements = arr_2d[tuple(indices.T.tolist())]\n",
        "    return extracted_elements\n",
        "\n",
        "arr_2d = np.array([[1, 2, 3],\n",
        "                    [4, 5, 6],\n",
        "                    [7, 8, 9]])\n",
        "\n",
        "indices = np.array([[0, 0],\n",
        "                      [1, 2],\n",
        "                      [2, 1]])\n",
        "\n",
        "extracted_elements = extract_elements(arr_2d, indices)\n",
        "\n",
        "print(\"The extracted elements in the specified order are:\", extracted_elements)"
      ],
      "metadata": {
        "colab": {
          "base_uri": "https://localhost:8080/"
        },
        "id": "bPTze9bne6QE",
        "outputId": "32427a9d-ad65-4a59-eaf0-201425455d43"
      },
      "execution_count": 32,
      "outputs": [
        {
          "output_type": "stream",
          "name": "stdout",
          "text": [
            "The extracted elements in the specified order are: [1 6 8]\n"
          ]
        }
      ]
    },
    {
      "cell_type": "code",
      "source": [
        "# 32. Create a NumPy function that filters elements greater than a threshold from a given 1D array using boolean indexing.\n",
        "\n",
        "# Code\n",
        "\n",
        "import numpy as np\n",
        "\n",
        "def filter_greater_than(arr, threshold):\n",
        "\n",
        "    filtered_arr = arr[arr > threshold]\n",
        "\n",
        "    return filtered_arr\n",
        "arr = np.array([1, 2, 3, 4, 5, 6, 7, 8, 9])\n",
        "\n",
        "filtered_arr = filter_greater_than(arr, 5)\n",
        "\n",
        "print(\"The elements greater than 5 are:\", filtered_arr)"
      ],
      "metadata": {
        "colab": {
          "base_uri": "https://localhost:8080/"
        },
        "id": "ryeNE49GfEO3",
        "outputId": "7f13d68e-3c1d-45fe-af03-c3e18db7eed1"
      },
      "execution_count": 33,
      "outputs": [
        {
          "output_type": "stream",
          "name": "stdout",
          "text": [
            "The elements greater than 5 are: [6 7 8 9]\n"
          ]
        }
      ]
    },
    {
      "cell_type": "code",
      "source": [
        "# 33. Develop a NumPy function that extracts specific elements from a 3D array using indices provided in three separate arrays for each dimension.\n",
        "\n",
        "# Code\n",
        "\n",
        "import numpy as np\n",
        "\n",
        "def extract_elements_3d(array, x_indices, y_indices, z_indices):\n",
        "    return array[x_indices, y_indices, z_indices]\n",
        "\n",
        "array_3d = np.random.randint(1, 100, size=(4, 4, 4))\n",
        "print(\"Original 3D array:\")\n",
        "print(array_3d)\n",
        "\n",
        "x_indices = np.array([0, 1, 2])\n",
        "y_indices = np.array([1, 2, 3])\n",
        "z_indices = np.array([3, 0, 1])\n",
        "\n",
        "extracted_elements = extract_elements_3d(array_3d, x_indices, y_indices, z_indices)\n",
        "print(\"\\nExtracted elements:\")\n",
        "print(extracted_elements)"
      ],
      "metadata": {
        "colab": {
          "base_uri": "https://localhost:8080/"
        },
        "id": "-WEnMYI0fLeN",
        "outputId": "7c05cf10-4325-46a5-8279-02eda941f49a"
      },
      "execution_count": 34,
      "outputs": [
        {
          "output_type": "stream",
          "name": "stdout",
          "text": [
            "Original 3D array:\n",
            "[[[ 8 19  3 11]\n",
            "  [79 39 36 64]\n",
            "  [ 3 79 78 12]\n",
            "  [12 28 42 73]]\n",
            "\n",
            " [[10  6  6 32]\n",
            "  [78  3 89 69]\n",
            "  [93 40 52 57]\n",
            "  [42 71 43 67]]\n",
            "\n",
            " [[34 45 91 97]\n",
            "  [90 17  9  2]\n",
            "  [33  8 37 87]\n",
            "  [10 13 66 82]]\n",
            "\n",
            " [[48  4 77 13]\n",
            "  [44 61 54 84]\n",
            "  [79 84 45 56]\n",
            "  [62 64 24 72]]]\n",
            "\n",
            "Extracted elements:\n",
            "[64 93 13]\n"
          ]
        }
      ]
    },
    {
      "cell_type": "code",
      "source": [
        "# 34. Write a NumPy function that returns elements from an array where both two conditions are satisfied using boolean indexing.\n",
        "\n",
        "# Code\n",
        "\n",
        "import numpy as np\n",
        "\n",
        "def filter_two_conditions(arr, condition1, condition2):\n",
        "    filtered_arr = arr[(condition1) & (condition2)]\n",
        "    return filtered_arr\n",
        "\n",
        "arr = np.array([1, 2, 3, 4, 5, 6, 7, 8, 9])\n",
        "condition1 = (arr > 3)\n",
        "condition2 = (arr % 2 == 0)\n",
        "filtered_arr = filter_two_conditions(arr, condition1, condition2)\n",
        "print(\"The elements greater than 3 and even are:\", filtered_arr)"
      ],
      "metadata": {
        "colab": {
          "base_uri": "https://localhost:8080/"
        },
        "id": "uNBFWkYMfUwy",
        "outputId": "5563d4c8-5031-4f3c-ac07-d8dfacb02ea9"
      },
      "execution_count": 35,
      "outputs": [
        {
          "output_type": "stream",
          "name": "stdout",
          "text": [
            "The elements greater than 3 and even are: [4 6 8]\n"
          ]
        }
      ]
    },
    {
      "cell_type": "code",
      "source": [
        "# 35. Create a NumPy function that extracts elements from a 2D array using row and column indices provided in separate arrays.\n",
        "\n",
        "# Code\n",
        "\n",
        "import numpy as np\n",
        "\n",
        "def extract_elements_2d(arr, row_indices, col_indices):\n",
        "    extracted_elements = arr[row_indices, col_indices]\n",
        "    return extracted_elements\n",
        "\n",
        "arr = np.array([[1, 2, 3],\n",
        "                [4, 5, 6],\n",
        "                [7, 8, 9]])\n",
        "row_indices = np.array([0, 1, 2])\n",
        "col_indices = np.array([2, 1, 0])\n",
        "extracted_elements = extract_elements_2d(arr, row_indices, col_indices)\n",
        "print(\"The extracted elements are:\", extracted_elements)"
      ],
      "metadata": {
        "colab": {
          "base_uri": "https://localhost:8080/"
        },
        "id": "1gGvK7xFfcSZ",
        "outputId": "e9433f09-a4bd-44ad-d6e6-28b193b13d97"
      },
      "execution_count": 36,
      "outputs": [
        {
          "output_type": "stream",
          "name": "stdout",
          "text": [
            "The extracted elements are: [3 5 7]\n"
          ]
        }
      ]
    },
    {
      "cell_type": "code",
      "source": [
        "# 36. Given an array arr of shape (3, 3), add a scalar value of 5 to each element using NumPy broadcasting.\n",
        "\n",
        "# Code\n",
        "\n",
        "import numpy as np\n",
        "\n",
        "arr = np.array([[1, 2, 3],\n",
        "                [4, 5, 6],\n",
        "                [7, 8, 9]])\n",
        "\n",
        "result = arr + 5\n",
        "\n",
        "print(\"The array after adding 5 to each element is:\")\n",
        "print(result)"
      ],
      "metadata": {
        "id": "wjqXyJnffeB2",
        "colab": {
          "base_uri": "https://localhost:8080/"
        },
        "outputId": "c1f6e921-6a66-49eb-88f3-ee1eb37e7f39"
      },
      "execution_count": 37,
      "outputs": [
        {
          "output_type": "stream",
          "name": "stdout",
          "text": [
            "The array after adding 5 to each element is:\n",
            "[[ 6  7  8]\n",
            " [ 9 10 11]\n",
            " [12 13 14]]\n"
          ]
        }
      ]
    },
    {
      "cell_type": "code",
      "source": [
        "# 37. Consider two arrays arr1 of shape (1, 3) and arr2 of shape (3, 4). Multiply each row of arr2 by the corresponding element in arr1 using NumPy broadcasting.\n",
        "\n",
        "# Code\n",
        "\n",
        "import numpy as np\n",
        "\n",
        "arr1 = np.array([[2, 3, 4]])\n",
        "arr2 = np.array([\n",
        "    [1, 2, 3, 4],\n",
        "    [5, 6, 7, 8],\n",
        "    [9, 10, 11, 12]\n",
        "])\n",
        "\n",
        "print(\"Array arr1:\")\n",
        "print(arr1)\n",
        "print(\"\\nArray arr2:\")\n",
        "print(arr2)\n",
        "\n",
        "result = arr2 * arr1.T\n",
        "\n",
        "print(\"\\nResult of broadcasting multiplication:\")\n",
        "print(result)"
      ],
      "metadata": {
        "colab": {
          "base_uri": "https://localhost:8080/"
        },
        "id": "pX3-eK_5fqZ1",
        "outputId": "c6ab8977-9ace-46be-c6a6-eebceee3178f"
      },
      "execution_count": 38,
      "outputs": [
        {
          "output_type": "stream",
          "name": "stdout",
          "text": [
            "Array arr1:\n",
            "[[2 3 4]]\n",
            "\n",
            "Array arr2:\n",
            "[[ 1  2  3  4]\n",
            " [ 5  6  7  8]\n",
            " [ 9 10 11 12]]\n",
            "\n",
            "Result of broadcasting multiplication:\n",
            "[[ 2  4  6  8]\n",
            " [15 18 21 24]\n",
            " [36 40 44 48]]\n"
          ]
        }
      ]
    },
    {
      "cell_type": "code",
      "source": [
        "# 38. Given a 1D array arr1 of shape (1, 4) and a 2D array arr2 of shape (4, 3), add arr1 to each row of arr2 using NumPy broadcasting.\n",
        "\n",
        "# Code\n",
        "\n",
        "import numpy as np\n",
        "\n",
        "arr1 = np.array([[2, 3, 4]])\n",
        "arr2 = np.array([\n",
        "    [1, 2, 3, 4],\n",
        "    [5, 6, 7, 8],\n",
        "    [9, 10, 11, 12]\n",
        "])\n",
        "\n",
        "print(\"Array arr1:\")\n",
        "print(arr1)\n",
        "print(\"\\nArray arr2:\")\n",
        "print(arr2)\n",
        "\n",
        "result = arr2 * arr1.T\n",
        "\n",
        "print(\"\\nResult of broadcasting multiplication:\")\n",
        "print(result)"
      ],
      "metadata": {
        "colab": {
          "base_uri": "https://localhost:8080/"
        },
        "id": "cbG7moX5fvzZ",
        "outputId": "53f7ecaf-820a-43ee-cb42-dbb61251d4d7"
      },
      "execution_count": 39,
      "outputs": [
        {
          "output_type": "stream",
          "name": "stdout",
          "text": [
            "Array arr1:\n",
            "[[2 3 4]]\n",
            "\n",
            "Array arr2:\n",
            "[[ 1  2  3  4]\n",
            " [ 5  6  7  8]\n",
            " [ 9 10 11 12]]\n",
            "\n",
            "Result of broadcasting multiplication:\n",
            "[[ 2  4  6  8]\n",
            " [15 18 21 24]\n",
            " [36 40 44 48]]\n"
          ]
        }
      ]
    },
    {
      "cell_type": "code",
      "source": [
        "# 39. Consider two arrays arr1 of shape (3, 1) and arr2 of shape (1, 3). Add these arrays using NumPy broadcasting.\n",
        "\n",
        "# Code\n",
        "\n",
        "import numpy as np\n",
        "\n",
        "arr1 = np.array([[1],\n",
        "                [2],\n",
        "                [3]])\n",
        "arr2 = np.array([[4, 5, 6]])\n",
        "\n",
        "result = arr1 + arr2\n",
        "\n",
        "print(\"The resulting array after adding arr1 and arr2 is:\")\n",
        "print(result)"
      ],
      "metadata": {
        "colab": {
          "base_uri": "https://localhost:8080/"
        },
        "id": "cvfbkHIff2XA",
        "outputId": "aab82b58-7ee2-4911-841b-83e353bc679d"
      },
      "execution_count": 40,
      "outputs": [
        {
          "output_type": "stream",
          "name": "stdout",
          "text": [
            "The resulting array after adding arr1 and arr2 is:\n",
            "[[5 6 7]\n",
            " [6 7 8]\n",
            " [7 8 9]]\n"
          ]
        }
      ]
    },
    {
      "cell_type": "code",
      "source": [
        "# 40. Given arrays arr1 of shape (2, 3) and arr2 of shape (2, 2), perform multiplication using NumPy broadcasting. Handle the shape incompatibility.\n",
        "\n",
        "# Code\n",
        "\n",
        "import numpy as np\n",
        "\n",
        "arr1 = np.array([\n",
        "    [1, 2, 3],\n",
        "    [4, 5, 6]\n",
        "])\n",
        "\n",
        "arr2 = np.array([\n",
        "    [7, 8],\n",
        "    [9, 10]\n",
        "])\n",
        "\n",
        "print(\"Array arr1:\")\n",
        "print(arr1)\n",
        "print(\"\\nArray arr2:\")\n",
        "print(arr2)\n",
        "\n",
        "arr2_expanded = np.expand_dims(arr2, axis=2)\n",
        "arr1_expanded = np.expand_dims(arr1, axis=1)\n",
        "\n",
        "result = arr1_expanded * arr2_expanded\n",
        "\n",
        "print(\"\\nResult of broadcasting multiplication:\")\n",
        "print(result)"
      ],
      "metadata": {
        "colab": {
          "base_uri": "https://localhost:8080/"
        },
        "id": "Mn1fUJcLf8lh",
        "outputId": "407faa43-682d-4ce8-ba46-736e3ea759b9"
      },
      "execution_count": 41,
      "outputs": [
        {
          "output_type": "stream",
          "name": "stdout",
          "text": [
            "Array arr1:\n",
            "[[1 2 3]\n",
            " [4 5 6]]\n",
            "\n",
            "Array arr2:\n",
            "[[ 7  8]\n",
            " [ 9 10]]\n",
            "\n",
            "Result of broadcasting multiplication:\n",
            "[[[ 7 14 21]\n",
            "  [ 8 16 24]]\n",
            "\n",
            " [[36 45 54]\n",
            "  [40 50 60]]]\n"
          ]
        }
      ]
    },
    {
      "cell_type": "code",
      "source": [
        "# 41. Calculate column wise mean for the given array:\n",
        "# arr = np.array([[1, 2, 3], [4, 5, 6]])\n",
        "\n",
        "# Code\n",
        "\n",
        "import numpy as np\n",
        "\n",
        "arr = np.array([[1, 2, 3],\n",
        "                [4, 5, 6]])\n",
        "\n",
        "# Calculate column wise mean\n",
        "col_mean = np.mean(arr, axis=0)\n",
        "\n",
        "print(\"The column wise mean of the array is:\")\n",
        "print(col_mean)"
      ],
      "metadata": {
        "colab": {
          "base_uri": "https://localhost:8080/"
        },
        "id": "zrsc5NfUgDUY",
        "outputId": "f5496b0d-c731-492a-fd43-be1ee5306839"
      },
      "execution_count": 42,
      "outputs": [
        {
          "output_type": "stream",
          "name": "stdout",
          "text": [
            "The column wise mean of the array is:\n",
            "[2.5 3.5 4.5]\n"
          ]
        }
      ]
    },
    {
      "cell_type": "code",
      "source": [
        "# 42. Find maximum value in each row of the given array:\n",
        "# arr = np.array([[1, 2, 3], [4, 5, 6]])\n",
        "\n",
        "# Code\n",
        "\n",
        "import numpy as np\n",
        "\n",
        "arr = np.array([[1, 2, 3],\n",
        "                [4, 5, 6]])\n",
        "\n",
        "row_max = np.max(arr, axis=1)\n",
        "\n",
        "print(\"The maximum value in each row of the array is:\")\n",
        "print(row_max)"
      ],
      "metadata": {
        "colab": {
          "base_uri": "https://localhost:8080/"
        },
        "id": "fuZh2jPhgQWg",
        "outputId": "60bfc689-72ca-4ef5-e2a8-453dced7afc8"
      },
      "execution_count": 43,
      "outputs": [
        {
          "output_type": "stream",
          "name": "stdout",
          "text": [
            "The maximum value in each row of the array is:\n",
            "[3 6]\n"
          ]
        }
      ]
    },
    {
      "cell_type": "code",
      "source": [
        "# 43. For the given array, find indices of maximum value in each column.\n",
        "# arr = np.array([[1, 2, 3], [4, 5, 6]])\n",
        "\n",
        "# Code\n",
        "\n",
        "import numpy as np\n",
        "\n",
        "arr = np.array([[1, 2, 3],\n",
        "                [4, 5, 6]])\n",
        "\n",
        "# Find indices of maximum value in each column\n",
        "col_max_indices = np.argmax(arr, axis=0)\n",
        "\n",
        "print(\"The indices of the maximum value in each column of the array are:\")\n",
        "print(col_max_indices)"
      ],
      "metadata": {
        "colab": {
          "base_uri": "https://localhost:8080/"
        },
        "id": "c_CyE242gYEv",
        "outputId": "a89dfb87-01f9-4cca-ed68-16e9816279f8"
      },
      "execution_count": 44,
      "outputs": [
        {
          "output_type": "stream",
          "name": "stdout",
          "text": [
            "The indices of the maximum value in each column of the array are:\n",
            "[1 1 1]\n"
          ]
        }
      ]
    },
    {
      "cell_type": "code",
      "source": [
        "# 44. For the given array, apply custom function to calculate moving sum along rows.\n",
        "# arr = np.array([[1, 2, 3], [4, 5, 6]])\n",
        "\n",
        "# Code\n",
        "\n",
        "import numpy as np\n",
        "\n",
        "def moving_sum(arr, window_size=2):\n",
        "    result = np.zeros((arr.shape[0], arr.shape[1] - window_size + 1))\n",
        "    for i in range(arr.shape[1] - window_size + 1):\n",
        "        result[:, i] = np.sum(arr[:, i:i+window_size], axis=1)\n",
        "    return result\n",
        "\n",
        "arr = np.array([[1, 2, 3], [4, 5, 6]])\n",
        "print(\"Original array:\")\n",
        "print(arr)\n",
        "\n",
        "result = moving_sum(arr, window_size=2)\n",
        "print(\"\\nMoving sum along rows with window size 2:\")\n",
        "print(result)"
      ],
      "metadata": {
        "colab": {
          "base_uri": "https://localhost:8080/"
        },
        "id": "-x73E2BmgoK9",
        "outputId": "ba782975-e2d7-4c77-d689-2f6b01672246"
      },
      "execution_count": 45,
      "outputs": [
        {
          "output_type": "stream",
          "name": "stdout",
          "text": [
            "Original array:\n",
            "[[1 2 3]\n",
            " [4 5 6]]\n",
            "\n",
            "Moving sum along rows with window size 2:\n",
            "[[ 3.  5.]\n",
            " [ 9. 11.]]\n"
          ]
        }
      ]
    },
    {
      "cell_type": "code",
      "source": [
        "# 45. In the given array, check if all elements in each column are even.\n",
        "# arr = np.array([[2, 4, 6], [3, 5, 7]])\n",
        "\n",
        "# Code\n",
        "\n",
        "import numpy as np\n",
        "\n",
        "arr = np.array([[2, 4, 6],\n",
        "                [3, 5, 7]])\n",
        "\n",
        "is_even = np.all(arr % 2 == 0, axis=0)\n",
        "\n",
        "print(\"The result of checking if all elements in each column are even is:\")\n",
        "print(is_even)"
      ],
      "metadata": {
        "colab": {
          "base_uri": "https://localhost:8080/"
        },
        "id": "V603zwQbgwmp",
        "outputId": "e3440446-ab02-4682-8055-572198d558f6"
      },
      "execution_count": 46,
      "outputs": [
        {
          "output_type": "stream",
          "name": "stdout",
          "text": [
            "The result of checking if all elements in each column are even is:\n",
            "[False False False]\n"
          ]
        }
      ]
    },
    {
      "cell_type": "code",
      "source": [
        "# 46. Given a NumPy array arr, reshape it into a matrix of dimensions m rows and n columns. Return the reshaped matrix.\n",
        "# original_array = np.array([1, 2, 3, 4, 5, 6])\n",
        "\n",
        "# Code\n",
        "\n",
        "import numpy as np\n",
        "\n",
        "def reshape_matrix(arr, m, n):\n",
        "\n",
        "    reshaped_matrix = np.reshape(arr, (m, n))\n",
        "\n",
        "    return reshaped_matrix\n",
        "\n",
        "original_array = np.array([1, 2, 3, 4, 5, 6])\n",
        "\n",
        "reshaped_matrix = reshape_matrix(original_array, 2, 3)\n",
        "\n",
        "print(\"The reshaped matrix is:\")\n",
        "print(reshaped_matrix)"
      ],
      "metadata": {
        "colab": {
          "base_uri": "https://localhost:8080/"
        },
        "id": "pzSDCsUngx9U",
        "outputId": "d7a6e630-629b-428e-9a42-8276521edd4e"
      },
      "execution_count": 47,
      "outputs": [
        {
          "output_type": "stream",
          "name": "stdout",
          "text": [
            "The reshaped matrix is:\n",
            "[[1 2 3]\n",
            " [4 5 6]]\n"
          ]
        }
      ]
    },
    {
      "cell_type": "code",
      "source": [
        "# 47. Create a function that takes a matrix as input and returns the flattened array.\n",
        "# input_matrix = np.array([[1, 2, 3], [4, 5, 6]])\n",
        "\n",
        "# Code\n",
        "\n",
        "import numpy as np\n",
        "\n",
        "def flatten_matrix(matrix):\n",
        "\n",
        "    flattened_array = np.ravel(matrix)\n",
        "\n",
        "    return flattened_array\n",
        "\n",
        "input_matrix = np.array([[1, 2, 3],\n",
        "                          [4, 5, 6]])\n",
        "\n",
        "flattened_array = flatten_matrix(input_matrix)\n",
        "\n",
        "print(\"The flattened array is:\")\n",
        "print(flattened_array)"
      ],
      "metadata": {
        "colab": {
          "base_uri": "https://localhost:8080/"
        },
        "id": "oB0s9GaThcb7",
        "outputId": "15d89c69-706f-4020-e4e1-7a791579b8d9"
      },
      "execution_count": 48,
      "outputs": [
        {
          "output_type": "stream",
          "name": "stdout",
          "text": [
            "The flattened array is:\n",
            "[1 2 3 4 5 6]\n"
          ]
        }
      ]
    },
    {
      "cell_type": "code",
      "source": [
        "# 48. Write a function that concatenates two given arrays along a specified axis.\n",
        "# array1 = np.array([[1, 2], [3, 4]])\n",
        "# array2 = np.array([[5, 6], [7, 8]])\n",
        "\n",
        "# Code\n",
        "\n",
        "import numpy as np\n",
        "\n",
        "def concatenate_arrays(array1, array2, axis=0):\n",
        "\n",
        "    output_array = np.concatenate((array1, array2), axis=axis)\n",
        "    return output_array\n",
        "\n",
        "array1 = np.array([[1, 2],\n",
        "                      [3, 4]])\n",
        "\n",
        "array2 = np.array([[5, 6],\n",
        "                      [7, 8]])\n",
        "output_array = concatenate_arrays(array1, array2)\n",
        "\n",
        "print(\"The output array after concatenation along the default axis (axis=0) is:\")\n",
        "print(output_array)\n",
        "\n",
        "output_array = concatenate_arrays(array1, array2, axis=1)\n",
        "\n",
        "print(\"The output array after concatenation along the other axis (axis=1) is:\")\n",
        "print(output_array)"
      ],
      "metadata": {
        "colab": {
          "base_uri": "https://localhost:8080/"
        },
        "id": "Wexus3pphwvK",
        "outputId": "a7dcacd2-5ae8-4fde-a7ed-6ba3382521fa"
      },
      "execution_count": 49,
      "outputs": [
        {
          "output_type": "stream",
          "name": "stdout",
          "text": [
            "The output array after concatenation along the default axis (axis=0) is:\n",
            "[[1 2]\n",
            " [3 4]\n",
            " [5 6]\n",
            " [7 8]]\n",
            "The output array after concatenation along the other axis (axis=1) is:\n",
            "[[1 2 5 6]\n",
            " [3 4 7 8]]\n"
          ]
        }
      ]
    },
    {
      "cell_type": "code",
      "source": [
        "# 49. Create a function that splits an array into multiple sub-arrays along a specified axis.\n",
        "#     original_array = np.array([[1, 2, 3], [4, 5, 6], [7, 8, 9]])\n",
        "\n",
        "# Code\n",
        "\n",
        "import numpy as np\n",
        "\n",
        "def split_array(arr, num_splits, axis=0):\n",
        "\n",
        "    return np.array_split(arr, num_splits, axis=axis)\n",
        "\n",
        "original_array = np.array([[1, 2, 3], [4, 5, 6], [7, 8, 9]])\n",
        "print(\"Original array:\")\n",
        "print(original_array)\n",
        "\n",
        "sub_arrays_axis_0 = split_array(original_array, 3, axis=0)\n",
        "print(\"\\nSplit array along axis 0:\")\n",
        "for i, sub_array in enumerate(sub_arrays_axis_0):\n",
        "    print(f\"Sub-array {i}:\\n{sub_array}\")\n",
        "\n",
        "sub_arrays_axis_1 = split_array(original_array, 3, axis=1)\n",
        "print(\"\\nSplit array along axis 1:\")\n",
        "for i, sub_array in enumerate(sub_arrays_axis_1):\n",
        "    print(f\"Sub-array {i}:\\n{sub_array}\")"
      ],
      "metadata": {
        "colab": {
          "base_uri": "https://localhost:8080/"
        },
        "id": "25WMm7_oiE5K",
        "outputId": "f82111fc-89e0-486b-c5ea-a8ed1976ef8c"
      },
      "execution_count": 50,
      "outputs": [
        {
          "output_type": "stream",
          "name": "stdout",
          "text": [
            "Original array:\n",
            "[[1 2 3]\n",
            " [4 5 6]\n",
            " [7 8 9]]\n",
            "\n",
            "Split array along axis 0:\n",
            "Sub-array 0:\n",
            "[[1 2 3]]\n",
            "Sub-array 1:\n",
            "[[4 5 6]]\n",
            "Sub-array 2:\n",
            "[[7 8 9]]\n",
            "\n",
            "Split array along axis 1:\n",
            "Sub-array 0:\n",
            "[[1]\n",
            " [4]\n",
            " [7]]\n",
            "Sub-array 1:\n",
            "[[2]\n",
            " [5]\n",
            " [8]]\n",
            "Sub-array 2:\n",
            "[[3]\n",
            " [6]\n",
            " [9]]\n"
          ]
        }
      ]
    },
    {
      "cell_type": "code",
      "source": [
        "# 50. Write a function that inserts and then deletes elements from a given array at specified indices.\n",
        "#     original_array = np.array([1, 2, 3, 4, 5])\n",
        "#     indices_to_insert = [2, 4]\n",
        "#     values_to_insert = [10, 11]\n",
        "#     indices_to_delete = [1, 3]\n",
        "\n",
        "# Code\n",
        "\n",
        "import numpy as np\n",
        "\n",
        "def insert_and_delete_elements(arr, indices_to_insert, values_to_insert, indices_to_delete):\n",
        "\n",
        "    modified_array = np.insert(arr, indices_to_insert, values_to_insert)\n",
        "\n",
        "    modified_array = np.delete(modified_array, indices_to_delete)\n",
        "\n",
        "    return modified_array\n",
        "\n",
        "original_array = np.array([1, 2, 3, 4, 5])\n",
        "indices_to_insert = [2, 4]\n",
        "values_to_insert = [10, 11]\n",
        "indices_to_delete = [1, 3]\n",
        "\n",
        "print(\"Original array:\")\n",
        "print(original_array)\n",
        "\n",
        "result = insert_and_delete_elements(original_array, indices_to_insert, values_to_insert, indices_to_delete)\n",
        "print(\"\\nModified array after insertion and deletion:\")\n",
        "print(result)"
      ],
      "metadata": {
        "colab": {
          "base_uri": "https://localhost:8080/"
        },
        "id": "UiktaVe-if65",
        "outputId": "ffca1d93-ea30-4153-c529-48eee0b0b3f1"
      },
      "execution_count": 51,
      "outputs": [
        {
          "output_type": "stream",
          "name": "stdout",
          "text": [
            "Original array:\n",
            "[1 2 3 4 5]\n",
            "\n",
            "Modified array after insertion and deletion:\n",
            "[ 1 10  4 11  5]\n"
          ]
        }
      ]
    },
    {
      "cell_type": "code",
      "source": [
        "# 51. Create a NumPy array arr1 with random integers and another array arr2 with integers from 1 to 10. Perform element-wise addition between arr1 and arr2.\n",
        "\n",
        "# Code\n",
        "\n",
        "import numpy as np\n",
        "\n",
        "arr1 = np.random.randint(1, 100, size=10)\n",
        "print(\"Array arr1:\")\n",
        "print(arr1)\n",
        "\n",
        "arr2 = np.arange(1, 11)\n",
        "print(\"\\nArray arr2:\")\n",
        "print(arr2)\n",
        "\n",
        "result = arr1 + arr2\n",
        "print(\"\\nResult of element-wise addition:\")\n",
        "print(result)"
      ],
      "metadata": {
        "colab": {
          "base_uri": "https://localhost:8080/"
        },
        "id": "7Jse4Z5SiycH",
        "outputId": "67c6f93e-98fd-4f5a-efd5-b04753faa532"
      },
      "execution_count": 52,
      "outputs": [
        {
          "output_type": "stream",
          "name": "stdout",
          "text": [
            "Array arr1:\n",
            "[39 73 15 37 40 15 78 41 47 38]\n",
            "\n",
            "Array arr2:\n",
            "[ 1  2  3  4  5  6  7  8  9 10]\n",
            "\n",
            "Result of element-wise addition:\n",
            "[40 75 18 41 45 21 85 49 56 48]\n"
          ]
        }
      ]
    },
    {
      "cell_type": "code",
      "source": [
        "# 52. Generate a NumPy array arr1 with sequential integers from 10 to 1 and another array arr2 with integers from 1 to 10. Subtract arr2 from arr1 element-wise.\n",
        "\n",
        "# Code\n",
        "\n",
        "import numpy as np\n",
        "\n",
        "arr1 = np.arange(10, 0, -1)\n",
        "arr2 = np.arange(1, 11)\n",
        "result = arr1 - arr2\n",
        "\n",
        "print(\"Array arr1: \", arr1)\n",
        "print(\"Array arr2: \", arr2)\n",
        "print(\"Result array: \", result)"
      ],
      "metadata": {
        "colab": {
          "base_uri": "https://localhost:8080/"
        },
        "id": "swGly9oljrI2",
        "outputId": "6969787c-8c48-4fd4-b344-ad2a96062da3"
      },
      "execution_count": 53,
      "outputs": [
        {
          "output_type": "stream",
          "name": "stdout",
          "text": [
            "Array arr1:  [10  9  8  7  6  5  4  3  2  1]\n",
            "Array arr2:  [ 1  2  3  4  5  6  7  8  9 10]\n",
            "Result array:  [ 9  7  5  3  1 -1 -3 -5 -7 -9]\n"
          ]
        }
      ]
    },
    {
      "cell_type": "code",
      "source": [
        "# 53. Create a NumPy array arr1 with random integers and another array arr2 with integers from 1 to 5. Perform element-wise multiplication between arr1 and arr2.\n",
        "\n",
        "# Code\n",
        "\n",
        "import numpy as np\n",
        "\n",
        "arr1 = np.random.randint(1, 10, size=(5,))\n",
        "arr2 = np.arange(1, 6)\n",
        "result = arr1 * arr2[:, np.newaxis]\n",
        "\n",
        "print(\"Array arr1: \", arr1)\n",
        "print(\"Array arr2: \", arr2)\n",
        "print(\"Result array: \", result)"
      ],
      "metadata": {
        "colab": {
          "base_uri": "https://localhost:8080/"
        },
        "id": "Sq5P6jLJj0KN",
        "outputId": "93bb6f84-ddad-4103-acfa-100672c3f2bb"
      },
      "execution_count": 54,
      "outputs": [
        {
          "output_type": "stream",
          "name": "stdout",
          "text": [
            "Array arr1:  [9 7 4 3 9]\n",
            "Array arr2:  [1 2 3 4 5]\n",
            "Result array:  [[ 9  7  4  3  9]\n",
            " [18 14  8  6 18]\n",
            " [27 21 12  9 27]\n",
            " [36 28 16 12 36]\n",
            " [45 35 20 15 45]]\n"
          ]
        }
      ]
    },
    {
      "cell_type": "code",
      "source": [
        "# 54. Generate a NumPy array arr1 with even integers from 2 to 10 and another array arr2 with integers from 1 to 5. Perform element-wise division of arr1 by arr2.\n",
        "\n",
        "# Code\n",
        "\n",
        "import numpy as np\n",
        "\n",
        "arr1 = np.arange(2, 12, 2)\n",
        "arr2 = np.arange(1, 6)\n",
        "\n",
        "result = arr1 / arr2[:, np.newaxis]\n",
        "\n",
        "print(\"Array arr1: \", arr1)\n",
        "print(\"Array arr2: \", arr2)\n",
        "print(\"Result array: \", result)"
      ],
      "metadata": {
        "colab": {
          "base_uri": "https://localhost:8080/"
        },
        "id": "ayTjrl2Uj9NV",
        "outputId": "d1ea23ad-7376-43a8-831a-2acec3ac3474"
      },
      "execution_count": 55,
      "outputs": [
        {
          "output_type": "stream",
          "name": "stdout",
          "text": [
            "Array arr1:  [ 2  4  6  8 10]\n",
            "Array arr2:  [1 2 3 4 5]\n",
            "Result array:  [[ 2.          4.          6.          8.         10.        ]\n",
            " [ 1.          2.          3.          4.          5.        ]\n",
            " [ 0.66666667  1.33333333  2.          2.66666667  3.33333333]\n",
            " [ 0.5         1.          1.5         2.          2.5       ]\n",
            " [ 0.4         0.8         1.2         1.6         2.        ]]\n"
          ]
        }
      ]
    },
    {
      "cell_type": "code",
      "source": [
        "# 55. Create a NumPy array arr1 with integers from 1 to 5 and another array arr2 with the same numbers reversed. Calculate the exponentiation of arr1 raised to the power of arr2 element-wise.\n",
        "\n",
        "# Code\n",
        "\n",
        "import numpy as np\n",
        "\n",
        "arr1 = np.array([1, 2, 3, 4, 5])\n",
        "arr2 = np.array([5, 4, 3, 2, 1])\n",
        "\n",
        "result = np.power(arr1, arr2)\n",
        "\n",
        "print(\"Array arr1: \", arr1)\n",
        "print(\"Array arr2: \", arr2)\n",
        "print(\"Result array: \", result)"
      ],
      "metadata": {
        "colab": {
          "base_uri": "https://localhost:8080/"
        },
        "id": "MImrBN8pkCtA",
        "outputId": "6007b213-05f0-4cd6-a9a3-e8b6df193258"
      },
      "execution_count": 56,
      "outputs": [
        {
          "output_type": "stream",
          "name": "stdout",
          "text": [
            "Array arr1:  [1 2 3 4 5]\n",
            "Array arr2:  [5 4 3 2 1]\n",
            "Result array:  [ 1 16 27 16  5]\n"
          ]
        }
      ]
    },
    {
      "cell_type": "code",
      "source": [
        "# 56. Write a function that counts the occurrences of a specific substring within a NumPy array of strings.\n",
        "#     arr = np.array(['hello', 'world', 'hello', 'numpy', 'hello'])\n",
        "\n",
        "# Code\n",
        "\n",
        "import numpy as np\n",
        "\n",
        "def count_substring(arr, substring):\n",
        "\n",
        "    return np.sum(np.char.find(arr, substring) >= 0)\n",
        "\n",
        "arr = np.array(['hello', 'world', 'hello', 'numpy', 'hello'])\n",
        "substring = 'hello'\n",
        "\n",
        "result = count_substring(arr, substring)\n",
        "\n",
        "print(\"Array: \", arr)\n",
        "print(\"Substring: \", substring)\n",
        "print(\"Number of occurrences: \", result)"
      ],
      "metadata": {
        "colab": {
          "base_uri": "https://localhost:8080/"
        },
        "id": "8YRt4m4UkDpW",
        "outputId": "c4185220-8cac-48f0-9bc7-8d02818037af"
      },
      "execution_count": 57,
      "outputs": [
        {
          "output_type": "stream",
          "name": "stdout",
          "text": [
            "Array:  ['hello' 'world' 'hello' 'numpy' 'hello']\n",
            "Substring:  hello\n",
            "Number of occurrences:  3\n"
          ]
        }
      ]
    },
    {
      "cell_type": "code",
      "source": [
        "# 57. Write a function that extracts uppercase characters from a NumPy array of strings.\n",
        "#     arr = np.array(['Hello', 'World', 'OpenAI', 'GPT'])\n",
        "\n",
        "# Code\n",
        "\n",
        "import numpy as np\n",
        "\n",
        "def extract_uppercase_characters(arr):\n",
        "\n",
        "    uppercase_characters = []\n",
        "    for string in arr:\n",
        "        for char in string:\n",
        "            if char.isupper():\n",
        "                uppercase_characters.append(char)\n",
        "    return uppercase_characters\n",
        "\n",
        "string_array = np.array([\"Hello World\", \"NumPy Arrays\", \"OpenAI GPT-3\", \"Data Science\"])\n",
        "print(\"Original array of strings:\")\n",
        "print(string_array)\n",
        "\n",
        "uppercase_characters = extract_uppercase_characters(string_array)\n",
        "print(\"\\nUppercase characters extracted:\")\n",
        "print(uppercase_characters)"
      ],
      "metadata": {
        "colab": {
          "base_uri": "https://localhost:8080/"
        },
        "id": "7RmILKngkSgZ",
        "outputId": "c1601a12-6741-4fdd-f5a0-26d27a3d5544"
      },
      "execution_count": 58,
      "outputs": [
        {
          "output_type": "stream",
          "name": "stdout",
          "text": [
            "Original array of strings:\n",
            "['Hello World' 'NumPy Arrays' 'OpenAI GPT-3' 'Data Science']\n",
            "\n",
            "Uppercase characters extracted:\n",
            "['H', 'W', 'N', 'P', 'A', 'O', 'A', 'I', 'G', 'P', 'T', 'D', 'S']\n"
          ]
        }
      ]
    },
    {
      "cell_type": "code",
      "source": [
        "# 58. Write a function that replaces occurrences of a substring in a NumPy array of strings with a new string.\n",
        "#     arr = np.array(['apple', 'banana', 'grape', 'pineapple'])\n",
        "\n",
        "# Code\n",
        "\n",
        "import numpy as np\n",
        "\n",
        "def replace_substring(arr, old_substring, new_substring):\n",
        "\n",
        "    return np.char.replace(arr, old_substring, new_substring)\n",
        "\n",
        "arr = np.array(['apple', 'banana', 'grape', 'pineapple'])\n",
        "\n",
        "result = replace_substring(arr, 'apple', 'orange')\n",
        "\n",
        "print(\"Array: \", arr)\n",
        "print(\"Replaced array: \", result)"
      ],
      "metadata": {
        "colab": {
          "base_uri": "https://localhost:8080/"
        },
        "id": "Svyzr9P1kc51",
        "outputId": "11d2b797-1d46-457b-aeda-e6c130967df2"
      },
      "execution_count": 59,
      "outputs": [
        {
          "output_type": "stream",
          "name": "stdout",
          "text": [
            "Array:  ['apple' 'banana' 'grape' 'pineapple']\n",
            "Replaced array:  ['orange' 'banana' 'grape' 'pineorange']\n"
          ]
        }
      ]
    },
    {
      "cell_type": "code",
      "source": [
        "# 59. Write a function that concatenates strings in a NumPy array element-wise.\n",
        "#     arr1 = np.array(['Hello', 'World'])\n",
        "#     arr2 = np.array(['Open', 'AI'])\n",
        "\n",
        "# Code\n",
        "\n",
        "\n",
        "import numpy as np\n",
        "\n",
        "def concatenate_strings(arr1, arr2):\n",
        "\n",
        "    return np.char.add(arr1, arr2)\n",
        "\n",
        "arr1 = np.array(['Hello', 'World'])\n",
        "arr2 = np.array(['Open', 'AI'])\n",
        "\n",
        "result = concatenate_strings(arr1, arr2)\n",
        "\n",
        "print(\"Array 1: \", arr1)\n",
        "print(\"Array 2: \", arr2)\n",
        "print(\"Concatenated array: \", result)"
      ],
      "metadata": {
        "colab": {
          "base_uri": "https://localhost:8080/"
        },
        "id": "l3Udie3Qkko0",
        "outputId": "b21ded59-2ce5-4c0e-b05f-1bac1da1a32f"
      },
      "execution_count": 60,
      "outputs": [
        {
          "output_type": "stream",
          "name": "stdout",
          "text": [
            "Array 1:  ['Hello' 'World']\n",
            "Array 2:  ['Open' 'AI']\n",
            "Concatenated array:  ['HelloOpen' 'WorldAI']\n"
          ]
        }
      ]
    },
    {
      "cell_type": "code",
      "source": [
        "# 60. Write a function that finds the length of the longest string in a NumPy array.\n",
        "#     arr = np.array(['apple', 'banana', 'grape', 'pineapple'])\n",
        "\n",
        "# Code\n",
        "\n",
        "import numpy as np\n",
        "\n",
        "def longest_string_length(arr):\n",
        "\n",
        "    return np.max(np.char.str_len(arr))\n",
        "\n",
        "arr = np.array(['apple', 'banana', 'grape', 'pineapple'])\n",
        "\n",
        "result = longest_string_length(arr)\n",
        "\n",
        "print(\"Array: \", arr)\n",
        "print(\"Length of longest string: \", result)"
      ],
      "metadata": {
        "colab": {
          "base_uri": "https://localhost:8080/"
        },
        "id": "2PdQpe_MlYZT",
        "outputId": "55be50a9-562a-4eb5-f867-3654ebd17f44"
      },
      "execution_count": 61,
      "outputs": [
        {
          "output_type": "stream",
          "name": "stdout",
          "text": [
            "Array:  ['apple' 'banana' 'grape' 'pineapple']\n",
            "Length of longest string:  9\n"
          ]
        }
      ]
    },
    {
      "cell_type": "code",
      "source": [
        "# 61. Create a dataset of 100 random integers between 1 and 1000. Compute the mean, median, variance, and standard deviation of the dataset using NumPy's functions.\n",
        "\n",
        "# Code\n",
        "\n",
        "import numpy as np\n",
        "\n",
        "dataset = np.random.randint(1, 1001, size=100)\n",
        "\n",
        "mean = np.mean(dataset)\n",
        "median = np.median(dataset)\n",
        "variance = np.var(dataset)\n",
        "std_deviation = np.std(dataset)\n",
        "\n",
        "print(\"Dataset: \", dataset)\n",
        "print(\"Mean: \", mean)\n",
        "print(\"Median: \", median)\n",
        "print(\"Variance: \", variance)\n",
        "print(\"Standard Deviation: \", std_deviation)"
      ],
      "metadata": {
        "colab": {
          "base_uri": "https://localhost:8080/"
        },
        "id": "ixdrg2JnmGlp",
        "outputId": "175943f2-19fd-4d1f-fc65-6f170f02cd8d"
      },
      "execution_count": 62,
      "outputs": [
        {
          "output_type": "stream",
          "name": "stdout",
          "text": [
            "Dataset:  [821 760 766 296 982  66 512 148 727 536 715 938 151 332 498 221 123 139\n",
            " 893 181 314 487 605 899   7  52 283 621 654 785 535 560 674 371  76 207\n",
            " 708 835 538 654 811 983 305 885 656 166 791 431 735 663 843 332 542 324\n",
            " 180 373 657 897 496 660 771 525 245  66 888 250  37 441 216 545 939 120\n",
            " 390 408 760 711 663 980 369 362 480 931 391 202 195 175 271 904 469 464\n",
            " 754 238 517 464 655 647 584 859 794 517]\n",
            "Mean:  515.97\n",
            "Median:  521.0\n",
            "Variance:  72019.4891\n",
            "Standard Deviation:  268.3644706364835\n"
          ]
        }
      ]
    },
    {
      "cell_type": "code",
      "source": [
        "# 62. Generate an array of 50 random numbers between 1 and 100. Find the 25th and 75th percentiles of the dataset.\n",
        "\n",
        "# Code\n",
        "\n",
        "import numpy as np\n",
        "\n",
        "dataset = np.random.randint(1, 101, size=50)\n",
        "\n",
        "q1 = np.percentile(dataset, 25)\n",
        "q3 = np.percentile(dataset, 75)\n",
        "\n",
        "print(\"Dataset: \", dataset)\n",
        "print(\"25th percentile: \", q1)\n",
        "print(\"75th percentile: \", q3)"
      ],
      "metadata": {
        "colab": {
          "base_uri": "https://localhost:8080/"
        },
        "id": "N6ZVnTz9mSZA",
        "outputId": "e2083465-c9a7-4d96-fda4-64f4ac70ef70"
      },
      "execution_count": 63,
      "outputs": [
        {
          "output_type": "stream",
          "name": "stdout",
          "text": [
            "Dataset:  [44  1 91 61 37 90 58 93 15 73 12 80 33  5  7 30 22 47 17 55 33 18 65 74\n",
            " 16 53 12 95 54 80 42 84 25  4 31 22 56 64 55 27 79 87 69 59 98 39 73 24\n",
            " 79 20]\n",
            "25th percentile:  22.5\n",
            "75th percentile:  73.0\n"
          ]
        }
      ]
    },
    {
      "cell_type": "code",
      "source": [
        "# 63. Create two arrays representing two sets of variables. Compute the correlation coefficient between these arrays using NumPy's corrcoef function.\n",
        "\n",
        "# Code\n",
        "\n",
        "import numpy as np\n",
        "\n",
        "array1 = np.array([1, 2, 3, 4, 5])\n",
        "array2 = np.array([2, 3, 5, 6, 7])\n",
        "\n",
        "result = np.corrcoef(array1, array2)[0, 1]\n",
        "\n",
        "print(\"Array 1: \", array1)\n",
        "print(\"Array 2: \", array2)\n",
        "print(\"Correlation coefficient: \", result)"
      ],
      "metadata": {
        "colab": {
          "base_uri": "https://localhost:8080/"
        },
        "id": "dxX6c62OnjHM",
        "outputId": "fd3601e1-d070-4e52-9011-68ff0c03d500"
      },
      "execution_count": 64,
      "outputs": [
        {
          "output_type": "stream",
          "name": "stdout",
          "text": [
            "Array 1:  [1 2 3 4 5]\n",
            "Array 2:  [2 3 5 6 7]\n",
            "Correlation coefficient:  0.9912407071619304\n"
          ]
        }
      ]
    },
    {
      "cell_type": "code",
      "source": [
        "# 64. Create two matrices and perform matrix multiplication using NumPy's `dot` function.\n",
        "\n",
        "# Code\n",
        "\n",
        "import numpy as np\n",
        "\n",
        "matrix_a = np.array([[1, 2], [3, 4]])\n",
        "matrix_b = np.array([[5, 6], [7, 8]])\n",
        "\n",
        "print(\"Matrix A:\")\n",
        "print(matrix_a)\n",
        "print(\"\\nMatrix B:\")\n",
        "print(matrix_b)\n",
        "\n",
        "result = np.dot(matrix_a, matrix_b)\n",
        "\n",
        "print(\"\\nResult of Matrix Multiplication:\")\n",
        "print(result)\n"
      ],
      "metadata": {
        "colab": {
          "base_uri": "https://localhost:8080/"
        },
        "id": "U60mOGiumXRx",
        "outputId": "a380aa9d-6ef8-4b32-909f-4027ecd0efe8"
      },
      "execution_count": 65,
      "outputs": [
        {
          "output_type": "stream",
          "name": "stdout",
          "text": [
            "Matrix A:\n",
            "[[1 2]\n",
            " [3 4]]\n",
            "\n",
            "Matrix B:\n",
            "[[5 6]\n",
            " [7 8]]\n",
            "\n",
            "Result of Matrix Multiplication:\n",
            "[[19 22]\n",
            " [43 50]]\n"
          ]
        }
      ]
    },
    {
      "cell_type": "code",
      "source": [
        "# 65. Create an array of 50 integers between 10 and 1000. Calculate the 10th, 50th (median), and 90th percentiles along with the first and third quartiles.\n",
        "\n",
        "# Code\n",
        "\n",
        "import numpy as np\n",
        "\n",
        "array = np.random.randint(10, 1001, size=50)\n",
        "\n",
        "p10 = np.percentile(array, 10)\n",
        "p50 = np.percentile(array, 50)\n",
        "p90 = np.percentile(array, 90)\n",
        "\n",
        "q1 = np.percentile(array, 25)\n",
        "q3 = np.percentile(array, 75)\n",
        "\n",
        "print(\"Array:\")\n",
        "print(array)\n",
        "print(\"\\nPercentiles:\")\n",
        "print(\"10th percentile: \", p10)\n",
        "print(\"50th percentile (median): \", p50)\n",
        "print(\"90th percentile: \", p90)\n",
        "print(\"\\nQuartiles:\")\n",
        "print(\"1st quartile: \", q1)\n",
        "print(\"3rd quartile: \", q3)"
      ],
      "metadata": {
        "colab": {
          "base_uri": "https://localhost:8080/"
        },
        "id": "6VbxcWVgoTIv",
        "outputId": "e343cf90-e473-4ed4-cb8b-8dc6b2a606ad"
      },
      "execution_count": 66,
      "outputs": [
        {
          "output_type": "stream",
          "name": "stdout",
          "text": [
            "Array:\n",
            "[966 141 853 411 950 158  47 600 232 207 753 392 879  22 692 906 441 159\n",
            " 815 854 564 593 249  55 507 183 702 203 777 123 153 743 506 936 984 988\n",
            " 912 216 327 871 712 309 561 101 151 301 648 875 643 967]\n",
            "\n",
            "Percentiles:\n",
            "10th percentile:  139.20000000000002\n",
            "50th percentile (median):  562.5\n",
            "90th percentile:  937.4\n",
            "\n",
            "Quartiles:\n",
            "1st quartile:  209.25\n",
            "3rd quartile:  843.5\n"
          ]
        }
      ]
    },
    {
      "cell_type": "code",
      "source": [
        "# 66. Create a NumPy array of integers and find the index of a specific element.\n",
        "\n",
        "# Code\n",
        "\n",
        "import numpy as np\n",
        "\n",
        "array = np.array([1, 2, 3, 4, 5, 6, 7, 8, 9, 10])\n",
        "\n",
        "index = np.where(array == 7)[0][0]\n",
        "\n",
        "print(\"Array:\")\n",
        "print(array)\n",
        "print(\"\\nIndex of 7: \", index)"
      ],
      "metadata": {
        "colab": {
          "base_uri": "https://localhost:8080/"
        },
        "id": "EEg-4xwJqIO1",
        "outputId": "e0df5eba-41ac-4b37-ddfc-f8ca8f7d4058"
      },
      "execution_count": 67,
      "outputs": [
        {
          "output_type": "stream",
          "name": "stdout",
          "text": [
            "Array:\n",
            "[ 1  2  3  4  5  6  7  8  9 10]\n",
            "\n",
            "Index of 7:  6\n"
          ]
        }
      ]
    },
    {
      "cell_type": "code",
      "source": [
        "# 67. Generate a random NumPy array and sort it in ascending order.\n",
        "\n",
        "# Code\n",
        "\n",
        "import numpy as np\n",
        "\n",
        "array = np.random.rand(10)\n",
        "\n",
        "sorted_array = np.sort(array)\n",
        "\n",
        "print(\"Original array:\")\n",
        "print(array)\n",
        "print(\"\\nSorted array:\")\n",
        "print(sorted_array)"
      ],
      "metadata": {
        "colab": {
          "base_uri": "https://localhost:8080/"
        },
        "id": "alkptTBCrajB",
        "outputId": "5374ac3d-adee-4174-acac-d4ac4fec3b09"
      },
      "execution_count": 68,
      "outputs": [
        {
          "output_type": "stream",
          "name": "stdout",
          "text": [
            "Original array:\n",
            "[0.30848707 0.44881926 0.37487957 0.93864115 0.65860272 0.89827101\n",
            " 0.47654533 0.33222585 0.73068542 0.02240902]\n",
            "\n",
            "Sorted array:\n",
            "[0.02240902 0.30848707 0.33222585 0.37487957 0.44881926 0.47654533\n",
            " 0.65860272 0.73068542 0.89827101 0.93864115]\n"
          ]
        }
      ]
    },
    {
      "cell_type": "code",
      "source": [
        "# 68. Filter elements >20 in the given NumPy array.\n",
        "#     arr = np.array([12, 25, 6, 42, 8, 30])\n",
        "\n",
        "# Code\n",
        "\n",
        "import numpy as np\n",
        "\n",
        "arr = np.array([12, 25, 6, 42, 8, 30])\n",
        "\n",
        "filtered_arr = arr[arr > 20]\n",
        "\n",
        "print(\"Original array:\")\n",
        "print(arr)\n",
        "print(\"\\nFiltered array:\")\n",
        "print(filtered_arr)"
      ],
      "metadata": {
        "colab": {
          "base_uri": "https://localhost:8080/"
        },
        "id": "rIaASayFsyLO",
        "outputId": "6d0f82b8-6929-45ea-a064-3b1494d9fcdd"
      },
      "execution_count": 69,
      "outputs": [
        {
          "output_type": "stream",
          "name": "stdout",
          "text": [
            "Original array:\n",
            "[12 25  6 42  8 30]\n",
            "\n",
            "Filtered array:\n",
            "[25 42 30]\n"
          ]
        }
      ]
    },
    {
      "cell_type": "code",
      "source": [
        "# 69. Filter elements which are divisible by 3 from a given NumPy array.\n",
        "#     arr = np.array([1, 5, 8, 12, 15])\n",
        "\n",
        "# Code\n",
        "\n",
        "import numpy as np\n",
        "\n",
        "arr = np.array([1, 5, 8, 12, 15])\n",
        "\n",
        "filtered_arr = arr[arr % 3 == 0]\n",
        "print(\"Original array:\")\n",
        "print(arr)\n",
        "print(\"\\nFiltered array:\")\n",
        "print(filtered_arr)"
      ],
      "metadata": {
        "colab": {
          "base_uri": "https://localhost:8080/"
        },
        "id": "icFHa1ZttnYL",
        "outputId": "366c27fc-92fb-475e-abf4-c4fe116d6389"
      },
      "execution_count": 70,
      "outputs": [
        {
          "output_type": "stream",
          "name": "stdout",
          "text": [
            "Original array:\n",
            "[ 1  5  8 12 15]\n",
            "\n",
            "Filtered array:\n",
            "[12 15]\n"
          ]
        }
      ]
    },
    {
      "cell_type": "code",
      "source": [
        "# 70. Filter elements which are ≥ 20 and ≤ 40 from a given NumPy array.\n",
        "#     arr = np.array([10, 20, 30, 40, 50])\n",
        "\n",
        "# Code\n",
        "\n",
        "import numpy as np\n",
        "\n",
        "arr = np.array([10, 20, 30, 40, 50])\n",
        "filtered_arr = arr[(arr >= 20) & (arr <= 40)]\n",
        "\n",
        "print(\"Original array:\")\n",
        "print(arr)\n",
        "print(\"\\nFiltered array:\")\n",
        "print(filtered_arr)"
      ],
      "metadata": {
        "colab": {
          "base_uri": "https://localhost:8080/"
        },
        "id": "cXUgIWoAuaxr",
        "outputId": "f6459f44-d343-4508-c4b8-49c97e68aa8d"
      },
      "execution_count": 71,
      "outputs": [
        {
          "output_type": "stream",
          "name": "stdout",
          "text": [
            "Original array:\n",
            "[10 20 30 40 50]\n",
            "\n",
            "Filtered array:\n",
            "[20 30 40]\n"
          ]
        }
      ]
    },
    {
      "cell_type": "code",
      "source": [
        "# 71. For the given NumPy array, check its byte order using the dtype attribute byteorder.\n",
        "#     arr = np.array([1, 2, 3])\n",
        "\n",
        "# Code\n",
        "\n",
        "import numpy as np\n",
        "arr = np.array([1, 2, 3])\n",
        "print(\"Original array:\")\n",
        "print(arr)\n",
        "\n",
        "byte_order = arr.dtype.byteorder\n",
        "print(\"\\nByte order of the array:\")\n",
        "print(byte_order)\n",
        "\n",
        "if byte_order == '<':\n",
        "    print(\"Little-endian\")\n",
        "elif byte_order == '>':\n",
        "    print(\"Big-endian\")\n",
        "else:\n",
        "    print(\"Native byte order (depends on system endianness)\")"
      ],
      "metadata": {
        "colab": {
          "base_uri": "https://localhost:8080/"
        },
        "id": "XUJXIZofv7WA",
        "outputId": "1ac8ffc4-72f7-42f4-c254-9ef2c60cda24"
      },
      "execution_count": 72,
      "outputs": [
        {
          "output_type": "stream",
          "name": "stdout",
          "text": [
            "Original array:\n",
            "[1 2 3]\n",
            "\n",
            "Byte order of the array:\n",
            "=\n",
            "Native byte order (depends on system endianness)\n"
          ]
        }
      ]
    },
    {
      "cell_type": "code",
      "source": [
        "# 72. For the given NumPy array, perform byte swapping in place using 'byteswap()`.\n",
        "#     arr = np.array ([1, 2, 3], dtype=np.int32)\n",
        "\n",
        "# Code\n",
        "\n",
        "import numpy as np\n",
        "\n",
        "arr = np.array([1, 2, 3], dtype=np.int32)\n",
        "print(\"Original array:\")\n",
        "print(arr)\n",
        "\n",
        "arr.byteswap(True)\n",
        "print(\"\\nArray after byte swapping:\")\n",
        "print(arr)"
      ],
      "metadata": {
        "colab": {
          "base_uri": "https://localhost:8080/"
        },
        "id": "NWBrSrQ4v-Ds",
        "outputId": "5f6944c5-3138-45cf-f6bf-5b7890c0b98c"
      },
      "execution_count": 73,
      "outputs": [
        {
          "output_type": "stream",
          "name": "stdout",
          "text": [
            "Original array:\n",
            "[1 2 3]\n",
            "\n",
            "Array after byte swapping:\n",
            "[16777216 33554432 50331648]\n"
          ]
        }
      ]
    },
    {
      "cell_type": "code",
      "source": [
        "# 73. For the given NumPy array, swap its byte order without modifying the original array using `newbyteorder()`.\n",
        "#     arr = np.array ([1, 2, 3], dtype=np.int32)\n",
        "\n",
        "# Code\n",
        "\n",
        "import numpy as np\n",
        "\n",
        "arr = np.array([1, 2, 3], dtype=np.int32)\n",
        "\n",
        "swapped_arr = arr.newbyteorder()\n",
        "\n",
        "print(\"Original array:\", arr)\n",
        "print(\"Array with swapped byte order:\", swapped_arr)\n"
      ],
      "metadata": {
        "colab": {
          "base_uri": "https://localhost:8080/"
        },
        "id": "eahHnb_swYcn",
        "outputId": "6ec8d6c1-0ab3-4957-8f3e-f213b930a77f"
      },
      "execution_count": 74,
      "outputs": [
        {
          "output_type": "stream",
          "name": "stdout",
          "text": [
            "Original array: [1 2 3]\n",
            "Array with swapped byte order: [16777216 33554432 50331648]\n"
          ]
        }
      ]
    },
    {
      "cell_type": "code",
      "source": [
        "# 74. For the given NumPy array and swap its byte order conditionally based on system endianness using `newbyteorder()`.\n",
        "#     arr = np.array ([1, 2, 3], dtype=np.int32)\n",
        "\n",
        "# Code\n",
        "\n",
        "import numpy as np\n",
        "\n",
        "arr = np.array([1, 2, 3], dtype=np.int32)\n",
        "print(\"Original array:\")\n",
        "print(arr)\n",
        "\n",
        "if arr.dtype.byteorder == '<' or (arr.dtype.byteorder == '=' and np.little_endian):\n",
        "    swapped_array = arr.newbyteorder()\n",
        "    print(\"\\nSystem is little-endian. Swapping byte order.\")\n",
        "else:\n",
        "    swapped_array = arr.copy()\n",
        "    print(\"\\nSystem is big-endian. No need to swap byte order.\")\n",
        "\n",
        "print(\"\\nArray after conditional byte swapping:\")\n",
        "print(swapped_array)"
      ],
      "metadata": {
        "colab": {
          "base_uri": "https://localhost:8080/"
        },
        "id": "glBYJCbFw8WH",
        "outputId": "6317870a-adb5-47fd-af05-ce96de9952f1"
      },
      "execution_count": 75,
      "outputs": [
        {
          "output_type": "stream",
          "name": "stdout",
          "text": [
            "Original array:\n",
            "[1 2 3]\n",
            "\n",
            "System is little-endian. Swapping byte order.\n",
            "\n",
            "Array after conditional byte swapping:\n",
            "[16777216 33554432 50331648]\n"
          ]
        }
      ]
    },
    {
      "cell_type": "code",
      "source": [
        "# 75. For the given NumPy array, check if byte swapping is necessary for the current system using`dtype` attribute 'byteorder`.\n",
        "#     arr = np.array ([1, 2, 3], dtype=np.int32)\n",
        "\n",
        "# Code\n",
        "\n",
        "import numpy as np\n",
        "\n",
        "arr = np.array([1, 2, 3], dtype=np.int32)\n",
        "print(\"Original array:\")\n",
        "print(arr)\n",
        "\n",
        "if arr.dtype.byteorder == '<' or (arr.dtype.byteorder == '=' and np.little_endian):\n",
        "    print(\"\\nSystem is little-endian. Byte swapping is necessary.\")\n",
        "else:\n",
        "    print(\"\\nSystem is big-endian. Byte swapping is not necessary.\")"
      ],
      "metadata": {
        "colab": {
          "base_uri": "https://localhost:8080/"
        },
        "id": "DySaasrhxXN_",
        "outputId": "78752320-06de-4a6f-8406-73b61f4a082c"
      },
      "execution_count": 76,
      "outputs": [
        {
          "output_type": "stream",
          "name": "stdout",
          "text": [
            "Original array:\n",
            "[1 2 3]\n",
            "\n",
            "System is little-endian. Byte swapping is necessary.\n"
          ]
        }
      ]
    },
    {
      "cell_type": "code",
      "source": [
        "# 76. Create a NumPy array `arr1` with values from 1 to 10. Create a copy of `arr1` named `copy_arr` and modify an element in `copy_arr`. Check if modifying `copy_arr` affects `arr1`.\n",
        "\n",
        "# Code\n",
        "\n",
        "import numpy as np\n",
        "arr1 = np.arange(1, 11)\n",
        "\n",
        "copy_arr = arr1.copy()\n",
        "copy_arr[0] = 100\n",
        "\n",
        "print(\"Original arr1:\", arr1)\n",
        "print(\"Modified copy_arr:\", copy_arr)\n"
      ],
      "metadata": {
        "colab": {
          "base_uri": "https://localhost:8080/"
        },
        "id": "lf-1faZixicQ",
        "outputId": "01b6c4e6-f53f-43ab-b421-45888efed53f"
      },
      "execution_count": 77,
      "outputs": [
        {
          "output_type": "stream",
          "name": "stdout",
          "text": [
            "Original arr1: [ 1  2  3  4  5  6  7  8  9 10]\n",
            "Modified copy_arr: [100   2   3   4   5   6   7   8   9  10]\n"
          ]
        }
      ]
    },
    {
      "cell_type": "code",
      "source": [
        "# 77. Create a 2D NumPy array `matrix` of shape (3, 3) with random integers. Extract a slice `view_slice` from  the matrix. Modify an element in `view_slice` and observe if it changes the original `matrix`.\n",
        "\n",
        "# Code\n",
        "\n",
        "import numpy as np\n",
        "\n",
        "matrix = np.random.randint(0, 10, size=(3, 3))\n",
        "view_slice = matrix[:2, :2]\n",
        "\n",
        "print(\"Original matrix:\")\n",
        "print(matrix)\n",
        "\n",
        "print(\"\\nSlice from the original matrix:\")\n",
        "print(view_slice)\n",
        "\n",
        "view_slice[0, 0] = 99\n",
        "\n",
        "print(\"\\nModified slice:\")\n",
        "print(view_slice)\n",
        "\n",
        "print(\"\\nOriginal matrix after modifying the slice:\")\n",
        "print(matrix)\n"
      ],
      "metadata": {
        "colab": {
          "base_uri": "https://localhost:8080/"
        },
        "id": "kbXRrOhdyCb1",
        "outputId": "a8c967c4-8388-4a19-b321-000bc8f468df"
      },
      "execution_count": 78,
      "outputs": [
        {
          "output_type": "stream",
          "name": "stdout",
          "text": [
            "Original matrix:\n",
            "[[5 7 3]\n",
            " [6 9 3]\n",
            " [8 6 5]]\n",
            "\n",
            "Slice from the original matrix:\n",
            "[[5 7]\n",
            " [6 9]]\n",
            "\n",
            "Modified slice:\n",
            "[[99  7]\n",
            " [ 6  9]]\n",
            "\n",
            "Original matrix after modifying the slice:\n",
            "[[99  7  3]\n",
            " [ 6  9  3]\n",
            " [ 8  6  5]]\n"
          ]
        }
      ]
    },
    {
      "cell_type": "code",
      "source": [
        "# 78. Create a NumPy array array_a of shape (4, 3) with sequential integers from 1 to 12. Extract a slice view_b from array_a and broadcast the addition of 5 to view_b. Check if it alters the original array_a.\n",
        "\n",
        "# Code\n",
        "\n",
        "import numpy as np\n",
        "\n",
        "array_a = np.arange(1, 13).reshape(4, 3)\n",
        "print(\"Original array (array_a):\")\n",
        "print(array_a)\n",
        "\n",
        "view_b = array_a[1:3, :]\n",
        "print(\"\\nExtracted slice (view_b):\")\n",
        "print(view_b)\n",
        "\n",
        "view_b += 5\n",
        "print(\"\\nModified slice (view_b) after broadcasting addition of 5:\")\n",
        "print(view_b)\n",
        "\n",
        "print(\"\\nOriginal array (array_a) after modifying the slice:\")\n",
        "print(array_a)"
      ],
      "metadata": {
        "colab": {
          "base_uri": "https://localhost:8080/"
        },
        "id": "lTSoADOsyk4M",
        "outputId": "07b9c7f0-2b63-470f-9f75-2de59b7116b2"
      },
      "execution_count": 79,
      "outputs": [
        {
          "output_type": "stream",
          "name": "stdout",
          "text": [
            "Original array (array_a):\n",
            "[[ 1  2  3]\n",
            " [ 4  5  6]\n",
            " [ 7  8  9]\n",
            " [10 11 12]]\n",
            "\n",
            "Extracted slice (view_b):\n",
            "[[4 5 6]\n",
            " [7 8 9]]\n",
            "\n",
            "Modified slice (view_b) after broadcasting addition of 5:\n",
            "[[ 9 10 11]\n",
            " [12 13 14]]\n",
            "\n",
            "Original array (array_a) after modifying the slice:\n",
            "[[ 1  2  3]\n",
            " [ 9 10 11]\n",
            " [12 13 14]\n",
            " [10 11 12]]\n"
          ]
        }
      ]
    },
    {
      "cell_type": "code",
      "source": [
        "# 79. Create a NumPy array `orig_array` of shape (2, 4) with values from 1 to 8. Create a reshaped view `reshaped_view` of shape (4, 2) from orig_array. Modify an element in `reshaped_view` and check if it reflects changes in the original `orig_array`.\n",
        "\n",
        "# Code\n",
        "\n",
        "import numpy as np\n",
        "\n",
        "orig_array = np.arange(1, 9).reshape(2, 4)\n",
        "print(\"Original array (orig_array):\")\n",
        "print(orig_array)\n",
        "\n",
        "reshaped_view = orig_array.reshape(4, 2)\n",
        "print(\"\\nReshaped view (reshaped_view):\")\n",
        "print(reshaped_view)\n",
        "\n",
        "reshaped_view[0, 0] = 999\n",
        "print(\"\\nModified view (reshaped_view):\")\n",
        "print(reshaped_view)\n",
        "\n",
        "print(\"\\nOriginal array after modifying the view:\")\n",
        "print(orig_array)"
      ],
      "metadata": {
        "colab": {
          "base_uri": "https://localhost:8080/"
        },
        "id": "zaEhGd2hzQMK",
        "outputId": "39362f68-1a93-4621-9266-230003277d7d"
      },
      "execution_count": 80,
      "outputs": [
        {
          "output_type": "stream",
          "name": "stdout",
          "text": [
            "Original array (orig_array):\n",
            "[[1 2 3 4]\n",
            " [5 6 7 8]]\n",
            "\n",
            "Reshaped view (reshaped_view):\n",
            "[[1 2]\n",
            " [3 4]\n",
            " [5 6]\n",
            " [7 8]]\n",
            "\n",
            "Modified view (reshaped_view):\n",
            "[[999   2]\n",
            " [  3   4]\n",
            " [  5   6]\n",
            " [  7   8]]\n",
            "\n",
            "Original array after modifying the view:\n",
            "[[999   2   3   4]\n",
            " [  5   6   7   8]]\n"
          ]
        }
      ]
    },
    {
      "cell_type": "code",
      "source": [
        "# 80. Create a NumPy array data of shape (3, 4) with random integers. Extract a copy data_copy of elements greater than 5. Modify an element in data_copy and verify if it affects the original data.\n",
        "\n",
        "# Code\n",
        "\n",
        "import numpy as np\n",
        "\n",
        "data = np.random.randint(1, 10, size=(3, 4))\n",
        "print(\"Original array (data):\")\n",
        "print(data)\n",
        "\n",
        "data_copy = data[data > 5].copy()\n",
        "print(\"\\nCopy of elements greater than 5 (data_copy):\")\n",
        "print(data_copy)\n",
        "\n",
        "data_copy[0] = 999\n",
        "print(\"\\nModified copy (data_copy):\")\n",
        "print(data_copy)\n",
        "\n",
        "print(\"\\nOriginal array (data) after modifying the copy:\")\n",
        "print(data)"
      ],
      "metadata": {
        "colab": {
          "base_uri": "https://localhost:8080/"
        },
        "id": "kRCY3iwP0GhX",
        "outputId": "77404ac3-fe60-4200-8b17-c684565c860e"
      },
      "execution_count": 81,
      "outputs": [
        {
          "output_type": "stream",
          "name": "stdout",
          "text": [
            "Original array (data):\n",
            "[[6 1 5 8]\n",
            " [5 9 2 8]\n",
            " [5 8 1 2]]\n",
            "\n",
            "Copy of elements greater than 5 (data_copy):\n",
            "[6 8 9 8 8]\n",
            "\n",
            "Modified copy (data_copy):\n",
            "[999   8   9   8   8]\n",
            "\n",
            "Original array (data) after modifying the copy:\n",
            "[[6 1 5 8]\n",
            " [5 9 2 8]\n",
            " [5 8 1 2]]\n"
          ]
        }
      ]
    },
    {
      "cell_type": "code",
      "source": [
        "# 81. Create two matrices A and B of identical shape containing integers and perform addition and subtraction operations between them.\n",
        "\n",
        "# Code\n",
        "\n",
        "import numpy as np\n",
        "\n",
        "shape = (3, 3)\n",
        "A = np.random.randint(0, 10, shape)\n",
        "B = np.random.randint(0, 10, shape)\n",
        "\n",
        "addition_result = A + B\n",
        "subtraction_result = A - B\n",
        "\n",
        "print(\"Matrix A:\")\n",
        "print(A)\n",
        "print(\"\\nMatrix B:\")\n",
        "print(B)\n",
        "print(\"\\nAddition Result (A + B):\")\n",
        "print(addition_result)\n",
        "print(\"\\nSubtraction Result (A - B):\")\n",
        "print(subtraction_result)\n"
      ],
      "metadata": {
        "colab": {
          "base_uri": "https://localhost:8080/"
        },
        "id": "qngir46V0NIn",
        "outputId": "c5d042ba-7315-40ae-95d9-4e790af1af74"
      },
      "execution_count": 82,
      "outputs": [
        {
          "output_type": "stream",
          "name": "stdout",
          "text": [
            "Matrix A:\n",
            "[[8 4 4]\n",
            " [7 8 5]\n",
            " [3 4 0]]\n",
            "\n",
            "Matrix B:\n",
            "[[6 0 2]\n",
            " [8 6 0]\n",
            " [1 9 9]]\n",
            "\n",
            "Addition Result (A + B):\n",
            "[[14  4  6]\n",
            " [15 14  5]\n",
            " [ 4 13  9]]\n",
            "\n",
            "Subtraction Result (A - B):\n",
            "[[ 2  4  2]\n",
            " [-1  2  5]\n",
            " [ 2 -5 -9]]\n"
          ]
        }
      ]
    },
    {
      "cell_type": "code",
      "source": [
        "# 82. Generate two matrices `C` (3x2) and `D` (2x4) and perform matrix multiplication.\n",
        "\n",
        "# Code\n",
        "\n",
        "import numpy as np\n",
        "\n",
        "C = np.random.randint(1, 10, size=(3, 2))\n",
        "D = np.random.randint(1, 10, size=(2, 4))\n",
        "\n",
        "print(\"Matrix C:\")\n",
        "print(C)\n",
        "print(\"\\nMatrix D:\")\n",
        "print(D)\n",
        "\n",
        "result = np.dot(C, D)\n",
        "\n",
        "print(\"\\nResult of matrix multiplication:\")\n",
        "print(result)"
      ],
      "metadata": {
        "colab": {
          "base_uri": "https://localhost:8080/"
        },
        "id": "RohrH8C50tE8",
        "outputId": "cc51ecf7-1041-42bf-e7a8-f4ab43c2dbc4"
      },
      "execution_count": 83,
      "outputs": [
        {
          "output_type": "stream",
          "name": "stdout",
          "text": [
            "Matrix C:\n",
            "[[6 3]\n",
            " [6 7]\n",
            " [5 4]]\n",
            "\n",
            "Matrix D:\n",
            "[[8 6 1 9]\n",
            " [4 4 6 8]]\n",
            "\n",
            "Result of matrix multiplication:\n",
            "[[ 60  48  24  78]\n",
            " [ 76  64  48 110]\n",
            " [ 56  46  29  77]]\n"
          ]
        }
      ]
    },
    {
      "cell_type": "code",
      "source": [
        "# 83. Create a matrix E and find its transpose.\n",
        "\n",
        "# Code\n",
        "\n",
        "import numpy as np\n",
        "\n",
        "E = np.array([[1, 2, 3],\n",
        "              [4, 5, 6],\n",
        "              [7, 8, 9]])\n",
        "\n",
        "print(\"Matrix E:\")\n",
        "print(E)\n",
        "\n",
        "E_T = E.T\n",
        "\n",
        "print(\"Transpose of matrix E:\")\n",
        "print(E_T)"
      ],
      "metadata": {
        "colab": {
          "base_uri": "https://localhost:8080/"
        },
        "id": "OmSaoodm1MYn",
        "outputId": "3d2e3f04-750a-401b-c83c-87e05228abf6"
      },
      "execution_count": 84,
      "outputs": [
        {
          "output_type": "stream",
          "name": "stdout",
          "text": [
            "Matrix E:\n",
            "[[1 2 3]\n",
            " [4 5 6]\n",
            " [7 8 9]]\n",
            "Transpose of matrix E:\n",
            "[[1 4 7]\n",
            " [2 5 8]\n",
            " [3 6 9]]\n"
          ]
        }
      ]
    },
    {
      "cell_type": "code",
      "source": [
        "# 84. Generate a square matrix `F` and compute its determinant.\n",
        "\n",
        "# Code\n",
        "\n",
        "import numpy as np\n",
        "\n",
        "size = 4\n",
        "F = np.random.randint(0, 10, (size, size))\n",
        "\n",
        "determinant_F = np.linalg.det(F)\n",
        "\n",
        "print(\"Matrix F:\")\n",
        "print(F)\n",
        "print(\"\\nDeterminant of F:\", determinant_F)\n"
      ],
      "metadata": {
        "colab": {
          "base_uri": "https://localhost:8080/"
        },
        "id": "mJh-xoUL1a6f",
        "outputId": "7d5fe35d-7fdf-4a11-b88b-7bf096f8709e"
      },
      "execution_count": 85,
      "outputs": [
        {
          "output_type": "stream",
          "name": "stdout",
          "text": [
            "Matrix F:\n",
            "[[5 4 1 2]\n",
            " [6 1 4 5]\n",
            " [3 6 6 9]\n",
            " [4 0 4 5]]\n",
            "\n",
            "Determinant of F: -21.000000000000195\n"
          ]
        }
      ]
    },
    {
      "cell_type": "code",
      "source": [
        "# 85. Create a square matrix `G` and find its inverse.\n",
        "\n",
        "# Code\n",
        "\n",
        "import numpy as np\n",
        "\n",
        "G = np.random.randint(1, 10, size=(3, 3))\n",
        "print(\"Matrix G:\")\n",
        "print(G)\n",
        "\n",
        "inverse_G = np.linalg.inv(G)\n",
        "\n",
        "print(\"\\nInverse of matrix G:\")\n",
        "print(inverse_G)\n"
      ],
      "metadata": {
        "colab": {
          "base_uri": "https://localhost:8080/"
        },
        "id": "SYXSAqQJ114V",
        "outputId": "552ddc1c-de58-487e-cde5-1f4b57f45867"
      },
      "execution_count": 86,
      "outputs": [
        {
          "output_type": "stream",
          "name": "stdout",
          "text": [
            "Matrix G:\n",
            "[[9 2 3]\n",
            " [2 9 3]\n",
            " [4 8 3]]\n",
            "\n",
            "Inverse of matrix G:\n",
            "[[-0.14285714 -0.85714286  1.        ]\n",
            " [-0.28571429 -0.71428571  1.        ]\n",
            " [ 0.95238095  3.04761905 -3.66666667]]\n"
          ]
        }
      ]
    }
  ]
}